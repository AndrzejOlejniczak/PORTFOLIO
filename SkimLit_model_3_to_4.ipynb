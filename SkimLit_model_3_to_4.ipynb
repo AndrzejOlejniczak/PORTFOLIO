{
  "cells": [
    {
      "cell_type": "markdown",
      "metadata": {
        "id": "view-in-github",
        "colab_type": "text"
      },
      "source": [
        "<a href=\"https://colab.research.google.com/github/AndrzejOlejniczak/PORTFOLIO/blob/main/SkimLit_model_3_to_4.ipynb\" target=\"_parent\"><img src=\"https://colab.research.google.com/assets/colab-badge.svg\" alt=\"Open In Colab\"/></a>"
      ]
    },
    {
      "cell_type": "markdown",
      "metadata": {
        "id": "qdlTtKw9srGU"
      },
      "source": [
        "# *Part TWO of the project*"
      ]
    },
    {
      "cell_type": "markdown",
      "metadata": {
        "id": "1pP9RQjhbhSz"
      },
      "source": [
        "## Get the data"
      ]
    },
    {
      "cell_type": "code",
      "execution_count": null,
      "metadata": {
        "colab": {
          "base_uri": "https://localhost:8080/"
        },
        "id": "A1lQO4vXbXzV",
        "outputId": "25f50843-4de4-4d64-cb7d-9184555b9ac3"
      },
      "outputs": [
        {
          "output_type": "stream",
          "name": "stdout",
          "text": [
            "Cloning into 'pubmed-rct'...\n",
            "remote: Enumerating objects: 33, done.\u001b[K\n",
            "remote: Counting objects: 100% (8/8), done.\u001b[K\n",
            "remote: Compressing objects: 100% (3/3), done.\u001b[K\n",
            "remote: Total 33 (delta 5), reused 5 (delta 5), pack-reused 25\u001b[K\n",
            "Unpacking objects: 100% (33/33), 177.08 MiB | 9.19 MiB/s, done.\n"
          ]
        }
      ],
      "source": [
        "!git clone https://github.com/Franck-Dernoncourt/pubmed-rct"
      ]
    },
    {
      "cell_type": "code",
      "execution_count": null,
      "metadata": {
        "id": "n-0_rtNccFdV"
      },
      "outputs": [],
      "source": [
        "# Setup data dir\n",
        "data_dir = '/content/pubmed-rct/PubMed_20k_RCT_numbers_replaced_with_at_sign'"
      ]
    },
    {
      "cell_type": "code",
      "execution_count": null,
      "metadata": {
        "id": "-fsiQqz1c3MN"
      },
      "outputs": [],
      "source": [
        "# Create filenames\n",
        "import os\n",
        "filepaths = [data_dir + '/'+ filename for filename in os.listdir(data_dir)]"
      ]
    },
    {
      "cell_type": "code",
      "execution_count": null,
      "metadata": {
        "colab": {
          "base_uri": "https://localhost:8080/"
        },
        "id": "VB6zoPMFenin",
        "outputId": "77e0e0ed-e5eb-40ca-98d9-f510488de59f"
      },
      "outputs": [
        {
          "output_type": "execute_result",
          "data": {
            "text/plain": [
              "['/content/pubmed-rct/PubMed_20k_RCT_numbers_replaced_with_at_sign/train.txt',\n",
              " '/content/pubmed-rct/PubMed_20k_RCT_numbers_replaced_with_at_sign/dev.txt',\n",
              " '/content/pubmed-rct/PubMed_20k_RCT_numbers_replaced_with_at_sign/test.txt']"
            ]
          },
          "metadata": {},
          "execution_count": 4
        }
      ],
      "source": [
        "filepaths"
      ]
    },
    {
      "cell_type": "markdown",
      "metadata": {
        "id": "e0TtIWyLdXZX"
      },
      "source": [
        "## Inspect the data"
      ]
    },
    {
      "cell_type": "markdown",
      "metadata": {
        "id": "LCTMutAVds2H"
      },
      "source": [
        "### Create a helper function"
      ]
    },
    {
      "cell_type": "code",
      "execution_count": null,
      "metadata": {
        "id": "DCtU3aB5dKkw"
      },
      "outputs": [],
      "source": [
        "def get_lines(filename):\n",
        "  '''\n",
        "  Reads text using filename and return lines of a text as a list.\n",
        "  Args:\n",
        "    filename: (str) containd filepath\n",
        "  Returns:\n",
        "    A list of strings.\n",
        "  '''\n",
        "  with open(filename, 'r') as f:\n",
        "    return f.readlines()"
      ]
    },
    {
      "cell_type": "code",
      "execution_count": null,
      "metadata": {
        "id": "9xPEfR8weZDJ"
      },
      "outputs": [],
      "source": [
        "train_lines = get_lines(filepaths[0])"
      ]
    },
    {
      "cell_type": "markdown",
      "metadata": {
        "id": "NgB4a_QlfS6L"
      },
      "source": [
        "### Check loaded data"
      ]
    },
    {
      "cell_type": "code",
      "execution_count": null,
      "metadata": {
        "colab": {
          "base_uri": "https://localhost:8080/"
        },
        "id": "LtS7WBZUeswJ",
        "outputId": "4acdec65-45f7-4751-da0d-167cc6813d89"
      },
      "outputs": [
        {
          "output_type": "execute_result",
          "data": {
            "text/plain": [
              "['###24293578\\n',\n",
              " 'OBJECTIVE\\tTo investigate the efficacy of @ weeks of daily low-dose oral prednisolone in improving pain , mobility , and systemic low-grade inflammation in the short term and whether the effect would be sustained at @ weeks in older adults with moderate to severe knee osteoarthritis ( OA ) .\\n',\n",
              " 'METHODS\\tA total of @ patients with primary knee OA were randomized @:@ ; @ received @ mg/day of prednisolone and @ received placebo for @ weeks .\\n',\n",
              " 'METHODS\\tOutcome measures included pain reduction and improvement in function scores and systemic inflammation markers .\\n',\n",
              " 'METHODS\\tPain was assessed using the visual analog pain scale ( @-@ mm ) .\\n',\n",
              " 'METHODS\\tSecondary outcome measures included the Western Ontario and McMaster Universities Osteoarthritis Index scores , patient global assessment ( PGA ) of the severity of knee OA , and @-min walk distance ( @MWD ) .\\n',\n",
              " 'METHODS\\tSerum levels of interleukin @ ( IL-@ ) , IL-@ , tumor necrosis factor ( TNF ) - , and high-sensitivity C-reactive protein ( hsCRP ) were measured .\\n',\n",
              " 'RESULTS\\tThere was a clinically relevant reduction in the intervention group compared to the placebo group for knee pain , physical function , PGA , and @MWD at @ weeks .\\n',\n",
              " 'RESULTS\\tThe mean difference between treatment arms ( @ % CI ) was @ ( @-@ @ ) , p < @ ; @ ( @-@ @ ) , p < @ ; @ ( @-@ @ ) , p < @ ; and @ ( @-@ @ ) , p < @ , respectively .\\n',\n",
              " 'RESULTS\\tFurther , there was a clinically relevant reduction in the serum levels of IL-@ , IL-@ , TNF - , and hsCRP at @ weeks in the intervention group when compared to the placebo group .\\n',\n",
              " 'RESULTS\\tThese differences remained significant at @ weeks .\\n',\n",
              " 'RESULTS\\tThe Outcome Measures in Rheumatology Clinical Trials-Osteoarthritis Research Society International responder rate was @ % in the intervention group and @ % in the placebo group ( p < @ ) .\\n',\n",
              " 'CONCLUSIONS\\tLow-dose oral prednisolone had both a short-term and a longer sustained effect resulting in less knee pain , better physical function , and attenuation of systemic inflammation in older patients with knee OA ( ClinicalTrials.gov identifier NCT@ ) .\\n',\n",
              " '\\n',\n",
              " '###24854809\\n',\n",
              " 'BACKGROUND\\tEmotional eating is associated with overeating and the development of obesity .\\n',\n",
              " 'BACKGROUND\\tYet , empirical evidence for individual ( trait ) differences in emotional eating and cognitive mechanisms that contribute to eating during sad mood remain equivocal .\\n']"
            ]
          },
          "metadata": {},
          "execution_count": 7
        }
      ],
      "source": [
        "train_lines[:17]"
      ]
    },
    {
      "cell_type": "code",
      "execution_count": null,
      "metadata": {
        "colab": {
          "base_uri": "https://localhost:8080/"
        },
        "id": "Yiu_3x7de5wy",
        "outputId": "7d89de19-6f71-4168-ea21-62da157357ad"
      },
      "outputs": [
        {
          "output_type": "execute_result",
          "data": {
            "text/plain": [
              "210040"
            ]
          },
          "metadata": {},
          "execution_count": 8
        }
      ],
      "source": [
        "len(train_lines)"
      ]
    },
    {
      "cell_type": "markdown",
      "metadata": {
        "id": "EtAsgPznf9Yd"
      },
      "source": [
        "**The data is labeled but it isn't split to target / text pairs. We have to invent a way to parse and order it appropriatelly.**"
      ]
    },
    {
      "cell_type": "markdown",
      "metadata": {
        "id": "i8Y8iKS_f6Yy"
      },
      "source": [
        "## Prepare the data"
      ]
    },
    {
      "cell_type": "markdown",
      "metadata": {
        "id": "yy_sgi4lglgQ"
      },
      "source": [
        "Since we are looking for the a meaning of each sentence we can skip abstract signature lines like `'###24293578\\n'` and additional spacing lines `'\\n'`"
      ]
    },
    {
      "cell_type": "code",
      "execution_count": null,
      "metadata": {
        "id": "wWNa2MwcJuEe"
      },
      "outputs": [],
      "source": [
        "import numpy as np\n",
        "import pandas as pd"
      ]
    },
    {
      "cell_type": "code",
      "execution_count": null,
      "metadata": {
        "id": "1l2Di14Iz2NH"
      },
      "outputs": [],
      "source": [
        "def split_lines(lines):\n",
        "  train_data = []\n",
        "  train_data_with_nrows = []\n",
        "  last_counter = 0\n",
        "  counter = 0\n",
        "  for i, row in enumerate(lines):\n",
        "    if row[:3] != '\\n':\n",
        "      if row[:3] != '###':\n",
        "        target, text = row.split('\\t')[0], row.split('\\t')[1].strip('\\n')\n",
        "        train_data.append([counter, target, text])\n",
        "        counter+=1\n",
        "      else:\n",
        "        abstract_symbol = row.strip('\\n')\n",
        "        if i != 0:\n",
        "          counter=0\n",
        "    else:\n",
        "      for el in train_data[-counter:]:\n",
        "        train_data_with_nrows.append(el + [counter-1] + [abstract_symbol])\n",
        "  return train_data_with_nrows"
      ]
    },
    {
      "cell_type": "code",
      "execution_count": null,
      "metadata": {
        "colab": {
          "base_uri": "https://localhost:8080/"
        },
        "id": "RxtUSzzO90F1",
        "outputId": "07a9eb43-bad2-403a-92c1-cb124696a186"
      },
      "outputs": [
        {
          "output_type": "stream",
          "name": "stdout",
          "text": [
            "CPU times: user 757 ms, sys: 71.6 ms, total: 829 ms\n",
            "Wall time: 879 ms\n"
          ]
        }
      ],
      "source": [
        "%%time\n",
        "train_data = split_lines(get_lines(filepaths[0]))\n",
        "test_data = split_lines(get_lines(filepaths[1]))\n",
        "val_data = split_lines(get_lines(filepaths[2]))"
      ]
    },
    {
      "cell_type": "markdown",
      "metadata": {
        "id": "--KKCYv_Zqj8"
      },
      "source": [
        "### Create DataFrames for train, test and validation data"
      ]
    },
    {
      "cell_type": "code",
      "execution_count": null,
      "metadata": {
        "colab": {
          "base_uri": "https://localhost:8080/"
        },
        "id": "6_9ppWG_-IZN",
        "outputId": "f27b672e-d53d-4b5f-c193-f6eabf9a9106"
      },
      "outputs": [
        {
          "output_type": "execute_result",
          "data": {
            "text/plain": [
              "(    row       target                                               text  \\\n",
              " 0     0    OBJECTIVE  To investigate the efficacy of @ weeks of dail...   \n",
              " 1     1      METHODS  A total of @ patients with primary knee OA wer...   \n",
              " 2     2      METHODS  Outcome measures included pain reduction and i...   \n",
              " 3     3      METHODS  Pain was assessed using the visual analog pain...   \n",
              " 4     4      METHODS  Secondary outcome measures included the Wester...   \n",
              " 5     5      METHODS  Serum levels of interleukin @ ( IL-@ ) , IL-@ ...   \n",
              " 6     6      RESULTS  There was a clinically relevant reduction in t...   \n",
              " 7     7      RESULTS  The mean difference between treatment arms ( @...   \n",
              " 8     8      RESULTS  Further , there was a clinically relevant redu...   \n",
              " 9     9      RESULTS  These differences remained significant at @ we...   \n",
              " 10   10      RESULTS  The Outcome Measures in Rheumatology Clinical ...   \n",
              " 11   11  CONCLUSIONS  Low-dose oral prednisolone had both a short-te...   \n",
              " 12    0   BACKGROUND  Emotional eating is associated with overeating...   \n",
              " 13    1   BACKGROUND  Yet , empirical evidence for individual ( trai...   \n",
              " 14    2    OBJECTIVE  The aim of this study was to test if attention...   \n",
              " 15    3    OBJECTIVE  It was expected that emotional eating is predi...   \n",
              " 16    4      METHODS  Participants ( N = @ ) were randomly assigned ...   \n",
              " 17    5      METHODS  Attentional biases for high caloric foods were...   \n",
              " 18    6      METHODS  Self-reported emotional eating was assessed wi...   \n",
              " 19    7      RESULTS  Hierarchical multivariate regression modeling ...   \n",
              " \n",
              "     nrows     abstract  \n",
              " 0      11  ###24293578  \n",
              " 1      11  ###24293578  \n",
              " 2      11  ###24293578  \n",
              " 3      11  ###24293578  \n",
              " 4      11  ###24293578  \n",
              " 5      11  ###24293578  \n",
              " 6      11  ###24293578  \n",
              " 7      11  ###24293578  \n",
              " 8      11  ###24293578  \n",
              " 9      11  ###24293578  \n",
              " 10     11  ###24293578  \n",
              " 11     11  ###24293578  \n",
              " 12     10  ###24854809  \n",
              " 13     10  ###24854809  \n",
              " 14     10  ###24854809  \n",
              " 15     10  ###24854809  \n",
              " 16     10  ###24854809  \n",
              " 17     10  ###24854809  \n",
              " 18     10  ###24854809  \n",
              " 19     10  ###24854809  , 180040)"
            ]
          },
          "metadata": {},
          "execution_count": 12
        }
      ],
      "source": [
        "train_data_df = pd.DataFrame(train_data, columns = ['row', 'target', 'text', 'nrows', 'abstract'])\n",
        "train_data_df.head(20), len(train_data_df)"
      ]
    },
    {
      "cell_type": "markdown",
      "metadata": {
        "id": "nt4odSDp-H46"
      },
      "source": []
    },
    {
      "cell_type": "code",
      "execution_count": null,
      "metadata": {
        "colab": {
          "base_uri": "https://localhost:8080/"
        },
        "id": "Zh4ej7Y5iX8x",
        "outputId": "cff1e31e-b846-4e4b-d566-064908381b15"
      },
      "outputs": [
        {
          "output_type": "execute_result",
          "data": {
            "text/plain": [
              "(    row       target                                               text  \\\n",
              " 0     0   BACKGROUND  IgE sensitization to Aspergillus fumigatus and...   \n",
              " 1     1   BACKGROUND  It is not clear whether these patients would b...   \n",
              " 2     2    OBJECTIVE  We sought to determine whether a @-month cours...   \n",
              " 3     3      METHODS  Asthmatic patients who were IgE sensitized to ...   \n",
              " 4     4      METHODS  Primary outcomes were improvement in quality o...   \n",
              " 5     5      RESULTS              Sixty-five patients were randomized .   \n",
              " 6     6      RESULTS  Fifty-nine patients started treatment ( @ rece...   \n",
              " 7     7      RESULTS  Fifty-six patients took the full @ months of m...   \n",
              " 8     8      RESULTS  Between the voriconazole and placebo groups , ...   \n",
              " 9     9  CONCLUSIONS  We were unable to show a beneficial effect of ...   \n",
              " 10    0   BACKGROUND  Opioid antagonists ( e.g. , naltrexone ) and p...   \n",
              " 11    1   BACKGROUND  The use of higher doses to achieve greater eff...   \n",
              " 12    2   BACKGROUND  Combining naltrexone and alprazolam might safe...   \n",
              " 13    3    OBJECTIVE  The present pilot study tested the hypothesis ...   \n",
              " 14    4      METHODS  Eight nontreatment-seeking , stimulant-using i...   \n",
              " 15    5      METHODS  Subjective effects , psychomotor task performa...   \n",
              " 16    6      RESULTS  Oral d-amphetamine produced prototypical physi...   \n",
              " 17    7      RESULTS  Pretreatment with naltrexone , alprazolam , an...   \n",
              " 18    8      RESULTS  Naltrexone and alprazolam each significantly a...   \n",
              " 19    9      RESULTS  The combination attenuated a greater number of...   \n",
              " \n",
              "     nrows     abstract  \n",
              " 0       9  ###24290286  \n",
              " 1       9  ###24290286  \n",
              " 2       9  ###24290286  \n",
              " 3       9  ###24290286  \n",
              " 4       9  ###24290286  \n",
              " 5       9  ###24290286  \n",
              " 6       9  ###24290286  \n",
              " 7       9  ###24290286  \n",
              " 8       9  ###24290286  \n",
              " 9       9  ###24290286  \n",
              " 10     10  ###24464531  \n",
              " 11     10  ###24464531  \n",
              " 12     10  ###24464531  \n",
              " 13     10  ###24464531  \n",
              " 14     10  ###24464531  \n",
              " 15     10  ###24464531  \n",
              " 16     10  ###24464531  \n",
              " 17     10  ###24464531  \n",
              " 18     10  ###24464531  \n",
              " 19     10  ###24464531  , 30212)"
            ]
          },
          "metadata": {},
          "execution_count": 13
        }
      ],
      "source": [
        "test_data_df = pd.DataFrame(test_data, columns = ['row', 'target', 'text', 'nrows', 'abstract'])\n",
        "test_data_df.head(20), len(test_data_df)"
      ]
    },
    {
      "cell_type": "code",
      "execution_count": null,
      "metadata": {
        "colab": {
          "base_uri": "https://localhost:8080/"
        },
        "id": "6bOtNDqn_AK-",
        "outputId": "e34cb6d0-d6ef-4351-ae97-dd356e9da849"
      },
      "outputs": [
        {
          "output_type": "execute_result",
          "data": {
            "text/plain": [
              "(    row       target                                               text  \\\n",
              " 0     0   BACKGROUND  This study analyzed liver function abnormaliti...   \n",
              " 1     1      RESULTS  A post hoc analysis was conducted with the use...   \n",
              " 2     2      RESULTS  Liver function tests ( LFTs ) were measured at...   \n",
              " 3     3      RESULTS  Survival analyses were used to assess the asso...   \n",
              " 4     4      RESULTS  The percentage of patients with abnormal LFTs ...   \n",
              " 5     5      RESULTS  When mean hemodynamic profiles were compared i...   \n",
              " 6     6      RESULTS  Multivariable analyses revealed that patients ...   \n",
              " 7     7  CONCLUSIONS  Abnormal LFTs are common in the ADHF populatio...   \n",
              " 8     8  CONCLUSIONS  Elevated MELD-XI scores are associated with po...   \n",
              " 9     0   BACKGROUND  Minimally invasive endovascular aneurysm repai...   \n",
              " 10    1   BACKGROUND  The aim of this study was to analyse the cost-...   \n",
              " 11    2      METHODS  Resource use was determined from the Amsterdam...   \n",
              " 12    3      METHODS  The analysis was performed from a provider per...   \n",
              " 13    4      METHODS  All costs were calculated as if all patients h...   \n",
              " 14    5      RESULTS            A total of @ patients were randomized .   \n",
              " 15    6      RESULTS  The @-day mortality rate was @ per cent after ...   \n",
              " 16    7      RESULTS  At @months , the total mortality rate for EVAR...   \n",
              " 17    8      RESULTS  The mean cost difference between EVAR and OR w...   \n",
              " 18    9      RESULTS  The incremental cost-effectiveness ratio per p...   \n",
              " 19   10      RESULTS  There was no significant difference in quality...   \n",
              " \n",
              "     nrows     abstract  \n",
              " 0       8  ###24845963  \n",
              " 1       8  ###24845963  \n",
              " 2       8  ###24845963  \n",
              " 3       8  ###24845963  \n",
              " 4       8  ###24845963  \n",
              " 5       8  ###24845963  \n",
              " 6       8  ###24845963  \n",
              " 7       8  ###24845963  \n",
              " 8       8  ###24845963  \n",
              " 9      12  ###24469619  \n",
              " 10     12  ###24469619  \n",
              " 11     12  ###24469619  \n",
              " 12     12  ###24469619  \n",
              " 13     12  ###24469619  \n",
              " 14     12  ###24469619  \n",
              " 15     12  ###24469619  \n",
              " 16     12  ###24469619  \n",
              " 17     12  ###24469619  \n",
              " 18     12  ###24469619  \n",
              " 19     12  ###24469619  , 30135)"
            ]
          },
          "metadata": {},
          "execution_count": 14
        }
      ],
      "source": [
        "val_data_df = pd.DataFrame(val_data, columns = ['row', 'target', 'text', 'nrows', 'abstract'])\n",
        "val_data_df.head(20), len(val_data_df)"
      ]
    },
    {
      "cell_type": "code",
      "execution_count": null,
      "metadata": {
        "id": "Gdb0dntbDbHS"
      },
      "outputs": [],
      "source": [
        "list_of_datasets = [train_data_df, test_data_df, val_data_df]"
      ]
    },
    {
      "cell_type": "code",
      "execution_count": null,
      "metadata": {
        "id": "qcMJGUYvDvlZ"
      },
      "outputs": [],
      "source": [
        "import matplotlib.pyplot as plt\n",
        "import seaborn as sns"
      ]
    },
    {
      "cell_type": "markdown",
      "metadata": {
        "id": "98dWVFOzZwtL"
      },
      "source": [
        "### Create lists of strings for feature vectors"
      ]
    },
    {
      "cell_type": "code",
      "execution_count": null,
      "metadata": {
        "colab": {
          "base_uri": "https://localhost:8080/"
        },
        "id": "FZvbgQOXDGGE",
        "outputId": "264255b8-8bec-4781-91a3-181ad197d569"
      },
      "outputs": [
        {
          "output_type": "execute_result",
          "data": {
            "text/plain": [
              "(180040, 30212, 30135)"
            ]
          },
          "metadata": {},
          "execution_count": 17
        }
      ],
      "source": [
        "# Create lists with txt data:\n",
        "train_txt = train_data_df.text.str.lower().to_list()\n",
        "test_txt = test_data_df.text.str.lower().to_list()\n",
        "val_txt = val_data_df.text.str.lower().to_list()\n",
        "\n",
        "len(train_txt), len(test_txt), len(val_txt)"
      ]
    },
    {
      "cell_type": "code",
      "execution_count": null,
      "metadata": {
        "colab": {
          "base_uri": "https://localhost:8080/"
        },
        "id": "OqDVVFJPZX6V",
        "outputId": "a4480932-b2d9-4a1a-f4f9-142213145033"
      },
      "outputs": [
        {
          "output_type": "execute_result",
          "data": {
            "text/plain": [
              "['to investigate the efficacy of @ weeks of daily low-dose oral prednisolone in improving pain , mobility , and systemic low-grade inflammation in the short term and whether the effect would be sustained at @ weeks in older adults with moderate to severe knee osteoarthritis ( oa ) .',\n",
              " 'a total of @ patients with primary knee oa were randomized @:@ ; @ received @ mg/day of prednisolone and @ received placebo for @ weeks .',\n",
              " 'outcome measures included pain reduction and improvement in function scores and systemic inflammation markers .',\n",
              " 'pain was assessed using the visual analog pain scale ( @-@ mm ) .',\n",
              " 'secondary outcome measures included the western ontario and mcmaster universities osteoarthritis index scores , patient global assessment ( pga ) of the severity of knee oa , and @-min walk distance ( @mwd ) .',\n",
              " 'serum levels of interleukin @ ( il-@ ) , il-@ , tumor necrosis factor ( tnf ) - , and high-sensitivity c-reactive protein ( hscrp ) were measured .',\n",
              " 'there was a clinically relevant reduction in the intervention group compared to the placebo group for knee pain , physical function , pga , and @mwd at @ weeks .']"
            ]
          },
          "metadata": {},
          "execution_count": 18
        }
      ],
      "source": [
        "train_txt[:7]"
      ]
    },
    {
      "cell_type": "markdown",
      "metadata": {
        "id": "0B8JyKn9Z5yt"
      },
      "source": [
        "### Create one-hot labels\n"
      ]
    },
    {
      "cell_type": "code",
      "execution_count": null,
      "metadata": {
        "colab": {
          "base_uri": "https://localhost:8080/",
          "height": 35
        },
        "id": "-gCcS8wrSweh",
        "outputId": "47a0cca3-812d-4350-e4de-8c2a42d927eb"
      },
      "outputs": [
        {
          "output_type": "execute_result",
          "data": {
            "text/plain": [
              "'1.0.2'"
            ],
            "application/vnd.google.colaboratory.intrinsic+json": {
              "type": "string"
            }
          },
          "metadata": {},
          "execution_count": 19
        }
      ],
      "source": [
        "from sklearn.preprocessing import OneHotEncoder\n",
        "import sklearn\n",
        "sklearn.__version__"
      ]
    },
    {
      "cell_type": "code",
      "execution_count": null,
      "metadata": {
        "id": "-MQ5SL6uV4-N"
      },
      "outputs": [],
      "source": [
        "# Instantiate the encoder\n",
        "one_hot_encoder = OneHotEncoder(sparse=False)"
      ]
    },
    {
      "cell_type": "code",
      "execution_count": null,
      "metadata": {
        "id": "gWafSHq1xzG2"
      },
      "outputs": [],
      "source": [
        "train_labels_onehot = one_hot_encoder.fit_transform(train_data_df.target.to_numpy().reshape(-1,1))"
      ]
    },
    {
      "cell_type": "code",
      "execution_count": null,
      "metadata": {
        "colab": {
          "base_uri": "https://localhost:8080/"
        },
        "id": "upebJmG_yIZg",
        "outputId": "3e29d60c-e61a-4d73-80fd-7be682202206"
      },
      "outputs": [
        {
          "output_type": "execute_result",
          "data": {
            "text/plain": [
              "(True, True)"
            ]
          },
          "metadata": {},
          "execution_count": 22
        }
      ],
      "source": [
        "train_labels_onehot.shape[1] == train_data_df.target.nunique(), train_labels_onehot.shape[0] == len(train_data_df.target)"
      ]
    },
    {
      "cell_type": "code",
      "execution_count": null,
      "metadata": {
        "id": "IFpF9j0ByPML"
      },
      "outputs": [],
      "source": [
        "test_labels_onehot = one_hot_encoder.transform(test_data_df.target.to_numpy().reshape(-1,1))\n",
        "val_labels_onehot  = one_hot_encoder.transform(val_data_df.target.to_numpy().reshape(-1,1))"
      ]
    },
    {
      "cell_type": "code",
      "execution_count": null,
      "metadata": {
        "colab": {
          "base_uri": "https://localhost:8080/"
        },
        "id": "zRxOFYxmyTsQ",
        "outputId": "fabb9b00-e5d5-4237-a0cd-0e94675fc505"
      },
      "outputs": [
        {
          "output_type": "execute_result",
          "data": {
            "text/plain": [
              "array([[1., 0., 0., 0., 0.],\n",
              "       [1., 0., 0., 0., 0.],\n",
              "       [0., 0., 0., 1., 0.],\n",
              "       ...,\n",
              "       [0., 0., 0., 0., 1.],\n",
              "       [0., 1., 0., 0., 0.],\n",
              "       [0., 1., 0., 0., 0.]])"
            ]
          },
          "metadata": {},
          "execution_count": 24
        }
      ],
      "source": [
        "test_labels_onehot"
      ]
    },
    {
      "cell_type": "code",
      "execution_count": null,
      "metadata": {
        "colab": {
          "base_uri": "https://localhost:8080/"
        },
        "id": "NUXKqVa46gfQ",
        "outputId": "27084cab-0a80-4abd-c80b-b96670c406f3"
      },
      "outputs": [
        {
          "output_type": "stream",
          "name": "stderr",
          "text": [
            "/usr/local/lib/python3.8/dist-packages/sklearn/utils/deprecation.py:87: FutureWarning: Function get_feature_names is deprecated; get_feature_names is deprecated in 1.0 and will be removed in 1.2. Please use get_feature_names_out instead.\n",
            "  warnings.warn(msg, category=FutureWarning)\n"
          ]
        },
        {
          "output_type": "execute_result",
          "data": {
            "text/plain": [
              "array(['x0_BACKGROUND', 'x0_CONCLUSIONS', 'x0_METHODS', 'x0_OBJECTIVE',\n",
              "       'x0_RESULTS'], dtype=object)"
            ]
          },
          "metadata": {},
          "execution_count": 25
        }
      ],
      "source": [
        "one_hot_encoder.get_feature_names()"
      ]
    },
    {
      "cell_type": "markdown",
      "metadata": {
        "id": "EiCBgo4O5bBp"
      },
      "source": [
        "### Create numeric labels\n",
        "Which will be used for Multinomial Naive Bayes baseline model (model_0)"
      ]
    },
    {
      "cell_type": "code",
      "execution_count": null,
      "metadata": {
        "id": "KZW7E2Na0HCt"
      },
      "outputs": [],
      "source": [
        "from sklearn.preprocessing import LabelEncoder\n",
        "label_encoder = LabelEncoder()"
      ]
    },
    {
      "cell_type": "code",
      "execution_count": null,
      "metadata": {
        "id": "HeKSbBDf5orl"
      },
      "outputs": [],
      "source": [
        "train_labels_encoded = label_encoder.fit_transform(train_data_df.target.to_numpy())\n",
        "test_labels_encoded = label_encoder.transform(test_data_df.target.to_numpy())\n",
        "val_labels_encoded = label_encoder.transform(val_data_df.target.to_numpy())"
      ]
    },
    {
      "cell_type": "code",
      "execution_count": null,
      "metadata": {
        "colab": {
          "base_uri": "https://localhost:8080/"
        },
        "id": "H25F6XIc6JBY",
        "outputId": "2cb18ae8-7fe8-484c-a892-2391f92e392d"
      },
      "outputs": [
        {
          "output_type": "execute_result",
          "data": {
            "text/plain": [
              "True"
            ]
          },
          "metadata": {},
          "execution_count": 28
        }
      ],
      "source": [
        "len(train_labels_encoded) == len(train_data_df.target)"
      ]
    },
    {
      "cell_type": "code",
      "execution_count": null,
      "metadata": {
        "colab": {
          "base_uri": "https://localhost:8080/"
        },
        "id": "e_yym6Vi6LsF",
        "outputId": "29af8301-18e9-4469-95cd-556bdbc63109"
      },
      "outputs": [
        {
          "output_type": "execute_result",
          "data": {
            "text/plain": [
              "array(['BACKGROUND', 'CONCLUSIONS', 'METHODS', 'OBJECTIVE', 'RESULTS'],\n",
              "      dtype=object)"
            ]
          },
          "metadata": {},
          "execution_count": 29
        }
      ],
      "source": [
        "label_encoder.classes_"
      ]
    },
    {
      "cell_type": "markdown",
      "metadata": {
        "id": "9uhAE9RWE4eC"
      },
      "source": [
        "### Create text vectorization layer"
      ]
    },
    {
      "cell_type": "code",
      "execution_count": null,
      "metadata": {
        "id": "fF9vU98mE9b0"
      },
      "outputs": [],
      "source": [
        "# Import modules\n",
        "import tensorflow as tf\n",
        "from tensorflow.keras.layers import TextVectorization\n",
        "from tensorflow.keras.layers import Embedding"
      ]
    },
    {
      "cell_type": "code",
      "execution_count": null,
      "metadata": {
        "id": "x3LmLuFGFO7Q"
      },
      "outputs": [],
      "source": [
        "# Instantiate TextVectorization layer\n",
        "text_vectorization = TextVectorization(\n",
        "    max_tokens = 10000,\n",
        "    standardize = 'lower_and_strip_punctuation',\n",
        "    split='whitespace',\n",
        "    ngrams=3,\n",
        "    output_mode='int',\n",
        "    output_sequence_length=27,\n",
        "    pad_to_max_tokens=True,\n",
        ")"
      ]
    },
    {
      "cell_type": "code",
      "execution_count": null,
      "metadata": {
        "id": "Zr1HuyFpbrkP"
      },
      "outputs": [],
      "source": [
        "# Adapt the vectorizer to train_data\n",
        "text_vectorization.adapt(train_txt)"
      ]
    },
    {
      "cell_type": "code",
      "execution_count": null,
      "metadata": {
        "colab": {
          "base_uri": "https://localhost:8080/"
        },
        "id": "HxkYkDYKFO4p",
        "outputId": "5eeca4f0-75cb-44c1-85c2-70bca06f9d34"
      },
      "outputs": [
        {
          "output_type": "execute_result",
          "data": {
            "text/plain": [
              "<tf.Tensor: shape=(1, 27), dtype=int64, numpy=\n",
              "array([[   6,  473,    2,   88,    4,   56,    4,  194, 2045,  279, 5668,\n",
              "           5,  872,   68, 3095,    3, 1106,    1, 1047,    5,    2, 1078,\n",
              "        2058,    3,  218,    2,   77]])>"
            ]
          },
          "metadata": {},
          "execution_count": 33
        }
      ],
      "source": [
        "text_vectorization([train_data_df.text[0]])"
      ]
    },
    {
      "cell_type": "code",
      "execution_count": null,
      "metadata": {
        "colab": {
          "base_uri": "https://localhost:8080/"
        },
        "id": "zZRT1OrpcMNY",
        "outputId": "84cbd4be-a461-4e8a-aaaf-d81d4fd87589"
      },
      "outputs": [
        {
          "output_type": "stream",
          "name": "stdout",
          "text": [
            "Token: 6, word: to\n",
            "Token: 473, word: investigate\n",
            "Token: 2, word: the\n",
            "Token: 88, word: efficacy\n",
            "Token: 4, word: of\n",
            "Token: 56, word: weeks\n",
            "Token: 4, word: of\n",
            "Token: 194, word: daily\n",
            "Token: 2045, word: lowdose\n",
            "Token: 279, word: oral\n",
            "Token: 5668, word: prednisolone\n",
            "Token: 5, word: in\n",
            "Token: 872, word: improving\n",
            "Token: 68, word: pain\n",
            "Token: 3095, word: mobility\n",
            "Token: 3, word: and\n",
            "Token: 1106, word: systemic\n",
            "Token: 1, word: [UNK]\n",
            "Token: 1047, word: inflammation\n",
            "Token: 5, word: in\n",
            "Token: 2, word: the\n",
            "Token: 1078, word: short\n",
            "Token: 2058, word: term\n",
            "Token: 3, word: and\n",
            "Token: 218, word: whether\n",
            "Token: 2, word: the\n",
            "Token: 77, word: effect\n"
          ]
        }
      ],
      "source": [
        "# Check tokenization with TextVectorizer vocabulary\n",
        "for token in text_vectorization([train_data_df.text[0]])[0].numpy():\n",
        "  print(f'Token: {token}, word: {text_vectorization.get_vocabulary()[token]}')"
      ]
    },
    {
      "cell_type": "markdown",
      "metadata": {
        "id": "gmCJxH4kfR1G"
      },
      "source": [
        "### Prepare data pipelines"
      ]
    },
    {
      "cell_type": "code",
      "execution_count": null,
      "metadata": {
        "id": "329pFeu0fn7N"
      },
      "outputs": [],
      "source": [
        "# Create datasets\n",
        "train_dataset = tf.data.Dataset.from_tensor_slices((train_txt, train_labels_onehot))\n",
        "test_dataset = tf.data.Dataset.from_tensor_slices((test_txt, test_labels_onehot))\n",
        "val_dataset = tf.data.Dataset.from_tensor_slices((val_txt, val_labels_onehot))"
      ]
    },
    {
      "cell_type": "code",
      "execution_count": null,
      "metadata": {
        "id": "tNWpfqMBhtwp"
      },
      "outputs": [],
      "source": [
        "# Batch the datasets and turn them to prefetch datasets\n",
        "train_dataset = train_dataset.batch(32).prefetch(tf.data.AUTOTUNE)\n",
        "test_dataset = test_dataset.batch(32).prefetch(tf.data.AUTOTUNE)\n",
        "val_dataset = val_dataset.batch(32).prefetch(tf.data.AUTOTUNE)"
      ]
    },
    {
      "cell_type": "markdown",
      "metadata": {
        "id": "C7NRDrXRtOFF"
      },
      "source": [
        "## Model 3: Conv1D with character embeddings\n",
        "\n",
        "Character-level embeddings are used in the prototype paper: https://arxiv.org/abs/1612.05251"
      ]
    },
    {
      "cell_type": "code",
      "execution_count": null,
      "metadata": {
        "id": "b3375AwwtI5y"
      },
      "outputs": [],
      "source": [
        "# Make function to split sentences into characters\n",
        "def split_chars(text):\n",
        "  return ' '.join(list(text))"
      ]
    },
    {
      "cell_type": "code",
      "execution_count": null,
      "metadata": {
        "colab": {
          "base_uri": "https://localhost:8080/",
          "height": 89
        },
        "id": "PsjJy-a5t4js",
        "outputId": "aee94347-6c17-430a-a4b4-a7437df04105"
      },
      "outputs": [
        {
          "output_type": "execute_result",
          "data": {
            "text/plain": [
              "'t o   i n v e s t i g a t e   t h e   e f f i c a c y   o f   @   w e e k s   o f   d a i l y   l o w - d o s e   o r a l   p r e d n i s o l o n e   i n   i m p r o v i n g   p a i n   ,   m o b i l i t y   ,   a n d   s y s t e m i c   l o w - g r a d e   i n f l a m m a t i o n   i n   t h e   s h o r t   t e r m   a n d   w h e t h e r   t h e   e f f e c t   w o u l d   b e   s u s t a i n e d   a t   @   w e e k s   i n   o l d e r   a d u l t s   w i t h   m o d e r a t e   t o   s e v e r e   k n e e   o s t e o a r t h r i t i s   (   o a   )   .'"
            ],
            "application/vnd.google.colaboratory.intrinsic+json": {
              "type": "string"
            }
          },
          "metadata": {},
          "execution_count": 38
        }
      ],
      "source": [
        "split_chars(train_txt[0])"
      ]
    },
    {
      "cell_type": "code",
      "execution_count": null,
      "metadata": {
        "id": "1SPNJfbQuCAs"
      },
      "outputs": [],
      "source": [
        "# Split sequence-level data into character-level data\n",
        "train_chars = [split_chars(sentence) for sentence in train_txt]"
      ]
    },
    {
      "cell_type": "code",
      "execution_count": null,
      "metadata": {
        "colab": {
          "base_uri": "https://localhost:8080/"
        },
        "id": "q6m-TPkzuYuo",
        "outputId": "43f1995a-60f6-4159-e095-243b6c290b07"
      },
      "outputs": [
        {
          "output_type": "execute_result",
          "data": {
            "text/plain": [
              "['t o   i n v e s t i g a t e   t h e   e f f i c a c y   o f   @   w e e k s   o f   d a i l y   l o w - d o s e   o r a l   p r e d n i s o l o n e   i n   i m p r o v i n g   p a i n   ,   m o b i l i t y   ,   a n d   s y s t e m i c   l o w - g r a d e   i n f l a m m a t i o n   i n   t h e   s h o r t   t e r m   a n d   w h e t h e r   t h e   e f f e c t   w o u l d   b e   s u s t a i n e d   a t   @   w e e k s   i n   o l d e r   a d u l t s   w i t h   m o d e r a t e   t o   s e v e r e   k n e e   o s t e o a r t h r i t i s   (   o a   )   .',\n",
              " 'a   t o t a l   o f   @   p a t i e n t s   w i t h   p r i m a r y   k n e e   o a   w e r e   r a n d o m i z e d   @ : @   ;   @   r e c e i v e d   @   m g / d a y   o f   p r e d n i s o l o n e   a n d   @   r e c e i v e d   p l a c e b o   f o r   @   w e e k s   .']"
            ]
          },
          "metadata": {},
          "execution_count": 40
        }
      ],
      "source": [
        "train_chars[:2]"
      ]
    },
    {
      "cell_type": "code",
      "execution_count": null,
      "metadata": {
        "id": "stS24EkXuam1"
      },
      "outputs": [],
      "source": [
        "val_chars = [split_chars(sentence) for sentence in val_txt]\n",
        "test_chars = [split_chars(sentence) for sentence in test_txt]"
      ]
    },
    {
      "cell_type": "markdown",
      "metadata": {
        "id": "2IGmKyygu73v"
      },
      "source": [
        "### Check the stats for character-wise lenght of the sequences"
      ]
    },
    {
      "cell_type": "code",
      "execution_count": null,
      "metadata": {
        "id": "53YJEYAKvN5v"
      },
      "outputs": [],
      "source": [
        "train_data_len_characters = [len(characters.split(\" \")) for characters in train_chars]\n",
        "test_data_len_characters = [len(characters.split(\" \")) for characters in test_chars]\n",
        "val_data_len_characters = [len(characters.split(\" \")) for characters in val_chars]"
      ]
    },
    {
      "cell_type": "code",
      "execution_count": null,
      "metadata": {
        "id": "-dQWoQsiJD6c"
      },
      "outputs": [],
      "source": [
        "train_data_len_characters_mean = np.mean(train_data_len_characters)\n",
        "test_data_len_characters_mean = np.mean(test_data_len_characters)\n",
        "val_data_len_characters_mean = np.mean(val_data_len_characters)"
      ]
    },
    {
      "cell_type": "code",
      "execution_count": null,
      "metadata": {
        "colab": {
          "base_uri": "https://localhost:8080/"
        },
        "id": "f8O4WXb7V5TI",
        "outputId": "44380c05-0172-4610-c211-a9d8e0363850"
      },
      "outputs": [
        {
          "output_type": "execute_result",
          "data": {
            "text/plain": [
              "(174.70452677182848, 174.6135641466967, 173.63842707814834)"
            ]
          },
          "metadata": {},
          "execution_count": 44
        }
      ],
      "source": [
        "train_data_len_characters_mean, test_data_len_characters_mean, val_data_len_characters_mean"
      ]
    },
    {
      "cell_type": "markdown",
      "metadata": {
        "id": "TJSEwG_Yx3ct"
      },
      "source": [
        "**Looks like our magic number 175**"
      ]
    },
    {
      "cell_type": "code",
      "execution_count": null,
      "metadata": {
        "id": "8HhFC66FykTs"
      },
      "outputs": [],
      "source": [
        "MAGIC_NUMBER = 175"
      ]
    },
    {
      "cell_type": "code",
      "execution_count": null,
      "metadata": {
        "id": "Z4M8J-CNX-SL"
      },
      "outputs": [],
      "source": [
        "len_characters = [train_data_len_characters, test_data_len_characters, val_data_len_characters]"
      ]
    },
    {
      "cell_type": "code",
      "execution_count": null,
      "metadata": {
        "colab": {
          "base_uri": "https://localhost:8080/"
        },
        "id": "ZqyKxen9b_K0",
        "outputId": "5d99d27c-e0a4-4c11-99ca-85e12d4a693a"
      },
      "outputs": [
        {
          "output_type": "execute_result",
          "data": {
            "text/plain": [
              "802"
            ]
          },
          "metadata": {},
          "execution_count": 47
        }
      ],
      "source": [
        "len(np.unique(len_characters[0]))"
      ]
    },
    {
      "cell_type": "code",
      "execution_count": null,
      "metadata": {
        "colab": {
          "base_uri": "https://localhost:8080/",
          "height": 1000
        },
        "id": "JAGaUPYdulWs",
        "outputId": "556d97bd-8e8b-413c-acc0-cfe9b276a9c8"
      },
      "outputs": [
        {
          "output_type": "display_data",
          "data": {
            "text/plain": [
              "<Figure size 864x1728 with 3 Axes>"
            ],
            "image/png": "[encoded data removed]"
          },
          "metadata": {
            "needs_background": "light"
          }
        }
      ],
      "source": [
        "fig = plt.figure(figsize=(12, 24))\n",
        "ax1 = plt.subplot(311)\n",
        "ax2 = plt.subplot(312, sharex=ax1)\n",
        "ax3 = plt.subplot(313, sharex=ax1)\n",
        "axes = [ax1, ax2, ax3]\n",
        "for it, dataset in enumerate(len_characters):\n",
        "  sns.histplot(dataset, bins=int(len(np.unique(len_characters[it]))/5), ax=axes[it], kde=True, kde_kws={'bw_adjust':2.2} )\n",
        "  props = dict(boxstyle='round', facecolor='wheat', alpha=0.5)\n",
        "  axes[it].text(0.05, 0.95, f'95% between: {np.quantile(len_characters[it], [0.025, 0.975])}', transform=axes[it].transAxes, fontsize=14, position=(0.62,0.43), bbox=props)\n",
        "plt.show()"
      ]
    },
    {
      "cell_type": "markdown",
      "metadata": {
        "id": "mJuVA1axKK5G"
      },
      "source": [
        "## Create character-level datasets"
      ]
    },
    {
      "cell_type": "code",
      "execution_count": null,
      "metadata": {
        "id": "tn327CKFLkMx"
      },
      "outputs": [],
      "source": [
        "import tensorflow as tf"
      ]
    },
    {
      "cell_type": "code",
      "execution_count": null,
      "metadata": {
        "colab": {
          "base_uri": "https://localhost:8080/"
        },
        "id": "HbkLwox3MMve",
        "outputId": "66d9b048-a2fa-43a9-8b85-57b4f52ef196"
      },
      "outputs": [
        {
          "output_type": "execute_result",
          "data": {
            "text/plain": [
              "((30135,), (30135, 5))"
            ]
          },
          "metadata": {},
          "execution_count": 50
        }
      ],
      "source": [
        "np.array(val_chars).shape, val_labels_onehot.shape"
      ]
    },
    {
      "cell_type": "code",
      "execution_count": null,
      "metadata": {
        "id": "Vbypv_TTKQW1"
      },
      "outputs": [],
      "source": [
        "train_chars_dataset = tf.data.Dataset.from_tensor_slices((train_chars, train_labels_onehot)).batch(32).prefetch(tf.data.AUTOTUNE)\n",
        "test_chars_dataset= tf.data.Dataset.from_tensor_slices((test_chars, test_labels_onehot)).batch(32).prefetch(tf.data.AUTOTUNE)\n",
        "val_chars_dataset= tf.data.Dataset.from_tensor_slices((val_chars, val_labels_onehot)).batch(32).prefetch(tf.data.AUTOTUNE)"
      ]
    },
    {
      "cell_type": "code",
      "execution_count": null,
      "metadata": {
        "colab": {
          "base_uri": "https://localhost:8080/"
        },
        "id": "pv-ASMrUKQUK",
        "outputId": "f49722f7-5440-4215-fb34-20b2e0765247"
      },
      "outputs": [
        {
          "output_type": "execute_result",
          "data": {
            "text/plain": [
              "<PrefetchDataset element_spec=(TensorSpec(shape=(None,), dtype=tf.string, name=None), TensorSpec(shape=(None, 5), dtype=tf.float64, name=None))>"
            ]
          },
          "metadata": {},
          "execution_count": 52
        }
      ],
      "source": [
        "train_chars_dataset"
      ]
    },
    {
      "cell_type": "markdown",
      "metadata": {
        "id": "2tsgESB9xtOx"
      },
      "source": [
        "## Create character-lever vectorizer"
      ]
    },
    {
      "cell_type": "code",
      "execution_count": null,
      "metadata": {
        "id": "PQtu8h3vxajx"
      },
      "outputs": [],
      "source": [
        "import string"
      ]
    },
    {
      "cell_type": "code",
      "execution_count": null,
      "metadata": {
        "colab": {
          "base_uri": "https://localhost:8080/",
          "height": 35
        },
        "id": "reKvzDQIwp3Z",
        "outputId": "4892371b-0ce2-488b-9145-be46db8dce54"
      },
      "outputs": [
        {
          "output_type": "execute_result",
          "data": {
            "text/plain": [
              "'abcdefghijklmnopqrstuvwxyz0123456789'"
            ],
            "application/vnd.google.colaboratory.intrinsic+json": {
              "type": "string"
            }
          },
          "metadata": {},
          "execution_count": 54
        }
      ],
      "source": [
        "# Get all keybord characters\n",
        "alphabet = string.ascii_lowercase + string.digits\n",
        "\n",
        "alphabet"
      ]
    },
    {
      "cell_type": "code",
      "execution_count": null,
      "metadata": {
        "colab": {
          "base_uri": "https://localhost:8080/"
        },
        "id": "3_vjfEzGxk4N",
        "outputId": "c8ae34fd-fbf7-4659-bede-a4dfd6ca959d"
      },
      "outputs": [
        {
          "output_type": "execute_result",
          "data": {
            "text/plain": [
              "38"
            ]
          },
          "metadata": {},
          "execution_count": 55
        }
      ],
      "source": [
        "# Setup parameters\n",
        "NUM_CHAR_TOKENS = len(alphabet) + 2 # add space and OOV token\n",
        "NUM_CHAR_TOKENS"
      ]
    },
    {
      "cell_type": "code",
      "execution_count": null,
      "metadata": {
        "id": "2agsyQfyyLvk"
      },
      "outputs": [],
      "source": [
        "# Instantiate vectorizer\n",
        "char_vectorizer = TextVectorization(\n",
        "    max_tokens=NUM_CHAR_TOKENS,\n",
        "    output_sequence_length = MAGIC_NUMBER,\n",
        "    standardize = 'lower_and_strip_punctuation',\n",
        "    name = 'char_vectorizer'\n",
        ")"
      ]
    },
    {
      "cell_type": "code",
      "execution_count": null,
      "metadata": {
        "id": "w6fzXEXjy4h6"
      },
      "outputs": [],
      "source": [
        "# Adapt character vectorizer to training data\n",
        "char_vectorizer.adapt(train_chars)"
      ]
    },
    {
      "cell_type": "code",
      "execution_count": null,
      "metadata": {
        "id": "KK0myVsizHJs"
      },
      "outputs": [],
      "source": [
        "# Check vocab stats\n",
        "char_vocab = char_vectorizer.get_vocabulary()"
      ]
    },
    {
      "cell_type": "code",
      "execution_count": null,
      "metadata": {
        "colab": {
          "base_uri": "https://localhost:8080/"
        },
        "id": "1CpNldX1zRYX",
        "outputId": "b4047527-2cda-49f3-f8e0-885ce5c1e0d2"
      },
      "outputs": [
        {
          "output_type": "execute_result",
          "data": {
            "text/plain": [
              "28"
            ]
          },
          "metadata": {},
          "execution_count": 59
        }
      ],
      "source": [
        "len(char_vocab)"
      ]
    },
    {
      "cell_type": "code",
      "execution_count": null,
      "metadata": {
        "colab": {
          "base_uri": "https://localhost:8080/"
        },
        "id": "TCjcUle_zTeO",
        "outputId": "512577da-eb51-4c4a-8933-0bf2afe57e55"
      },
      "outputs": [
        {
          "output_type": "stream",
          "name": "stdout",
          "text": [
            "tf.Tensor(\n",
            "[ 5  3  3  2  6  3  4  7  6  5 12 22  4  5  9  2  9 17  7  8 13  4 18 13\n",
            " 11  5 12  7  8  4 11 17  7  7 10  9 20  2  8  2 15  2  5  9 16  8  2 10\n",
            " 22 19  2 19  2  3  8  5 11 23  4  6 18 10 16  8  4  6 18  5 21  4  9 16\n",
            "  5 12 14  8  7 22  2  3  5  9 23 20  4  3 13 14  4 11  3  7  8  4  5 12\n",
            " 17  7  7 10  5  6 10  6  2 16  3  8  5 12  9  3  4 15 16 12  4  0  0  0\n",
            "  0  0  0  0  0  0  0  0  0  0  0  0  0  0  0  0  0  0  0  0  0  0  0  0\n",
            "  0  0  0  0  0  0  0  0  0  0  0  0  0  0  0  0  0  0  0  0  0  0  0  0\n",
            "  0  0  0  0  0  0  0], shape=(175,), dtype=int64)\n"
          ]
        }
      ],
      "source": [
        "print(char_vectorizer(train_chars[17]))"
      ]
    },
    {
      "cell_type": "markdown",
      "metadata": {
        "id": "fqe1pIO20lyX"
      },
      "source": [
        "## Crete Embedding layer"
      ]
    },
    {
      "cell_type": "code",
      "execution_count": null,
      "metadata": {
        "id": "QXi6rapQ0QpZ"
      },
      "outputs": [],
      "source": [
        "# Create an embedding layer for model_1\n",
        "embedding_3 = Embedding(input_dim=len(char_vocab),\n",
        "                      output_dim=25, # number assumed in the paper\n",
        "                      mask_zero=True,\n",
        "                      name='char_embed')"
      ]
    },
    {
      "cell_type": "code",
      "execution_count": null,
      "metadata": {
        "colab": {
          "base_uri": "https://localhost:8080/"
        },
        "id": "VGcS1ibA1DXX",
        "outputId": "902fdcc5-d2b9-44bb-ffff-e589697e7ffa"
      },
      "outputs": [
        {
          "output_type": "execute_result",
          "data": {
            "text/plain": [
              "<tf.Tensor: shape=(175, 25), dtype=float32, numpy=\n",
              "array([[-0.03136908, -0.0452494 , -0.04114179, ..., -0.03606336,\n",
              "         0.02699813,  0.03086153],\n",
              "       [ 0.03136226,  0.04571639,  0.01233157, ...,  0.03120791,\n",
              "         0.02938015,  0.04583435],\n",
              "       [ 0.00963838, -0.02566481, -0.04107727, ..., -0.00156822,\n",
              "        -0.03664466,  0.04125499],\n",
              "       ...,\n",
              "       [ 0.01717143,  0.01608654,  0.02271343, ..., -0.03240824,\n",
              "         0.02756022, -0.01266183],\n",
              "       [ 0.01717143,  0.01608654,  0.02271343, ..., -0.03240824,\n",
              "         0.02756022, -0.01266183],\n",
              "       [ 0.01717143,  0.01608654,  0.02271343, ..., -0.03240824,\n",
              "         0.02756022, -0.01266183]], dtype=float32)>"
            ]
          },
          "metadata": {},
          "execution_count": 62
        }
      ],
      "source": [
        "embedding_3(char_vectorizer(train_chars[17]))"
      ]
    },
    {
      "cell_type": "code",
      "execution_count": null,
      "metadata": {
        "id": "ZK5ZoP_32TcQ"
      },
      "outputs": [],
      "source": [
        "from tensorflow.keras.layers import Input, Conv1D, GlobalMaxPooling1D, Dense"
      ]
    },
    {
      "cell_type": "markdown",
      "metadata": {
        "id": "7ktBJhkePhS6"
      },
      "source": [
        "## Create model 3"
      ]
    },
    {
      "cell_type": "code",
      "execution_count": null,
      "metadata": {
        "id": "0rCd1GF51INu"
      },
      "outputs": [],
      "source": [
        "# Create model_3 using functional API\n",
        "inputs = Input(shape=(1,), dtype='string')\n",
        "x = char_vectorizer(inputs)\n",
        "x = embedding_3(x)\n",
        "x = Conv1D(filters=16, kernel_size=5, padding='same')(x)\n",
        "x = GlobalMaxPooling1D()(x)\n",
        "outputs = Dense(5, activation='sigmoid')(x)\n",
        "\n",
        "model_3 = tf.keras.Model(inputs, outputs, name='model_3_charEmbedConv1D')"
      ]
    },
    {
      "cell_type": "code",
      "execution_count": null,
      "metadata": {
        "id": "zd41dbDn2kVF"
      },
      "outputs": [],
      "source": [
        "model_3.compile(\n",
        "    loss=tf.keras.losses.CategoricalCrossentropy(),\n",
        "    optimizer=tf.keras.optimizers.Adam(),\n",
        "    metrics=['accuracy']\n",
        ")"
      ]
    },
    {
      "cell_type": "code",
      "execution_count": null,
      "metadata": {
        "colab": {
          "base_uri": "https://localhost:8080/"
        },
        "id": "doaNZ5-M2pbI",
        "outputId": "3a658c4e-ec2e-4497-ddc1-44876df38151"
      },
      "outputs": [
        {
          "output_type": "stream",
          "name": "stdout",
          "text": [
            "Model: \"model_3_charEmbedConv1D\"\n",
            "_________________________________________________________________\n",
            " Layer (type)                Output Shape              Param #   \n",
            "=================================================================\n",
            " input_1 (InputLayer)        [(None, 1)]               0         \n",
            "                                                                 \n",
            " char_vectorizer (TextVector  (None, 175)              0         \n",
            " ization)                                                        \n",
            "                                                                 \n",
            " char_embed (Embedding)      (None, 175, 25)           700       \n",
            "                                                                 \n",
            " conv1d (Conv1D)             (None, 175, 16)           2016      \n",
            "                                                                 \n",
            " global_max_pooling1d (Globa  (None, 16)               0         \n",
            " lMaxPooling1D)                                                  \n",
            "                                                                 \n",
            " dense (Dense)               (None, 5)                 85        \n",
            "                                                                 \n",
            "=================================================================\n",
            "Total params: 2,801\n",
            "Trainable params: 2,801\n",
            "Non-trainable params: 0\n",
            "_________________________________________________________________\n"
          ]
        }
      ],
      "source": [
        "model_3.summary()"
      ]
    },
    {
      "cell_type": "code",
      "execution_count": null,
      "metadata": {
        "colab": {
          "base_uri": "https://localhost:8080/"
        },
        "id": "wOo8WONx2rTB",
        "outputId": "d436e505-7c6b-4e1d-bcc8-b096205d417a"
      },
      "outputs": [
        {
          "output_type": "stream",
          "name": "stdout",
          "text": [
            "Epoch 1/25\n",
            "942/942 [==============================] - 24s 17ms/step - loss: 1.3117 - accuracy: 0.4494 - val_loss: 1.1695 - val_accuracy: 0.5155\n",
            "Epoch 2/25\n",
            "942/942 [==============================] - 16s 17ms/step - loss: 1.1201 - accuracy: 0.5388 - val_loss: 1.0828 - val_accuracy: 0.5592\n",
            "Epoch 3/25\n",
            "942/942 [==============================] - 16s 17ms/step - loss: 1.0501 - accuracy: 0.5743 - val_loss: 1.0371 - val_accuracy: 0.5821\n",
            "Epoch 4/25\n",
            "942/942 [==============================] - 16s 17ms/step - loss: 1.0091 - accuracy: 0.5916 - val_loss: 1.0058 - val_accuracy: 0.5975\n",
            "Epoch 5/25\n",
            "942/942 [==============================] - 17s 18ms/step - loss: 0.9776 - accuracy: 0.6060 - val_loss: 0.9818 - val_accuracy: 0.6102\n",
            "Epoch 6/25\n",
            "942/942 [==============================] - 17s 18ms/step - loss: 0.9529 - accuracy: 0.6181 - val_loss: 0.9620 - val_accuracy: 0.6191\n",
            "Epoch 7/25\n",
            "942/942 [==============================] - 17s 18ms/step - loss: 0.9297 - accuracy: 0.6318 - val_loss: 0.9443 - val_accuracy: 0.6274\n",
            "Epoch 8/25\n",
            "942/942 [==============================] - 16s 18ms/step - loss: 0.9115 - accuracy: 0.6396 - val_loss: 0.9317 - val_accuracy: 0.6328\n",
            "Epoch 9/25\n",
            "942/942 [==============================] - 17s 18ms/step - loss: 0.8975 - accuracy: 0.6454 - val_loss: 0.9235 - val_accuracy: 0.6356\n",
            "Epoch 10/25\n",
            "942/942 [==============================] - 16s 17ms/step - loss: 0.8858 - accuracy: 0.6511 - val_loss: 0.9156 - val_accuracy: 0.6396\n",
            "Epoch 11/25\n",
            "942/942 [==============================] - 17s 18ms/step - loss: 0.8761 - accuracy: 0.6563 - val_loss: 0.9091 - val_accuracy: 0.6437\n",
            "Epoch 12/25\n",
            "942/942 [==============================] - 17s 18ms/step - loss: 0.8676 - accuracy: 0.6602 - val_loss: 0.9040 - val_accuracy: 0.6463\n",
            "Epoch 13/25\n",
            "942/942 [==============================] - 16s 18ms/step - loss: 0.8607 - accuracy: 0.6630 - val_loss: 0.8997 - val_accuracy: 0.6488\n",
            "Epoch 14/25\n",
            "942/942 [==============================] - 16s 17ms/step - loss: 0.8548 - accuracy: 0.6647 - val_loss: 0.8969 - val_accuracy: 0.6499\n",
            "Epoch 15/25\n",
            "942/942 [==============================] - 16s 17ms/step - loss: 0.8496 - accuracy: 0.6681 - val_loss: 0.8933 - val_accuracy: 0.6515\n",
            "Epoch 16/25\n",
            "942/942 [==============================] - 16s 17ms/step - loss: 0.8454 - accuracy: 0.6697 - val_loss: 0.8909 - val_accuracy: 0.6526\n",
            "Epoch 17/25\n",
            "942/942 [==============================] - 16s 17ms/step - loss: 0.8414 - accuracy: 0.6722 - val_loss: 0.8890 - val_accuracy: 0.6536\n",
            "Epoch 18/25\n",
            "942/942 [==============================] - 16s 17ms/step - loss: 0.8378 - accuracy: 0.6732 - val_loss: 0.8876 - val_accuracy: 0.6540\n",
            "Epoch 19/25\n",
            "942/942 [==============================] - 16s 17ms/step - loss: 0.8347 - accuracy: 0.6740 - val_loss: 0.8855 - val_accuracy: 0.6550\n",
            "Epoch 20/25\n",
            "942/942 [==============================] - 16s 17ms/step - loss: 0.8320 - accuracy: 0.6752 - val_loss: 0.8843 - val_accuracy: 0.6557\n",
            "Epoch 21/25\n",
            "942/942 [==============================] - 16s 17ms/step - loss: 0.8290 - accuracy: 0.6771 - val_loss: 0.8826 - val_accuracy: 0.6566\n",
            "Epoch 22/25\n",
            "942/942 [==============================] - 16s 17ms/step - loss: 0.8260 - accuracy: 0.6787 - val_loss: 0.8805 - val_accuracy: 0.6578\n",
            "Epoch 23/25\n",
            "942/942 [==============================] - 17s 18ms/step - loss: 0.8231 - accuracy: 0.6805 - val_loss: 0.8794 - val_accuracy: 0.6581\n",
            "Epoch 24/25\n",
            "942/942 [==============================] - 16s 17ms/step - loss: 0.8208 - accuracy: 0.6815 - val_loss: 0.8780 - val_accuracy: 0.6587\n",
            "Epoch 25/25\n",
            "942/942 [==============================] - 17s 18ms/step - loss: 0.8190 - accuracy: 0.6804 - val_loss: 0.8774 - val_accuracy: 0.6592\n"
          ]
        }
      ],
      "source": [
        "history_3 = model_3.fit(\n",
        "    train_chars_dataset,\n",
        "    epochs=25,\n",
        "    validation_data=val_chars_dataset,\n",
        ")"
      ]
    },
    {
      "cell_type": "markdown",
      "source": [
        "### Evaluate Model 3"
      ],
      "metadata": {
        "id": "EwfX4-BwiE6w"
      }
    },
    {
      "cell_type": "code",
      "execution_count": null,
      "metadata": {
        "id": "vFP1u8Jw2yBl"
      },
      "outputs": [],
      "source": [
        "from BERI_helper_functions import create_crp, plot_curves_eval\n",
        "from sklearn.metrics import classification_report"
      ]
    },
    {
      "cell_type": "code",
      "execution_count": null,
      "metadata": {
        "id": "QSgbgWAUFna9",
        "colab": {
          "base_uri": "https://localhost:8080/"
        },
        "outputId": "21dd6eb2-bddc-4de1-bb2b-15d21185f232"
      },
      "outputs": [
        {
          "output_type": "stream",
          "name": "stdout",
          "text": [
            "945/945 [==============================] - 3s 3ms/step - loss: 0.8606 - accuracy: 0.6659\n"
          ]
        }
      ],
      "source": [
        "model_3_eval = model_3.evaluate(test_chars_dataset)"
      ]
    },
    {
      "cell_type": "code",
      "source": [
        "# Plot the curves\n",
        "plot_curves_eval(history=history_3, eval_acc=model_3_eval[1], eval_loss=model_3_eval[0])"
      ],
      "metadata": {
        "colab": {
          "base_uri": "https://localhost:8080/",
          "height": 453
        },
        "id": "vyEqrqAmiArP",
        "outputId": "66dee1c0-1514-46c8-cddf-a4f95f886dac"
      },
      "execution_count": null,
      "outputs": [
        {
          "output_type": "display_data",
          "data": {
            "text/plain": [
              "<Figure size 2304x576 with 2 Axes>"
            ],
            "image/png": "[encoded data removed]"
          },
          "metadata": {
            "needs_background": "light"
          }
        }
      ]
    },
    {
      "cell_type": "code",
      "source": [
        "model_3_pred_probs = model_3.predict(test_chars_dataset)\n",
        "model_3_pred_probs"
      ],
      "metadata": {
        "colab": {
          "base_uri": "https://localhost:8080/"
        },
        "id": "Axm-OqoSiXG8",
        "outputId": "d898ae54-30c1-460e-db94-5e31c075cfb0"
      },
      "execution_count": null,
      "outputs": [
        {
          "output_type": "stream",
          "name": "stdout",
          "text": [
            "945/945 [==============================] - 2s 2ms/step\n"
          ]
        },
        {
          "output_type": "execute_result",
          "data": {
            "text/plain": [
              "array([[0.9052069 , 0.8133723 , 0.46877983, 0.790669  , 0.11851994],\n",
              "       [0.83721143, 0.83452487, 0.58998936, 0.57566756, 0.17483109],\n",
              "       [0.87941116, 0.528766  , 0.746403  , 0.8897289 , 0.03444424],\n",
              "       ...,\n",
              "       [0.5511943 , 0.86853194, 0.64860034, 0.14837964, 0.91811556],\n",
              "       [0.23930895, 0.4619617 , 0.9640649 , 0.0814479 , 0.7172288 ],\n",
              "       [0.94539225, 0.9456418 , 0.57171375, 0.36052573, 0.5419158 ]],\n",
              "      dtype=float32)"
            ]
          },
          "metadata": {},
          "execution_count": 73
        }
      ]
    },
    {
      "cell_type": "code",
      "source": [
        "model_3_pred_probs.shape"
      ],
      "metadata": {
        "colab": {
          "base_uri": "https://localhost:8080/"
        },
        "id": "ll7DuhPTkINh",
        "outputId": "23eba9f9-c214-4c53-b168-91ddcb089182"
      },
      "execution_count": null,
      "outputs": [
        {
          "output_type": "execute_result",
          "data": {
            "text/plain": [
              "(30212, 5)"
            ]
          },
          "metadata": {},
          "execution_count": 74
        }
      ]
    },
    {
      "cell_type": "code",
      "source": [
        "model_3_preds = tf.argmax(model_3_pred_probs, axis=1)"
      ],
      "metadata": {
        "id": "fnNOvGu5jLmX"
      },
      "execution_count": null,
      "outputs": []
    },
    {
      "cell_type": "code",
      "source": [
        "model_3_preds, model_3_preds.shape"
      ],
      "metadata": {
        "colab": {
          "base_uri": "https://localhost:8080/"
        },
        "id": "f5k1gpZEkPDu",
        "outputId": "9b291c2f-40f0-4b3a-a9f9-a30f90a4e407"
      },
      "execution_count": null,
      "outputs": [
        {
          "output_type": "execute_result",
          "data": {
            "text/plain": [
              "(<tf.Tensor: shape=(30212,), dtype=int64, numpy=array([0, 0, 3, ..., 4, 2, 1])>,\n",
              " TensorShape([30212]))"
            ]
          },
          "metadata": {},
          "execution_count": 76
        }
      ]
    },
    {
      "cell_type": "code",
      "source": [
        "model_3_crp = classification_report(model_3_preds, test_labels_encoded,  output_dict=True)"
      ],
      "metadata": {
        "id": "G6IHeh5ginFM"
      },
      "execution_count": null,
      "outputs": []
    },
    {
      "cell_type": "code",
      "source": [
        "model_3_crp_df = create_crp(model_3_crp, label_encoder.classes_, experiment_name='Model 3: Conv1D char')"
      ],
      "metadata": {
        "id": "Pwg-EX5TjIXm"
      },
      "execution_count": null,
      "outputs": []
    },
    {
      "cell_type": "code",
      "source": [
        "model_3_crp_df"
      ],
      "metadata": {
        "colab": {
          "base_uri": "https://localhost:8080/",
          "height": 332
        },
        "id": "MEIguHO6tZUr",
        "outputId": "aef05ff3-5626-41dd-ba5d-4fc7c214accb"
      },
      "execution_count": null,
      "outputs": [
        {
          "output_type": "execute_result",
          "data": {
            "text/plain": [
              "              Model 3: Conv1D char                                  \n",
              "                         precision    recall  f1-score       support\n",
              "0_background              0.455784  0.456977  0.456380   3440.000000\n",
              "1_conclusions             0.491925  0.482862  0.487351   4668.000000\n",
              "2_methods                 0.823665  0.711117  0.763264  11541.000000\n",
              "3_objective               0.436869  0.684697  0.533402   1516.000000\n",
              "4_results                 0.715984  0.778822  0.746082   9047.000000\n",
              "accuracy                  0.665861  0.665861  0.665861      0.665861\n",
              "macro avg                 0.584845  0.622895  0.597296  30212.000000\n",
              "weighted avg              0.678867  0.665861  0.669012  30212.000000"
            ],
            "text/html": [
              "\n",
              "  <div id=\"df-d7daf958-0f9a-4cf7-82a9-d8d0eb6cdb3f\">\n",
              "    <div class=\"colab-df-container\">\n",
              "      <div>\n",
              "<style scoped>\n",
              "    .dataframe tbody tr th:only-of-type {\n",
              "        vertical-align: middle;\n",
              "    }\n",
              "\n",
              "    .dataframe tbody tr th {\n",
              "        vertical-align: top;\n",
              "    }\n",
              "\n",
              "    .dataframe thead tr th {\n",
              "        text-align: left;\n",
              "    }\n",
              "</style>\n",
              "<table border=\"1\" class=\"dataframe\">\n",
              "  <thead>\n",
              "    <tr>\n",
              "      <th></th>\n",
              "      <th colspan=\"4\" halign=\"left\">Model 3: Conv1D char</th>\n",
              "    </tr>\n",
              "    <tr>\n",
              "      <th></th>\n",
              "      <th>precision</th>\n",
              "      <th>recall</th>\n",
              "      <th>f1-score</th>\n",
              "      <th>support</th>\n",
              "    </tr>\n",
              "  </thead>\n",
              "  <tbody>\n",
              "    <tr>\n",
              "      <th>0_background</th>\n",
              "      <td>0.455784</td>\n",
              "      <td>0.456977</td>\n",
              "      <td>0.456380</td>\n",
              "      <td>3440.000000</td>\n",
              "    </tr>\n",
              "    <tr>\n",
              "      <th>1_conclusions</th>\n",
              "      <td>0.491925</td>\n",
              "      <td>0.482862</td>\n",
              "      <td>0.487351</td>\n",
              "      <td>4668.000000</td>\n",
              "    </tr>\n",
              "    <tr>\n",
              "      <th>2_methods</th>\n",
              "      <td>0.823665</td>\n",
              "      <td>0.711117</td>\n",
              "      <td>0.763264</td>\n",
              "      <td>11541.000000</td>\n",
              "    </tr>\n",
              "    <tr>\n",
              "      <th>3_objective</th>\n",
              "      <td>0.436869</td>\n",
              "      <td>0.684697</td>\n",
              "      <td>0.533402</td>\n",
              "      <td>1516.000000</td>\n",
              "    </tr>\n",
              "    <tr>\n",
              "      <th>4_results</th>\n",
              "      <td>0.715984</td>\n",
              "      <td>0.778822</td>\n",
              "      <td>0.746082</td>\n",
              "      <td>9047.000000</td>\n",
              "    </tr>\n",
              "    <tr>\n",
              "      <th>accuracy</th>\n",
              "      <td>0.665861</td>\n",
              "      <td>0.665861</td>\n",
              "      <td>0.665861</td>\n",
              "      <td>0.665861</td>\n",
              "    </tr>\n",
              "    <tr>\n",
              "      <th>macro avg</th>\n",
              "      <td>0.584845</td>\n",
              "      <td>0.622895</td>\n",
              "      <td>0.597296</td>\n",
              "      <td>30212.000000</td>\n",
              "    </tr>\n",
              "    <tr>\n",
              "      <th>weighted avg</th>\n",
              "      <td>0.678867</td>\n",
              "      <td>0.665861</td>\n",
              "      <td>0.669012</td>\n",
              "      <td>30212.000000</td>\n",
              "    </tr>\n",
              "  </tbody>\n",
              "</table>\n",
              "</div>\n",
              "      <button class=\"colab-df-convert\" onclick=\"convertToInteractive('df-d7daf958-0f9a-4cf7-82a9-d8d0eb6cdb3f')\"\n",
              "              title=\"Convert this dataframe to an interactive table.\"\n",
              "              style=\"display:none;\">\n",
              "        \n",
              "  <svg xmlns=\"http://www.w3.org/2000/svg\" height=\"24px\"viewBox=\"0 0 24 24\"\n",
              "       width=\"24px\">\n",
              "    <path d=\"M0 0h24v24H0V0z\" fill=\"none\"/>\n",
              "    <path d=\"M18.56 5.44l.94 2.06.94-2.06 2.06-.94-2.06-.94-.94-2.06-.94 2.06-2.06.94zm-11 1L8.5 8.5l.94-2.06 2.06-.94-2.06-.94L8.5 2.5l-.94 2.06-2.06.94zm10 10l.94 2.06.94-2.06 2.06-.94-2.06-.94-.94-2.06-.94 2.06-2.06.94z\"/><path d=\"M17.41 7.96l-1.37-1.37c-.4-.4-.92-.59-1.43-.59-.52 0-1.04.2-1.43.59L10.3 9.45l-7.72 7.72c-.78.78-.78 2.05 0 2.83L4 21.41c.39.39.9.59 1.41.59.51 0 1.02-.2 1.41-.59l7.78-7.78 2.81-2.81c.8-.78.8-2.07 0-2.86zM5.41 20L4 18.59l7.72-7.72 1.47 1.35L5.41 20z\"/>\n",
              "  </svg>\n",
              "      </button>\n",
              "      \n",
              "  <style>\n",
              "    .colab-df-container {\n",
              "      display:flex;\n",
              "      flex-wrap:wrap;\n",
              "      gap: 12px;\n",
              "    }\n",
              "\n",
              "    .colab-df-convert {\n",
              "      background-color: #E8F0FE;\n",
              "      border: none;\n",
              "      border-radius: 50%;\n",
              "      cursor: pointer;\n",
              "      display: none;\n",
              "      fill: #1967D2;\n",
              "      height: 32px;\n",
              "      padding: 0 0 0 0;\n",
              "      width: 32px;\n",
              "    }\n",
              "\n",
              "    .colab-df-convert:hover {\n",
              "      background-color: #E2EBFA;\n",
              "      box-shadow: 0px 1px 2px rgba(60, 64, 67, 0.3), 0px 1px 3px 1px rgba(60, 64, 67, 0.15);\n",
              "      fill: #174EA6;\n",
              "    }\n",
              "\n",
              "    [theme=dark] .colab-df-convert {\n",
              "      background-color: #3B4455;\n",
              "      fill: #D2E3FC;\n",
              "    }\n",
              "\n",
              "    [theme=dark] .colab-df-convert:hover {\n",
              "      background-color: #434B5C;\n",
              "      box-shadow: 0px 1px 3px 1px rgba(0, 0, 0, 0.15);\n",
              "      filter: drop-shadow(0px 1px 2px rgba(0, 0, 0, 0.3));\n",
              "      fill: #FFFFFF;\n",
              "    }\n",
              "  </style>\n",
              "\n",
              "      <script>\n",
              "        const buttonEl =\n",
              "          document.querySelector('#df-d7daf958-0f9a-4cf7-82a9-d8d0eb6cdb3f button.colab-df-convert');\n",
              "        buttonEl.style.display =\n",
              "          google.colab.kernel.accessAllowed ? 'block' : 'none';\n",
              "\n",
              "        async function convertToInteractive(key) {\n",
              "          const element = document.querySelector('#df-d7daf958-0f9a-4cf7-82a9-d8d0eb6cdb3f');\n",
              "          const dataTable =\n",
              "            await google.colab.kernel.invokeFunction('convertToInteractive',\n",
              "                                                     [key], {});\n",
              "          if (!dataTable) return;\n",
              "\n",
              "          const docLinkHtml = 'Like what you see? Visit the ' +\n",
              "            '<a target=\"_blank\" href=https://colab.research.google.com/notebooks/data_table.ipynb>data table notebook</a>'\n",
              "            + ' to learn more about interactive tables.';\n",
              "          element.innerHTML = '';\n",
              "          dataTable['output_type'] = 'display_data';\n",
              "          await google.colab.output.renderOutput(dataTable, element);\n",
              "          const docLink = document.createElement('div');\n",
              "          docLink.innerHTML = docLinkHtml;\n",
              "          element.appendChild(docLink);\n",
              "        }\n",
              "      </script>\n",
              "    </div>\n",
              "  </div>\n",
              "  "
            ]
          },
          "metadata": {},
          "execution_count": 79
        }
      ]
    },
    {
      "cell_type": "markdown",
      "source": [
        "## Model 4: Combined pretrained token embeddings + character embeddings"
      ],
      "metadata": {
        "id": "MPP8vTz_vKHa"
      }
    },
    {
      "cell_type": "code",
      "source": [
        "# Download TFHub USE\n",
        "import tensorflow_hub as hub\n",
        "USE_embedding = hub.KerasLayer('https://tfhub.dev/google/universal-sentence-encoder/4', trainable=False)"
      ],
      "metadata": {
        "id": "qaWcF99hwGKf"
      },
      "execution_count": null,
      "outputs": []
    },
    {
      "cell_type": "markdown",
      "source": [
        "### Create token embedding submodel"
      ],
      "metadata": {
        "id": "jgElJsZDw2hP"
      }
    },
    {
      "cell_type": "code",
      "source": [
        "token_inputs = Input(shape=[], dtype=tf.string, name='token_inputs')\n",
        "token_embedding = USE_embedding(token_inputs)\n",
        "token_output = Dense(128, activation='relu')(token_embedding)\n",
        "\n",
        "token_model = tf.keras.Model(inputs=token_inputs, outputs = token_output )"
      ],
      "metadata": {
        "id": "R1ilUgJfvJw2"
      },
      "execution_count": null,
      "outputs": []
    },
    {
      "cell_type": "code",
      "source": [
        "token_model.summary()"
      ],
      "metadata": {
        "colab": {
          "base_uri": "https://localhost:8080/"
        },
        "id": "tilMs11EuFhK",
        "outputId": "0abcd741-9f11-4b09-f13c-5a09c8a1f8d7"
      },
      "execution_count": null,
      "outputs": [
        {
          "output_type": "stream",
          "name": "stdout",
          "text": [
            "Model: \"model\"\n",
            "_________________________________________________________________\n",
            " Layer (type)                Output Shape              Param #   \n",
            "=================================================================\n",
            " token_inputs (InputLayer)   [(None,)]                 0         \n",
            "                                                                 \n",
            " keras_layer (KerasLayer)    (None, 512)               256797824 \n",
            "                                                                 \n",
            " dense (Dense)               (None, 128)               65664     \n",
            "                                                                 \n",
            "=================================================================\n",
            "Total params: 256,863,488\n",
            "Trainable params: 65,664\n",
            "Non-trainable params: 256,797,824\n",
            "_________________________________________________________________\n"
          ]
        }
      ]
    },
    {
      "cell_type": "markdown",
      "source": [
        "### Create character embedding submodel"
      ],
      "metadata": {
        "id": "ndY-H9Efw55v"
      }
    },
    {
      "cell_type": "code",
      "source": [
        "# Create char embedding layer\n",
        "embedding_4 = Embedding(input_dim=len(char_vocab),\n",
        "                      output_dim=25, # number assumed in the paper\n",
        "                      mask_zero=True,\n",
        "                      name='char_embed')"
      ],
      "metadata": {
        "id": "wKTy9JnsxQ73"
      },
      "execution_count": null,
      "outputs": []
    },
    {
      "cell_type": "code",
      "source": [
        "from tensorflow.keras.layers import Bidirectional, LSTM, Dropout"
      ],
      "metadata": {
        "id": "AqYv0SCtxizc"
      },
      "execution_count": null,
      "outputs": []
    },
    {
      "cell_type": "code",
      "source": [
        "char_inputs = Input(shape=(1,), dtype=tf.string, name='char_input')\n",
        "char_vectors = char_vectorizer(char_inputs)\n",
        "char_embedding = embedding_4(char_vectors)\n",
        "char_bi_lstm = Bidirectional(LSTM(24))(char_embedding)\n",
        "\n",
        "chars_model = tf.keras.Model(inputs=char_inputs, outputs=char_bi_lstm)"
      ],
      "metadata": {
        "id": "uRL-agS6wruS"
      },
      "execution_count": null,
      "outputs": []
    },
    {
      "cell_type": "code",
      "source": [
        "chars_model.summary()"
      ],
      "metadata": {
        "colab": {
          "base_uri": "https://localhost:8080/"
        },
        "id": "AIIId6kQyD90",
        "outputId": "8205f487-65ec-4679-c5c9-1b88731d2dbf"
      },
      "execution_count": null,
      "outputs": [
        {
          "output_type": "stream",
          "name": "stdout",
          "text": [
            "Model: \"model_1\"\n",
            "_________________________________________________________________\n",
            " Layer (type)                Output Shape              Param #   \n",
            "=================================================================\n",
            " char_input (InputLayer)     [(None, 1)]               0         \n",
            "                                                                 \n",
            " char_vectorizer (TextVector  (None, 175)              0         \n",
            " ization)                                                        \n",
            "                                                                 \n",
            " char_embed (Embedding)      (None, 175, 25)           700       \n",
            "                                                                 \n",
            " bidirectional (Bidirectiona  (None, 48)               9600      \n",
            " l)                                                              \n",
            "                                                                 \n",
            "=================================================================\n",
            "Total params: 10,300\n",
            "Trainable params: 10,300\n",
            "Non-trainable params: 0\n",
            "_________________________________________________________________\n"
          ]
        }
      ]
    },
    {
      "cell_type": "markdown",
      "source": [
        "### Concatenate outputs of chars_model and token_model"
      ],
      "metadata": {
        "id": "VbQjlPo_yyp4"
      }
    },
    {
      "cell_type": "code",
      "source": [
        "from tensorflow.keras.layers import Concatenate"
      ],
      "metadata": {
        "id": "S-Wt6qWoy6ko"
      },
      "execution_count": null,
      "outputs": []
    },
    {
      "cell_type": "code",
      "source": [
        "token_char_concat = Concatenate(name='concat_tok_char')([token_model.output, chars_model.output])"
      ],
      "metadata": {
        "id": "rdkiN5ERyG2J"
      },
      "execution_count": null,
      "outputs": []
    },
    {
      "cell_type": "markdown",
      "source": [
        "### Create output layer seaquence and build model 4\n",
        "\n",
        "---\n",
        "\n"
      ],
      "metadata": {
        "id": "00x0n85UzjZG"
      }
    },
    {
      "cell_type": "code",
      "source": [
        "combined_dropout = Dropout(.5)(token_char_concat)\n",
        "combined_dense = Dense(128, activation='relu')(combined_dropout)\n",
        "final_dropout = Dropout(0.5)(combined_dense)\n",
        "output_layer = Dense(5, activation='softmax')(final_dropout)"
      ],
      "metadata": {
        "id": "Au6tU1TnzWTB"
      },
      "execution_count": null,
      "outputs": []
    },
    {
      "cell_type": "code",
      "source": [
        "len(list(train_chars_dataset)), len(list(train_dataset))"
      ],
      "metadata": {
        "colab": {
          "base_uri": "https://localhost:8080/"
        },
        "id": "2r9nnitS0oqp",
        "outputId": "3e12c05e-e66e-43ae-b520-ea298e362b11"
      },
      "execution_count": null,
      "outputs": [
        {
          "output_type": "execute_result",
          "data": {
            "text/plain": [
              "(5627, 5627)"
            ]
          },
          "metadata": {},
          "execution_count": 73
        }
      ]
    },
    {
      "cell_type": "code",
      "source": [
        "model_4 = tf.keras.Model(\n",
        "    inputs=[token_model.input, chars_model.input],\n",
        "    outputs=output_layer,\n",
        "    name='tok_char_embed'\n",
        ")"
      ],
      "metadata": {
        "id": "azuVsk310Upr"
      },
      "execution_count": null,
      "outputs": []
    },
    {
      "cell_type": "code",
      "source": [
        "model_4.summary()"
      ],
      "metadata": {
        "colab": {
          "base_uri": "https://localhost:8080/"
        },
        "id": "TtJJvUY71LD7",
        "outputId": "5a4fd035-a565-4666-a7bd-1cf63b5db0c9"
      },
      "execution_count": null,
      "outputs": [
        {
          "output_type": "stream",
          "name": "stdout",
          "text": [
            "Model: \"tok_char_embed\"\n",
            "__________________________________________________________________________________________________\n",
            " Layer (type)                   Output Shape         Param #     Connected to                     \n",
            "==================================================================================================\n",
            " char_input (InputLayer)        [(None, 1)]          0           []                               \n",
            "                                                                                                  \n",
            " token_inputs (InputLayer)      [(None,)]            0           []                               \n",
            "                                                                                                  \n",
            " char_vectorizer (TextVectoriza  (None, 175)         0           ['char_input[0][0]']             \n",
            " tion)                                                                                            \n",
            "                                                                                                  \n",
            " keras_layer (KerasLayer)       (None, 512)          256797824   ['token_inputs[0][0]']           \n",
            "                                                                                                  \n",
            " char_embed (Embedding)         (None, 175, 25)      700         ['char_vectorizer[0][0]']        \n",
            "                                                                                                  \n",
            " dense (Dense)                  (None, 128)          65664       ['keras_layer[0][0]']            \n",
            "                                                                                                  \n",
            " bidirectional (Bidirectional)  (None, 48)           9600        ['char_embed[0][0]']             \n",
            "                                                                                                  \n",
            " concat_tok_char (Concatenate)  (None, 176)          0           ['dense[0][0]',                  \n",
            "                                                                  'bidirectional[0][0]']          \n",
            "                                                                                                  \n",
            " dropout (Dropout)              (None, 176)          0           ['concat_tok_char[0][0]']        \n",
            "                                                                                                  \n",
            " dense_1 (Dense)                (None, 128)          22656       ['dropout[0][0]']                \n",
            "                                                                                                  \n",
            " dropout_1 (Dropout)            (None, 128)          0           ['dense_1[0][0]']                \n",
            "                                                                                                  \n",
            " dense_2 (Dense)                (None, 5)            645         ['dropout_1[0][0]']              \n",
            "                                                                                                  \n",
            "==================================================================================================\n",
            "Total params: 256,897,089\n",
            "Trainable params: 99,265\n",
            "Non-trainable params: 256,797,824\n",
            "__________________________________________________________________________________________________\n"
          ]
        }
      ]
    },
    {
      "cell_type": "code",
      "source": [
        "from tensorflow.keras.utils import plot_model"
      ],
      "metadata": {
        "id": "5lzzLB1C1OYQ"
      },
      "execution_count": null,
      "outputs": []
    },
    {
      "cell_type": "code",
      "source": [
        "plot_model(model_4, show_shapes=True)"
      ],
      "metadata": {
        "colab": {
          "base_uri": "https://localhost:8080/",
          "height": 976
        },
        "id": "vNa8Lwe72Xhm",
        "outputId": "630be8c7-a259-4ef2-da05-300e589fb1e5"
      },
      "execution_count": null,
      "outputs": [
        {
          "output_type": "execute_result",
          "data": {
            "image/png": "[encoded data removed]",
            "text/plain": [
              "<IPython.core.display.Image object>"
            ]
          },
          "metadata": {},
          "execution_count": 77
        }
      ]
    },
    {
      "cell_type": "code",
      "source": [
        "# Compile the model\n",
        "model_4.compile(\n",
        "    loss=tf.keras.losses.CategoricalCrossentropy(),\n",
        "    optimizer=tf.keras.optimizers.Adam(),\n",
        "    metrics=['accuracy']\n",
        ")"
      ],
      "metadata": {
        "id": "We1Ga9lM2aMC"
      },
      "execution_count": null,
      "outputs": []
    },
    {
      "cell_type": "markdown",
      "source": [
        "### Create data pipeline for combined input"
      ],
      "metadata": {
        "id": "_nwM0nW831-_"
      }
    },
    {
      "cell_type": "markdown",
      "source": [
        "#### Train data"
      ],
      "metadata": {
        "id": "JbfHFXD7777y"
      }
    },
    {
      "cell_type": "code",
      "source": [
        "train_tokchar_data = tf.data.Dataset.from_tensor_slices((train_txt, train_chars))\n",
        "train_tokchar_labels = tf.data.Dataset.from_tensor_slices(train_labels_onehot)\n",
        "\n",
        "train_tokchar_dataset = tf.data.Dataset.zip((train_tokchar_data, train_tokchar_labels))"
      ],
      "metadata": {
        "id": "G4T-LaxR35XK"
      },
      "execution_count": null,
      "outputs": []
    },
    {
      "cell_type": "code",
      "source": [
        "train_tokchar_dataset = train_tokchar_dataset.batch(32).prefetch(tf.data.AUTOTUNE)"
      ],
      "metadata": {
        "id": "jFQamwJB5ZXB"
      },
      "execution_count": null,
      "outputs": []
    },
    {
      "cell_type": "markdown",
      "source": [
        "#### Test data"
      ],
      "metadata": {
        "id": "doaN2yKK7_Ws"
      }
    },
    {
      "cell_type": "code",
      "source": [
        "test_tokchar_data = tf.data.Dataset.from_tensor_slices((test_txt, test_chars))\n",
        "test_tokchar_labels = tf.data.Dataset.from_tensor_slices(test_labels_onehot)\n",
        "\n",
        "test_tokchar_dataset = tf.data.Dataset.zip((test_tokchar_data, test_tokchar_labels))"
      ],
      "metadata": {
        "id": "0HXL2mDU7JmD"
      },
      "execution_count": null,
      "outputs": []
    },
    {
      "cell_type": "code",
      "source": [
        "test_tokchar_dataset = test_tokchar_dataset.batch(32).prefetch(tf.data.AUTOTUNE)"
      ],
      "metadata": {
        "id": "Mze9zmgE7gdb"
      },
      "execution_count": null,
      "outputs": []
    },
    {
      "cell_type": "markdown",
      "source": [
        "#### Validation data"
      ],
      "metadata": {
        "id": "cHYY1-rE8Bou"
      }
    },
    {
      "cell_type": "code",
      "source": [
        "val_tokchar_data = tf.data.Dataset.from_tensor_slices((val_txt, val_chars))\n",
        "val_tokchar_labels = tf.data.Dataset.from_tensor_slices(val_labels_onehot)\n",
        "\n",
        "val_tokchar_dataset = tf.data.Dataset.zip((val_tokchar_data, val_tokchar_labels))"
      ],
      "metadata": {
        "id": "2Pj7Ustl75RR"
      },
      "execution_count": null,
      "outputs": []
    },
    {
      "cell_type": "code",
      "source": [
        "val_tokchar_dataset = val_tokchar_dataset.batch(32).prefetch(tf.data.AUTOTUNE)"
      ],
      "metadata": {
        "id": "uvNOf5Bt8N-x"
      },
      "execution_count": null,
      "outputs": []
    },
    {
      "cell_type": "code",
      "source": [
        "train_tokchar_dataset, test_tokchar_dataset, val_tokchar_dataset"
      ],
      "metadata": {
        "colab": {
          "base_uri": "https://localhost:8080/"
        },
        "id": "LWYi3TTz8Wo6",
        "outputId": "a7606ee6-c33c-4acd-bb08-7c70cb330416"
      },
      "execution_count": null,
      "outputs": [
        {
          "output_type": "execute_result",
          "data": {
            "text/plain": [
              "(<PrefetchDataset element_spec=((TensorSpec(shape=(None,), dtype=tf.string, name=None), TensorSpec(shape=(None,), dtype=tf.string, name=None)), TensorSpec(shape=(None, 5), dtype=tf.float64, name=None))>,\n",
              " <PrefetchDataset element_spec=((TensorSpec(shape=(None,), dtype=tf.string, name=None), TensorSpec(shape=(None,), dtype=tf.string, name=None)), TensorSpec(shape=(None, 5), dtype=tf.float64, name=None))>,\n",
              " <PrefetchDataset element_spec=((TensorSpec(shape=(None,), dtype=tf.string, name=None), TensorSpec(shape=(None,), dtype=tf.string, name=None)), TensorSpec(shape=(None, 5), dtype=tf.float64, name=None))>)"
            ]
          },
          "metadata": {},
          "execution_count": 85
        }
      ]
    },
    {
      "cell_type": "markdown",
      "source": [
        "### Fit the model"
      ],
      "metadata": {
        "id": "hrGBiW6c8ugR"
      }
    },
    {
      "cell_type": "code",
      "source": [
        "history_4 = model_4.fit(\n",
        "    train_tokchar_dataset,\n",
        "    epochs=25,\n",
        "    validation_data=val_tokchar_dataset,\n",
        ")"
      ],
      "metadata": {
        "colab": {
          "base_uri": "https://localhost:8080/"
        },
        "id": "NZI7hZyN8gqt",
        "outputId": "b664e278-3d1c-4b8d-f86b-db60385d792e"
      },
      "execution_count": null,
      "outputs": [
        {
          "output_type": "stream",
          "name": "stdout",
          "text": [
            "Epoch 1/25\n",
            "5627/5627 [==============================] - 185s 31ms/step - loss: 0.7680 - accuracy: 0.7061 - val_loss: 0.6488 - val_accuracy: 0.7522\n",
            "Epoch 2/25\n",
            "5627/5627 [==============================] - 168s 30ms/step - loss: 0.6844 - accuracy: 0.7428 - val_loss: 0.6198 - val_accuracy: 0.7637\n",
            "Epoch 3/25\n",
            "5627/5627 [==============================] - 169s 30ms/step - loss: 0.6615 - accuracy: 0.7503 - val_loss: 0.6072 - val_accuracy: 0.7697\n",
            "Epoch 4/25\n",
            "5627/5627 [==============================] - 169s 30ms/step - loss: 0.6449 - accuracy: 0.7570 - val_loss: 0.5971 - val_accuracy: 0.7719\n",
            "Epoch 5/25\n",
            "5627/5627 [==============================] - 168s 30ms/step - loss: 0.6332 - accuracy: 0.7626 - val_loss: 0.5915 - val_accuracy: 0.7764\n",
            "Epoch 6/25\n",
            "5627/5627 [==============================] - 167s 30ms/step - loss: 0.6245 - accuracy: 0.7665 - val_loss: 0.5867 - val_accuracy: 0.7769\n",
            "Epoch 7/25\n",
            "5627/5627 [==============================] - 166s 30ms/step - loss: 0.6170 - accuracy: 0.7687 - val_loss: 0.5845 - val_accuracy: 0.7793\n",
            "Epoch 8/25\n",
            "5627/5627 [==============================] - 167s 30ms/step - loss: 0.6105 - accuracy: 0.7708 - val_loss: 0.5776 - val_accuracy: 0.7822\n",
            "Epoch 9/25\n",
            "5627/5627 [==============================] - 166s 30ms/step - loss: 0.6030 - accuracy: 0.7734 - val_loss: 0.5822 - val_accuracy: 0.7803\n",
            "Epoch 10/25\n",
            "5627/5627 [==============================] - 166s 30ms/step - loss: 0.5987 - accuracy: 0.7761 - val_loss: 0.5704 - val_accuracy: 0.7858\n",
            "Epoch 11/25\n",
            "5627/5627 [==============================] - 166s 29ms/step - loss: 0.5931 - accuracy: 0.7790 - val_loss: 0.5681 - val_accuracy: 0.7854\n",
            "Epoch 12/25\n",
            "5627/5627 [==============================] - 168s 30ms/step - loss: 0.5902 - accuracy: 0.7792 - val_loss: 0.5667 - val_accuracy: 0.7875\n",
            "Epoch 13/25\n",
            "5627/5627 [==============================] - 179s 32ms/step - loss: 0.5826 - accuracy: 0.7819 - val_loss: 0.5616 - val_accuracy: 0.7890\n",
            "Epoch 14/25\n",
            "5627/5627 [==============================] - 166s 30ms/step - loss: 0.5794 - accuracy: 0.7826 - val_loss: 0.5571 - val_accuracy: 0.7918\n",
            "Epoch 15/25\n",
            "5627/5627 [==============================] - 166s 30ms/step - loss: 0.5743 - accuracy: 0.7861 - val_loss: 0.5560 - val_accuracy: 0.7909\n",
            "Epoch 16/25\n",
            "5627/5627 [==============================] - 167s 30ms/step - loss: 0.5729 - accuracy: 0.7858 - val_loss: 0.5586 - val_accuracy: 0.7912\n",
            "Epoch 17/25\n",
            "5627/5627 [==============================] - 166s 29ms/step - loss: 0.5675 - accuracy: 0.7868 - val_loss: 0.5538 - val_accuracy: 0.7913\n",
            "Epoch 18/25\n",
            "5627/5627 [==============================] - 166s 29ms/step - loss: 0.5668 - accuracy: 0.7879 - val_loss: 0.5532 - val_accuracy: 0.7940\n",
            "Epoch 19/25\n",
            "5627/5627 [==============================] - 166s 29ms/step - loss: 0.5610 - accuracy: 0.7900 - val_loss: 0.5523 - val_accuracy: 0.7933\n",
            "Epoch 20/25\n",
            "5627/5627 [==============================] - 166s 29ms/step - loss: 0.5598 - accuracy: 0.7908 - val_loss: 0.5529 - val_accuracy: 0.7939\n",
            "Epoch 21/25\n",
            "5627/5627 [==============================] - 166s 29ms/step - loss: 0.5577 - accuracy: 0.7924 - val_loss: 0.5523 - val_accuracy: 0.7949\n",
            "Epoch 22/25\n",
            "5627/5627 [==============================] - 165s 29ms/step - loss: 0.5561 - accuracy: 0.7925 - val_loss: 0.5521 - val_accuracy: 0.7956\n",
            "Epoch 23/25\n",
            "5627/5627 [==============================] - 165s 29ms/step - loss: 0.5525 - accuracy: 0.7933 - val_loss: 0.5488 - val_accuracy: 0.7963\n",
            "Epoch 24/25\n",
            "5627/5627 [==============================] - 165s 29ms/step - loss: 0.5492 - accuracy: 0.7945 - val_loss: 0.5469 - val_accuracy: 0.7960\n",
            "Epoch 25/25\n",
            "5627/5627 [==============================] - 165s 29ms/step - loss: 0.5485 - accuracy: 0.7942 - val_loss: 0.5488 - val_accuracy: 0.7955\n"
          ]
        }
      ]
    },
    {
      "cell_type": "markdown",
      "source": [
        "### Evaluate Model 4"
      ],
      "metadata": {
        "id": "YHJ1f-aNGK_7"
      }
    },
    {
      "cell_type": "code",
      "execution_count": null,
      "metadata": {
        "colab": {
          "base_uri": "https://localhost:8080/"
        },
        "outputId": "6b9ed56c-e1b8-487b-9d36-c6f3326c44bc",
        "id": "YiMwKM21UfnY"
      },
      "outputs": [
        {
          "output_type": "stream",
          "name": "stdout",
          "text": [
            "945/945 [==============================] - 14s 15ms/step - loss: 0.5285 - accuracy: 0.8026\n"
          ]
        }
      ],
      "source": [
        "model_4_eval = model_4.evaluate(test_tokchar_dataset)"
      ]
    },
    {
      "cell_type": "code",
      "source": [
        "from BERI_helper_functions import plot_curves_eval, create_crp"
      ],
      "metadata": {
        "id": "YnqeSqmwKSNX"
      },
      "execution_count": null,
      "outputs": []
    },
    {
      "cell_type": "code",
      "source": [
        "# Plot the curves\n",
        "plot_curves_eval(history=history_4, eval_acc=model_4_eval[1], eval_loss=model_4_eval[0])"
      ],
      "metadata": {
        "colab": {
          "base_uri": "https://localhost:8080/",
          "height": 539
        },
        "outputId": "14bec4d4-8a3f-4248-b782-85ffea737e9c",
        "id": "DKCUJr0MUfna"
      },
      "execution_count": null,
      "outputs": [
        {
          "output_type": "display_data",
          "data": {
            "text/plain": [
              "<Figure size 2304x576 with 2 Axes>"
            ],
            "image/png": "[encoded data removed]"
          },
          "metadata": {
            "needs_background": "light"
          }
        }
      ]
    },
    {
      "cell_type": "code",
      "source": [
        "model_4_pred_probs = model_4.predict(test_tokchar_dataset)\n",
        "model_4_pred_probs"
      ],
      "metadata": {
        "colab": {
          "base_uri": "https://localhost:8080/"
        },
        "outputId": "c4a76bd7-ef08-4528-9878-e6d91394a597",
        "id": "b7KK1ZkVUfnb"
      },
      "execution_count": null,
      "outputs": [
        {
          "output_type": "stream",
          "name": "stdout",
          "text": [
            "945/945 [==============================] - 17s 15ms/step\n"
          ]
        },
        {
          "output_type": "execute_result",
          "data": {
            "text/plain": [
              "array([[6.0445118e-01, 1.7336452e-01, 2.7245018e-04, 2.2026129e-01,\n",
              "        1.6505418e-03],\n",
              "       [4.4368511e-01, 3.9349702e-01, 5.8457401e-04, 1.6081229e-01,\n",
              "        1.4210262e-03],\n",
              "       [5.0661087e-01, 1.4472058e-03, 1.5966125e-02, 4.7560564e-01,\n",
              "        3.7022645e-04],\n",
              "       ...,\n",
              "       [1.9654547e-06, 1.2554989e-04, 2.0039792e-04, 2.7858297e-07,\n",
              "        9.9967182e-01],\n",
              "       [7.8460136e-03, 7.4594051e-02, 1.0162767e-01, 2.0738668e-03,\n",
              "        8.1385839e-01],\n",
              "       [1.6117111e-03, 9.9736005e-01, 4.3293872e-05, 4.7674745e-05,\n",
              "        9.3728246e-04]], dtype=float32)"
            ]
          },
          "metadata": {},
          "execution_count": 92
        }
      ]
    },
    {
      "cell_type": "code",
      "source": [
        "model_4_preds = tf.argmax(model_4_pred_probs, axis=1)"
      ],
      "metadata": {
        "id": "8tv8P2KWUfnc"
      },
      "execution_count": null,
      "outputs": []
    },
    {
      "cell_type": "code",
      "source": [
        "from sklearn.metrics import classification_report"
      ],
      "metadata": {
        "id": "McyjLNaOKgEc"
      },
      "execution_count": null,
      "outputs": []
    },
    {
      "cell_type": "code",
      "source": [
        "model_4_crp = classification_report(model_4_preds, test_labels_encoded,  output_dict=True)"
      ],
      "metadata": {
        "id": "d2MqHnHkUfnd"
      },
      "execution_count": null,
      "outputs": []
    },
    {
      "cell_type": "code",
      "source": [
        "model_4_crp_df = create_crp(model_4_crp, label_encoder.classes_, experiment_name='Model 4: tok&char embed')"
      ],
      "metadata": {
        "id": "JikXD_fmUfnd"
      },
      "execution_count": null,
      "outputs": []
    },
    {
      "cell_type": "code",
      "source": [
        "model_4_crp_df"
      ],
      "metadata": {
        "colab": {
          "base_uri": "https://localhost:8080/",
          "height": 332
        },
        "outputId": "bd78a177-e7d2-458a-fcc4-6a0a97f26a76",
        "id": "nUwAWoikUfnd"
      },
      "execution_count": null,
      "outputs": [
        {
          "output_type": "execute_result",
          "data": {
            "text/plain": [
              "              Model 4: tok&char embed                                  \n",
              "                            precision    recall  f1-score       support\n",
              "0_background                 0.652073  0.624722  0.638105   3600.000000\n",
              "1_conclusions                0.705151  0.708708  0.706925   4559.000000\n",
              "2_methods                    0.904757  0.861937  0.882828  10459.000000\n",
              "3_objective                  0.459175  0.834736  0.592452   1307.000000\n",
              "4_results                    0.880297  0.842131  0.860791  10287.000000\n",
              "accuracy                     0.802628  0.802628  0.802628      0.802628\n",
              "macro avg                    0.720291  0.774447  0.736220  30212.000000\n",
              "weighted avg                 0.816922  0.802628  0.807058  30212.000000"
            ],
            "text/html": [
              "\n",
              "  <div id=\"df-4fc9a747-2a21-4844-a535-70ff7c6bb1dc\">\n",
              "    <div class=\"colab-df-container\">\n",
              "      <div>\n",
              "<style scoped>\n",
              "    .dataframe tbody tr th:only-of-type {\n",
              "        vertical-align: middle;\n",
              "    }\n",
              "\n",
              "    .dataframe tbody tr th {\n",
              "        vertical-align: top;\n",
              "    }\n",
              "\n",
              "    .dataframe thead tr th {\n",
              "        text-align: left;\n",
              "    }\n",
              "</style>\n",
              "<table border=\"1\" class=\"dataframe\">\n",
              "  <thead>\n",
              "    <tr>\n",
              "      <th></th>\n",
              "      <th colspan=\"4\" halign=\"left\">Model 4: tok&amp;char embed</th>\n",
              "    </tr>\n",
              "    <tr>\n",
              "      <th></th>\n",
              "      <th>precision</th>\n",
              "      <th>recall</th>\n",
              "      <th>f1-score</th>\n",
              "      <th>support</th>\n",
              "    </tr>\n",
              "  </thead>\n",
              "  <tbody>\n",
              "    <tr>\n",
              "      <th>0_background</th>\n",
              "      <td>0.652073</td>\n",
              "      <td>0.624722</td>\n",
              "      <td>0.638105</td>\n",
              "      <td>3600.000000</td>\n",
              "    </tr>\n",
              "    <tr>\n",
              "      <th>1_conclusions</th>\n",
              "      <td>0.705151</td>\n",
              "      <td>0.708708</td>\n",
              "      <td>0.706925</td>\n",
              "      <td>4559.000000</td>\n",
              "    </tr>\n",
              "    <tr>\n",
              "      <th>2_methods</th>\n",
              "      <td>0.904757</td>\n",
              "      <td>0.861937</td>\n",
              "      <td>0.882828</td>\n",
              "      <td>10459.000000</td>\n",
              "    </tr>\n",
              "    <tr>\n",
              "      <th>3_objective</th>\n",
              "      <td>0.459175</td>\n",
              "      <td>0.834736</td>\n",
              "      <td>0.592452</td>\n",
              "      <td>1307.000000</td>\n",
              "    </tr>\n",
              "    <tr>\n",
              "      <th>4_results</th>\n",
              "      <td>0.880297</td>\n",
              "      <td>0.842131</td>\n",
              "      <td>0.860791</td>\n",
              "      <td>10287.000000</td>\n",
              "    </tr>\n",
              "    <tr>\n",
              "      <th>accuracy</th>\n",
              "      <td>0.802628</td>\n",
              "      <td>0.802628</td>\n",
              "      <td>0.802628</td>\n",
              "      <td>0.802628</td>\n",
              "    </tr>\n",
              "    <tr>\n",
              "      <th>macro avg</th>\n",
              "      <td>0.720291</td>\n",
              "      <td>0.774447</td>\n",
              "      <td>0.736220</td>\n",
              "      <td>30212.000000</td>\n",
              "    </tr>\n",
              "    <tr>\n",
              "      <th>weighted avg</th>\n",
              "      <td>0.816922</td>\n",
              "      <td>0.802628</td>\n",
              "      <td>0.807058</td>\n",
              "      <td>30212.000000</td>\n",
              "    </tr>\n",
              "  </tbody>\n",
              "</table>\n",
              "</div>\n",
              "      <button class=\"colab-df-convert\" onclick=\"convertToInteractive('df-4fc9a747-2a21-4844-a535-70ff7c6bb1dc')\"\n",
              "              title=\"Convert this dataframe to an interactive table.\"\n",
              "              style=\"display:none;\">\n",
              "        \n",
              "  <svg xmlns=\"http://www.w3.org/2000/svg\" height=\"24px\"viewBox=\"0 0 24 24\"\n",
              "       width=\"24px\">\n",
              "    <path d=\"M0 0h24v24H0V0z\" fill=\"none\"/>\n",
              "    <path d=\"M18.56 5.44l.94 2.06.94-2.06 2.06-.94-2.06-.94-.94-2.06-.94 2.06-2.06.94zm-11 1L8.5 8.5l.94-2.06 2.06-.94-2.06-.94L8.5 2.5l-.94 2.06-2.06.94zm10 10l.94 2.06.94-2.06 2.06-.94-2.06-.94-.94-2.06-.94 2.06-2.06.94z\"/><path d=\"M17.41 7.96l-1.37-1.37c-.4-.4-.92-.59-1.43-.59-.52 0-1.04.2-1.43.59L10.3 9.45l-7.72 7.72c-.78.78-.78 2.05 0 2.83L4 21.41c.39.39.9.59 1.41.59.51 0 1.02-.2 1.41-.59l7.78-7.78 2.81-2.81c.8-.78.8-2.07 0-2.86zM5.41 20L4 18.59l7.72-7.72 1.47 1.35L5.41 20z\"/>\n",
              "  </svg>\n",
              "      </button>\n",
              "      \n",
              "  <style>\n",
              "    .colab-df-container {\n",
              "      display:flex;\n",
              "      flex-wrap:wrap;\n",
              "      gap: 12px;\n",
              "    }\n",
              "\n",
              "    .colab-df-convert {\n",
              "      background-color: #E8F0FE;\n",
              "      border: none;\n",
              "      border-radius: 50%;\n",
              "      cursor: pointer;\n",
              "      display: none;\n",
              "      fill: #1967D2;\n",
              "      height: 32px;\n",
              "      padding: 0 0 0 0;\n",
              "      width: 32px;\n",
              "    }\n",
              "\n",
              "    .colab-df-convert:hover {\n",
              "      background-color: #E2EBFA;\n",
              "      box-shadow: 0px 1px 2px rgba(60, 64, 67, 0.3), 0px 1px 3px 1px rgba(60, 64, 67, 0.15);\n",
              "      fill: #174EA6;\n",
              "    }\n",
              "\n",
              "    [theme=dark] .colab-df-convert {\n",
              "      background-color: #3B4455;\n",
              "      fill: #D2E3FC;\n",
              "    }\n",
              "\n",
              "    [theme=dark] .colab-df-convert:hover {\n",
              "      background-color: #434B5C;\n",
              "      box-shadow: 0px 1px 3px 1px rgba(0, 0, 0, 0.15);\n",
              "      filter: drop-shadow(0px 1px 2px rgba(0, 0, 0, 0.3));\n",
              "      fill: #FFFFFF;\n",
              "    }\n",
              "  </style>\n",
              "\n",
              "      <script>\n",
              "        const buttonEl =\n",
              "          document.querySelector('#df-4fc9a747-2a21-4844-a535-70ff7c6bb1dc button.colab-df-convert');\n",
              "        buttonEl.style.display =\n",
              "          google.colab.kernel.accessAllowed ? 'block' : 'none';\n",
              "\n",
              "        async function convertToInteractive(key) {\n",
              "          const element = document.querySelector('#df-4fc9a747-2a21-4844-a535-70ff7c6bb1dc');\n",
              "          const dataTable =\n",
              "            await google.colab.kernel.invokeFunction('convertToInteractive',\n",
              "                                                     [key], {});\n",
              "          if (!dataTable) return;\n",
              "\n",
              "          const docLinkHtml = 'Like what you see? Visit the ' +\n",
              "            '<a target=\"_blank\" href=https://colab.research.google.com/notebooks/data_table.ipynb>data table notebook</a>'\n",
              "            + ' to learn more about interactive tables.';\n",
              "          element.innerHTML = '';\n",
              "          dataTable['output_type'] = 'display_data';\n",
              "          await google.colab.output.renderOutput(dataTable, element);\n",
              "          const docLink = document.createElement('div');\n",
              "          docLink.innerHTML = docLinkHtml;\n",
              "          element.appendChild(docLink);\n",
              "        }\n",
              "      </script>\n",
              "    </div>\n",
              "  </div>\n",
              "  "
            ]
          },
          "metadata": {},
          "execution_count": 117
        }
      ]
    },
    {
      "cell_type": "markdown",
      "source": [
        "### Create a version of model 4 with bi-directional LSTM layer after concatenation\n",
        "(and use already trained character embedding layer)"
      ],
      "metadata": {
        "id": "NdjigTunWqyZ"
      }
    },
    {
      "cell_type": "code",
      "source": [],
      "metadata": {
        "id": "SbC42vJ1DGwq"
      },
      "execution_count": null,
      "outputs": []
    },
    {
      "cell_type": "code",
      "source": [
        "# Create char embedding layer\n",
        "embedding_4_1 = Embedding(input_dim=len(char_vocab),\n",
        "                      output_dim=25, # number assumed in the paper\n",
        "                      mask_zero=True,\n",
        "                      name='char_embed_4_1')"
      ],
      "metadata": {
        "id": "hiZFNDkIDHKY"
      },
      "execution_count": null,
      "outputs": []
    },
    {
      "cell_type": "code",
      "source": [
        "from tensorflow.keras.layers import Bidirectional, LSTM, Dropout"
      ],
      "metadata": {
        "id": "lB0MzcCRDHKa"
      },
      "execution_count": null,
      "outputs": []
    },
    {
      "cell_type": "code",
      "source": [
        "char_inputs = Input(shape=(1,), dtype=tf.string, name='char_input')\n",
        "char_vectors = char_vectorizer(char_inputs)\n",
        "char_embedding = embedding_4_1(char_vectors)\n",
        "char_bi_lstm = Bidirectional(LSTM(24))(char_embedding)\n",
        "\n",
        "chars_model = tf.keras.Model(inputs=char_inputs, outputs=char_bi_lstm)"
      ],
      "metadata": {
        "id": "boG2umWmDHKa"
      },
      "execution_count": null,
      "outputs": []
    },
    {
      "cell_type": "code",
      "source": [
        "# We need to reshape input to the Bidirectional LSTM layer\n",
        "from tensorflow.keras.layers import Reshape"
      ],
      "metadata": {
        "id": "zGkBoRxXXyVm"
      },
      "execution_count": null,
      "outputs": []
    },
    {
      "cell_type": "code",
      "source": [
        "combined_dropout = Dropout(.5)(token_char_concat)\n",
        "reshape = Reshape( (16, 11), input_shape=(176,))(combined_dropout)\n",
        "combined_bidir = Bidirectional(LSTM(16))(reshape)\n",
        "another_dropout = Dropout(0.5)(combined_dense)\n",
        "output_layer_2 = Dense(5, activation='softmax')(another_dropout)"
      ],
      "metadata": {
        "id": "02ifXgzIVCUq"
      },
      "execution_count": null,
      "outputs": []
    },
    {
      "cell_type": "code",
      "source": [
        "model_4_1 = tf.keras.Model(\n",
        "    inputs=[token_model.input, chars_model.input],\n",
        "    outputs=output_layer_2,\n",
        "    name='tok_char_embed_2'\n",
        ")"
      ],
      "metadata": {
        "id": "j7O-l-4XXbCP"
      },
      "execution_count": null,
      "outputs": []
    },
    {
      "cell_type": "code",
      "source": [
        "model_4_1.summary()"
      ],
      "metadata": {
        "id": "S-mWztDoYpAt"
      },
      "execution_count": null,
      "outputs": []
    },
    {
      "cell_type": "code",
      "source": [
        "plot_model(model_4_1, show_shapes=True)"
      ],
      "metadata": {
        "id": "SCjM1LK4YrD1"
      },
      "execution_count": null,
      "outputs": []
    },
    {
      "cell_type": "code",
      "source": [
        "# Compile the model\n",
        "model_4_1.compile(\n",
        "    loss=tf.keras.losses.CategoricalCrossentropy(),\n",
        "    optimizer=tf.keras.optimizers.Adam(),\n",
        "    metrics=['accuracy']\n",
        ")"
      ],
      "metadata": {
        "id": "o8pM3CY9YvbL"
      },
      "execution_count": null,
      "outputs": []
    },
    {
      "cell_type": "code",
      "source": [
        "history_4_1 = model_4_1.fit(\n",
        "    train_tokchar_dataset,\n",
        "    epochs=25,\n",
        "    validation_data=val_tokchar_dataset,\n",
        ")"
      ],
      "metadata": {
        "colab": {
          "base_uri": "https://localhost:8080/"
        },
        "id": "3SQUjZr3Y9Th",
        "outputId": "7dbf60f8-8e4a-4f6f-8171-c6ee2da37f59"
      },
      "execution_count": null,
      "outputs": [
        {
          "output_type": "stream",
          "name": "stdout",
          "text": [
            "Epoch 1/25\n",
            "942/942 [==============================] - 119s 118ms/step - loss: 0.7365 - accuracy: 0.7284 - val_loss: 0.6464 - val_accuracy: 0.7580\n",
            "Epoch 2/25\n",
            "942/942 [==============================] - 106s 113ms/step - loss: 0.5430 - accuracy: 0.7972 - val_loss: 0.6371 - val_accuracy: 0.7597\n",
            "Epoch 3/25\n",
            "942/942 [==============================] - 107s 113ms/step - loss: 0.5124 - accuracy: 0.8105 - val_loss: 0.6380 - val_accuracy: 0.7609\n",
            "Epoch 4/25\n",
            "942/942 [==============================] - 106s 113ms/step - loss: 0.4974 - accuracy: 0.8140 - val_loss: 0.6395 - val_accuracy: 0.7617\n",
            "Epoch 5/25\n",
            "942/942 [==============================] - 106s 113ms/step - loss: 0.4881 - accuracy: 0.8137 - val_loss: 0.6430 - val_accuracy: 0.7617\n",
            "Epoch 6/25\n",
            "942/942 [==============================] - 106s 113ms/step - loss: 0.4824 - accuracy: 0.8177 - val_loss: 0.6460 - val_accuracy: 0.7615\n",
            "Epoch 7/25\n",
            "942/942 [==============================] - 106s 113ms/step - loss: 0.4805 - accuracy: 0.8173 - val_loss: 0.6469 - val_accuracy: 0.7622\n",
            "Epoch 8/25\n",
            "942/942 [==============================] - 106s 113ms/step - loss: 0.4758 - accuracy: 0.8205 - val_loss: 0.6494 - val_accuracy: 0.7612\n",
            "Epoch 9/25\n",
            "942/942 [==============================] - 106s 113ms/step - loss: 0.4773 - accuracy: 0.8184 - val_loss: 0.6470 - val_accuracy: 0.7624\n",
            "Epoch 10/25\n",
            "942/942 [==============================] - 106s 113ms/step - loss: 0.4687 - accuracy: 0.8210 - val_loss: 0.6514 - val_accuracy: 0.7612\n",
            "Epoch 11/25\n",
            "942/942 [==============================] - 106s 112ms/step - loss: 0.4717 - accuracy: 0.8203 - val_loss: 0.6515 - val_accuracy: 0.7613\n",
            "Epoch 12/25\n",
            "942/942 [==============================] - 107s 114ms/step - loss: 0.4640 - accuracy: 0.8225 - val_loss: 0.6534 - val_accuracy: 0.7617\n",
            "Epoch 13/25\n",
            "942/942 [==============================] - 108s 114ms/step - loss: 0.4646 - accuracy: 0.8215 - val_loss: 0.6551 - val_accuracy: 0.7619\n",
            "Epoch 14/25\n",
            "942/942 [==============================] - 108s 114ms/step - loss: 0.4570 - accuracy: 0.8264 - val_loss: 0.6573 - val_accuracy: 0.7616\n",
            "Epoch 15/25\n",
            "942/942 [==============================] - 109s 116ms/step - loss: 0.4619 - accuracy: 0.8265 - val_loss: 0.6563 - val_accuracy: 0.7625\n",
            "Epoch 16/25\n",
            "942/942 [==============================] - 106s 113ms/step - loss: 0.4564 - accuracy: 0.8261 - val_loss: 0.6576 - val_accuracy: 0.7620\n",
            "Epoch 17/25\n",
            "942/942 [==============================] - 106s 112ms/step - loss: 0.4497 - accuracy: 0.8265 - val_loss: 0.6585 - val_accuracy: 0.7624\n",
            "Epoch 18/25\n",
            "942/942 [==============================] - 107s 114ms/step - loss: 0.4505 - accuracy: 0.8279 - val_loss: 0.6592 - val_accuracy: 0.7621\n",
            "Epoch 19/25\n",
            "942/942 [==============================] - 108s 115ms/step - loss: 0.4528 - accuracy: 0.8261 - val_loss: 0.6588 - val_accuracy: 0.7620\n",
            "Epoch 20/25\n",
            "942/942 [==============================] - 108s 115ms/step - loss: 0.4518 - accuracy: 0.8278 - val_loss: 0.6621 - val_accuracy: 0.7622\n",
            "Epoch 21/25\n",
            "942/942 [==============================] - 108s 115ms/step - loss: 0.4481 - accuracy: 0.8299 - val_loss: 0.6608 - val_accuracy: 0.7622\n",
            "Epoch 22/25\n",
            "942/942 [==============================] - 108s 114ms/step - loss: 0.4517 - accuracy: 0.8291 - val_loss: 0.6626 - val_accuracy: 0.7612\n",
            "Epoch 23/25\n",
            "942/942 [==============================] - 106s 113ms/step - loss: 0.4494 - accuracy: 0.8281 - val_loss: 0.6616 - val_accuracy: 0.7621\n",
            "Epoch 24/25\n",
            "942/942 [==============================] - 106s 113ms/step - loss: 0.4497 - accuracy: 0.8298 - val_loss: 0.6633 - val_accuracy: 0.7617\n",
            "Epoch 25/25\n",
            "942/942 [==============================] - 106s 112ms/step - loss: 0.4415 - accuracy: 0.8312 - val_loss: 0.6626 - val_accuracy: 0.7623\n"
          ]
        }
      ]
    },
    {
      "cell_type": "markdown",
      "source": [
        "### Let's experiment with Gaussian Dropout"
      ],
      "metadata": {
        "id": "kPFvhugCmWFF"
      }
    },
    {
      "cell_type": "code",
      "source": [
        "# Create character embedding layer 4_1\n",
        "\n",
        "embedding_4_2 = Embedding(input_dim=len(char_vocab),\n",
        "                      output_dim=25, # number assumed in the paper\n",
        "                      mask_zero=True,\n",
        "                      name='char_embed')"
      ],
      "metadata": {
        "id": "LTn8v6v7ZDrh"
      },
      "execution_count": null,
      "outputs": []
    },
    {
      "cell_type": "code",
      "source": [
        "# Create character model with the new embedding\n",
        "char_inputs_4_2 = Input(shape=(1,), dtype=tf.string, name='char_input')\n",
        "char_vectors = char_vectorizer(char_inputs_4_2)\n",
        "char_embedding_4_2 = embedding_4_2(char_vectors)\n",
        "char_bi_lstm = Bidirectional(LSTM(24))(char_embedding_4_2)\n",
        "\n",
        "chars_model_4_2 = tf.keras.Model(inputs=char_inputs_4_2, outputs=char_bi_lstm)"
      ],
      "metadata": {
        "id": "VchoSSOyqlHv"
      },
      "execution_count": null,
      "outputs": []
    },
    {
      "cell_type": "code",
      "source": [
        "chars_model_4_2.summary()"
      ],
      "metadata": {
        "colab": {
          "base_uri": "https://localhost:8080/"
        },
        "id": "Js9NMsgyq-Y8",
        "outputId": "a73a1745-e28a-4b27-8f87-4097b4d6a905"
      },
      "execution_count": null,
      "outputs": [
        {
          "output_type": "stream",
          "name": "stdout",
          "text": [
            "Model: \"model_3\"\n",
            "_________________________________________________________________\n",
            " Layer (type)                Output Shape              Param #   \n",
            "=================================================================\n",
            " char_input (InputLayer)     [(None, 1)]               0         \n",
            "                                                                 \n",
            " char_vectorizer (TextVector  (None, 175)              0         \n",
            " ization)                                                        \n",
            "                                                                 \n",
            " char_embed (Embedding)      (None, 175, 25)           700       \n",
            "                                                                 \n",
            " bidirectional_3 (Bidirectio  (None, 48)               9600      \n",
            " nal)                                                            \n",
            "                                                                 \n",
            "=================================================================\n",
            "Total params: 10,300\n",
            "Trainable params: 10,300\n",
            "Non-trainable params: 0\n",
            "_________________________________________________________________\n"
          ]
        }
      ]
    },
    {
      "cell_type": "code",
      "source": [
        "# Create roed token model\n",
        "token_inputs_4_2 = Input(shape=[], dtype=tf.string, name='token_inputs')\n",
        "token_embedding = USE_embedding(token_inputs_4_2)\n",
        "token_output_4_2 = Dense(128, activation='relu')(token_embedding)\n",
        "\n",
        "token_model_4_2 = tf.keras.Model(inputs=token_inputs_4_2, outputs = token_output_4_2 )"
      ],
      "metadata": {
        "id": "YygdQz_wrLDT"
      },
      "execution_count": null,
      "outputs": []
    },
    {
      "cell_type": "code",
      "source": [
        "token_model_4_2.summary()"
      ],
      "metadata": {
        "colab": {
          "base_uri": "https://localhost:8080/"
        },
        "id": "9PG0ORRbrn0J",
        "outputId": "be22ef68-d34a-4029-9f23-0bfaeb2c4ed8"
      },
      "execution_count": null,
      "outputs": [
        {
          "output_type": "stream",
          "name": "stdout",
          "text": [
            "Model: \"model_4\"\n",
            "_________________________________________________________________\n",
            " Layer (type)                Output Shape              Param #   \n",
            "=================================================================\n",
            " token_inputs (InputLayer)   [(None,)]                 0         \n",
            "                                                                 \n",
            " keras_layer (KerasLayer)    (None, 512)               256797824 \n",
            "                                                                 \n",
            " dense_4 (Dense)             (None, 128)               65664     \n",
            "                                                                 \n",
            "=================================================================\n",
            "Total params: 256,863,488\n",
            "Trainable params: 65,664\n",
            "Non-trainable params: 256,797,824\n",
            "_________________________________________________________________\n"
          ]
        }
      ]
    },
    {
      "cell_type": "code",
      "source": [
        "# Create concatenation\n",
        "token_char_concat_4_2 = Concatenate(name='concat_tok_char')([token_model_4_2.output, chars_model_4_2.output])"
      ],
      "metadata": {
        "id": "VfIhwAC4r_2l"
      },
      "execution_count": null,
      "outputs": []
    },
    {
      "cell_type": "code",
      "source": [
        "from tensorflow.keras.layers import GaussianDropout"
      ],
      "metadata": {
        "id": "HxtMw76LtDch"
      },
      "execution_count": null,
      "outputs": []
    },
    {
      "cell_type": "code",
      "source": [
        "# Create combined model\n",
        "combined_gauss_dropout = GaussianDropout(.5)(token_char_concat_4_2)\n",
        "reshape = Reshape( (16, 11), input_shape=(176,))(combined_gauss_dropout)\n",
        "combined_bidir_4_2 = Bidirectional(LSTM(16))(reshape)\n",
        "final_dropout_4_2 = Dropout(0.5)(combined_bidir_4_2)\n",
        "output_layer_4_2 = Dense(5, activation='softmax')(final_dropout_4_2)"
      ],
      "metadata": {
        "id": "0GsAmJbPsQJJ"
      },
      "execution_count": null,
      "outputs": []
    },
    {
      "cell_type": "code",
      "source": [
        "model_4_2 = tf.keras.Model(\n",
        "    inputs=[token_model_4_2.input, chars_model_4_2.input],\n",
        "    outputs=output_layer_4_2,\n",
        "    name='tok_char_embed_4_2'\n",
        ")"
      ],
      "metadata": {
        "id": "zHmxtKYpvoOw"
      },
      "execution_count": null,
      "outputs": []
    },
    {
      "cell_type": "code",
      "source": [
        "model_4_2.summary()"
      ],
      "metadata": {
        "colab": {
          "base_uri": "https://localhost:8080/"
        },
        "id": "Xd7XTD6Uv1J8",
        "outputId": "cab66b46-a2f8-4c42-be2a-ff1dfbf553ef"
      },
      "execution_count": null,
      "outputs": [
        {
          "output_type": "stream",
          "name": "stdout",
          "text": [
            "Model: \"tok_char_embed_4_2\"\n",
            "__________________________________________________________________________________________________\n",
            " Layer (type)                   Output Shape         Param #     Connected to                     \n",
            "==================================================================================================\n",
            " char_input (InputLayer)        [(None, 1)]          0           []                               \n",
            "                                                                                                  \n",
            " token_inputs (InputLayer)      [(None,)]            0           []                               \n",
            "                                                                                                  \n",
            " char_vectorizer (TextVectoriza  (None, 175)         0           ['char_input[0][0]']             \n",
            " tion)                                                                                            \n",
            "                                                                                                  \n",
            " keras_layer (KerasLayer)       (None, 512)          256797824   ['token_inputs[0][0]']           \n",
            "                                                                                                  \n",
            " char_embed (Embedding)         (None, 175, 25)      700         ['char_vectorizer[3][0]']        \n",
            "                                                                                                  \n",
            " dense_4 (Dense)                (None, 128)          65664       ['keras_layer[1][0]']            \n",
            "                                                                                                  \n",
            " bidirectional_3 (Bidirectional  (None, 48)          9600        ['char_embed[0][0]']             \n",
            " )                                                                                                \n",
            "                                                                                                  \n",
            " concat_tok_char (Concatenate)  (None, 176)          0           ['dense_4[0][0]',                \n",
            "                                                                  'bidirectional_3[0][0]']        \n",
            "                                                                                                  \n",
            " gaussian_dropout (GaussianDrop  (None, 176)         0           ['concat_tok_char[0][0]']        \n",
            " out)                                                                                             \n",
            "                                                                                                  \n",
            " reshape_1 (Reshape)            (None, 16, 11)       0           ['gaussian_dropout[0][0]']       \n",
            "                                                                                                  \n",
            " bidirectional_4 (Bidirectional  (None, 32)          3584        ['reshape_1[0][0]']              \n",
            " )                                                                                                \n",
            "                                                                                                  \n",
            " dropout_4 (Dropout)            (None, 32)           0           ['bidirectional_4[0][0]']        \n",
            "                                                                                                  \n",
            " dense_5 (Dense)                (None, 5)            165         ['dropout_4[0][0]']              \n",
            "                                                                                                  \n",
            "==================================================================================================\n",
            "Total params: 256,877,537\n",
            "Trainable params: 79,713\n",
            "Non-trainable params: 256,797,824\n",
            "__________________________________________________________________________________________________\n"
          ]
        }
      ]
    },
    {
      "cell_type": "code",
      "source": [
        "# Compile the model\n",
        "model_4_2.compile(\n",
        "    loss=tf.keras.losses.CategoricalCrossentropy(),\n",
        "    optimizer=tf.keras.optimizers.Adam(),\n",
        "    metrics=['accuracy']\n",
        ")"
      ],
      "metadata": {
        "id": "X___uyRov35U"
      },
      "execution_count": null,
      "outputs": []
    },
    {
      "cell_type": "code",
      "source": [
        "history_4_2 = model_4_2.fit(\n",
        "    train_tokchar_dataset,\n",
        "    epochs=50,\n",
        "    validation_data=val_tokchar_dataset,\n",
        ")"
      ],
      "metadata": {
        "colab": {
          "base_uri": "https://localhost:8080/"
        },
        "id": "t8ZOLQS7wxMQ",
        "outputId": "51c7acf7-bda5-48c0-fbec-af073d7da76d"
      },
      "execution_count": null,
      "outputs": [
        {
          "output_type": "stream",
          "name": "stdout",
          "text": [
            "Epoch 1/50\n",
            "5627/5627 [==============================] - 196s 33ms/step - loss: 0.8306 - accuracy: 0.6817 - val_loss: 0.6904 - val_accuracy: 0.7417\n",
            "Epoch 2/50\n",
            "5627/5627 [==============================] - 194s 34ms/step - loss: 0.7170 - accuracy: 0.7348 - val_loss: 0.6506 - val_accuracy: 0.7563\n",
            "Epoch 3/50\n",
            "5627/5627 [==============================] - 184s 33ms/step - loss: 0.6875 - accuracy: 0.7476 - val_loss: 0.6281 - val_accuracy: 0.7645\n",
            "Epoch 4/50\n",
            "5627/5627 [==============================] - 184s 33ms/step - loss: 0.6670 - accuracy: 0.7545 - val_loss: 0.6156 - val_accuracy: 0.7694\n",
            "Epoch 5/50\n",
            "5627/5627 [==============================] - 184s 33ms/step - loss: 0.6528 - accuracy: 0.7602 - val_loss: 0.6166 - val_accuracy: 0.7699\n",
            "Epoch 6/50\n",
            "5627/5627 [==============================] - 186s 33ms/step - loss: 0.6427 - accuracy: 0.7639 - val_loss: 0.6077 - val_accuracy: 0.7713\n",
            "Epoch 7/50\n",
            "5627/5627 [==============================] - 184s 33ms/step - loss: 0.6353 - accuracy: 0.7660 - val_loss: 0.5938 - val_accuracy: 0.7767\n",
            "Epoch 8/50\n",
            "5627/5627 [==============================] - 197s 35ms/step - loss: 0.6223 - accuracy: 0.7728 - val_loss: 0.5841 - val_accuracy: 0.7827\n",
            "Epoch 9/50\n",
            "5627/5627 [==============================] - 189s 34ms/step - loss: 0.6152 - accuracy: 0.7755 - val_loss: 0.5816 - val_accuracy: 0.7824\n",
            "Epoch 10/50\n",
            "5627/5627 [==============================] - 186s 33ms/step - loss: 0.6065 - accuracy: 0.7791 - val_loss: 0.5843 - val_accuracy: 0.7820\n",
            "Epoch 11/50\n",
            "5627/5627 [==============================] - 182s 32ms/step - loss: 0.5976 - accuracy: 0.7826 - val_loss: 0.5760 - val_accuracy: 0.7852\n",
            "Epoch 12/50\n",
            "5627/5627 [==============================] - 183s 32ms/step - loss: 0.5922 - accuracy: 0.7839 - val_loss: 0.5751 - val_accuracy: 0.7879\n",
            "Epoch 13/50\n",
            "5627/5627 [==============================] - 183s 32ms/step - loss: 0.5865 - accuracy: 0.7864 - val_loss: 0.5721 - val_accuracy: 0.7869\n",
            "Epoch 14/50\n",
            "5627/5627 [==============================] - 183s 32ms/step - loss: 0.5812 - accuracy: 0.7887 - val_loss: 0.5711 - val_accuracy: 0.7886\n",
            "Epoch 15/50\n",
            "5627/5627 [==============================] - 183s 33ms/step - loss: 0.5737 - accuracy: 0.7920 - val_loss: 0.5765 - val_accuracy: 0.7877\n",
            "Epoch 16/50\n",
            "5627/5627 [==============================] - 183s 32ms/step - loss: 0.5705 - accuracy: 0.7920 - val_loss: 0.5727 - val_accuracy: 0.7882\n",
            "Epoch 17/50\n",
            "5627/5627 [==============================] - 183s 33ms/step - loss: 0.5665 - accuracy: 0.7933 - val_loss: 0.5619 - val_accuracy: 0.7917\n",
            "Epoch 18/50\n",
            "5627/5627 [==============================] - 183s 32ms/step - loss: 0.5600 - accuracy: 0.7970 - val_loss: 0.5805 - val_accuracy: 0.7862\n",
            "Epoch 19/50\n",
            "5627/5627 [==============================] - 183s 32ms/step - loss: 0.5545 - accuracy: 0.7984 - val_loss: 0.5706 - val_accuracy: 0.7907\n",
            "Epoch 20/50\n",
            "5627/5627 [==============================] - 183s 32ms/step - loss: 0.5503 - accuracy: 0.7995 - val_loss: 0.5693 - val_accuracy: 0.7909\n",
            "Epoch 21/50\n",
            "5627/5627 [==============================] - 182s 32ms/step - loss: 0.5489 - accuracy: 0.7993 - val_loss: 0.5620 - val_accuracy: 0.7952\n",
            "Epoch 22/50\n",
            "5627/5627 [==============================] - 183s 33ms/step - loss: 0.5428 - accuracy: 0.8033 - val_loss: 0.5728 - val_accuracy: 0.7901\n",
            "Epoch 23/50\n",
            "5627/5627 [==============================] - 183s 32ms/step - loss: 0.5412 - accuracy: 0.8034 - val_loss: 0.5676 - val_accuracy: 0.7926\n",
            "Epoch 24/50\n",
            "5627/5627 [==============================] - 182s 32ms/step - loss: 0.5364 - accuracy: 0.8047 - val_loss: 0.5655 - val_accuracy: 0.7930\n",
            "Epoch 25/50\n",
            "5627/5627 [==============================] - 188s 33ms/step - loss: 0.5341 - accuracy: 0.8056 - val_loss: 0.5715 - val_accuracy: 0.7917\n",
            "Epoch 26/50\n",
            "5627/5627 [==============================] - 188s 33ms/step - loss: 0.5291 - accuracy: 0.8080 - val_loss: 0.5726 - val_accuracy: 0.7938\n",
            "Epoch 27/50\n",
            "5627/5627 [==============================] - 187s 33ms/step - loss: 0.5251 - accuracy: 0.8094 - val_loss: 0.5748 - val_accuracy: 0.7919\n",
            "Epoch 28/50\n",
            "5627/5627 [==============================] - 190s 34ms/step - loss: 0.5226 - accuracy: 0.8102 - val_loss: 0.5699 - val_accuracy: 0.7913\n",
            "Epoch 29/50\n",
            "5627/5627 [==============================] - 188s 33ms/step - loss: 0.5200 - accuracy: 0.8118 - val_loss: 0.5772 - val_accuracy: 0.7917\n",
            "Epoch 30/50\n",
            "5627/5627 [==============================] - 187s 33ms/step - loss: 0.5147 - accuracy: 0.8134 - val_loss: 0.5787 - val_accuracy: 0.7932\n",
            "Epoch 31/50\n",
            "5627/5627 [==============================] - 187s 33ms/step - loss: 0.5137 - accuracy: 0.8147 - val_loss: 0.5737 - val_accuracy: 0.7929\n",
            "Epoch 32/50\n",
            "5627/5627 [==============================] - 186s 33ms/step - loss: 0.5094 - accuracy: 0.8158 - val_loss: 0.5888 - val_accuracy: 0.7886\n",
            "Epoch 33/50\n",
            "5627/5627 [==============================] - 187s 33ms/step - loss: 0.5059 - accuracy: 0.8171 - val_loss: 0.5826 - val_accuracy: 0.7924\n",
            "Epoch 34/50\n",
            "5627/5627 [==============================] - 185s 33ms/step - loss: 0.5056 - accuracy: 0.8180 - val_loss: 0.5822 - val_accuracy: 0.7922\n",
            "Epoch 35/50\n",
            "5627/5627 [==============================] - 185s 33ms/step - loss: 0.5030 - accuracy: 0.8180 - val_loss: 0.5854 - val_accuracy: 0.7908\n",
            "Epoch 36/50\n",
            "5627/5627 [==============================] - 187s 33ms/step - loss: 0.4987 - accuracy: 0.8192 - val_loss: 0.5881 - val_accuracy: 0.7917\n",
            "Epoch 37/50\n",
            "5627/5627 [==============================] - 187s 33ms/step - loss: 0.4962 - accuracy: 0.8201 - val_loss: 0.5822 - val_accuracy: 0.7950\n",
            "Epoch 38/50\n",
            "5627/5627 [==============================] - 187s 33ms/step - loss: 0.4948 - accuracy: 0.8216 - val_loss: 0.5965 - val_accuracy: 0.7893\n",
            "Epoch 39/50\n",
            "5627/5627 [==============================] - 188s 33ms/step - loss: 0.4915 - accuracy: 0.8221 - val_loss: 0.5904 - val_accuracy: 0.7896\n",
            "Epoch 40/50\n",
            "5627/5627 [==============================] - 184s 33ms/step - loss: 0.4893 - accuracy: 0.8230 - val_loss: 0.5923 - val_accuracy: 0.7906\n",
            "Epoch 41/50\n",
            "5627/5627 [==============================] - 184s 33ms/step - loss: 0.4881 - accuracy: 0.8245 - val_loss: 0.5904 - val_accuracy: 0.7916\n",
            "Epoch 42/50\n",
            "5627/5627 [==============================] - 185s 33ms/step - loss: 0.4859 - accuracy: 0.8245 - val_loss: 0.5879 - val_accuracy: 0.7913\n",
            "Epoch 43/50\n",
            "5627/5627 [==============================] - 185s 33ms/step - loss: 0.4837 - accuracy: 0.8250 - val_loss: 0.5880 - val_accuracy: 0.7933\n",
            "Epoch 44/50\n",
            "5627/5627 [==============================] - 186s 33ms/step - loss: 0.4839 - accuracy: 0.8249 - val_loss: 0.5931 - val_accuracy: 0.7896\n",
            "Epoch 45/50\n",
            "5627/5627 [==============================] - 185s 33ms/step - loss: 0.4795 - accuracy: 0.8271 - val_loss: 0.6061 - val_accuracy: 0.7898\n",
            "Epoch 46/50\n",
            "5627/5627 [==============================] - 185s 33ms/step - loss: 0.4762 - accuracy: 0.8286 - val_loss: 0.5931 - val_accuracy: 0.7922\n",
            "Epoch 47/50\n",
            "5627/5627 [==============================] - 185s 33ms/step - loss: 0.4794 - accuracy: 0.8274 - val_loss: 0.5999 - val_accuracy: 0.7916\n",
            "Epoch 48/50\n",
            "5627/5627 [==============================] - 185s 33ms/step - loss: 0.4733 - accuracy: 0.8298 - val_loss: 0.6138 - val_accuracy: 0.7869\n",
            "Epoch 49/50\n",
            "5627/5627 [==============================] - 185s 33ms/step - loss: 0.4724 - accuracy: 0.8291 - val_loss: 0.6387 - val_accuracy: 0.7792\n",
            "Epoch 50/50\n",
            "5627/5627 [==============================] - 185s 33ms/step - loss: 0.4730 - accuracy: 0.8293 - val_loss: 0.6076 - val_accuracy: 0.7899\n"
          ]
        }
      ]
    },
    {
      "cell_type": "markdown",
      "source": [
        "### Evaluate Model 4_2"
      ],
      "metadata": {
        "id": "mRf8OrDaL4uW"
      }
    },
    {
      "cell_type": "code",
      "source": [
        "sns.set_style('whitegrid')"
      ],
      "metadata": {
        "id": "l6uh34H5zWBO"
      },
      "execution_count": null,
      "outputs": []
    },
    {
      "cell_type": "code",
      "source": [
        "def plot_curves_eval(history, eval_acc=0.5, eval_loss=0.5):\n",
        "\n",
        "    '''\n",
        "    Uses seaborn and to plot curves\n",
        "    as scatterplot with regression\n",
        "    attrs:\n",
        "    history: tf history object\n",
        "    eval_acc: (float) evaluation accuracy\n",
        "    eval_loss: (float) evaluation loss\n",
        "    '''\n",
        "    from matplotlib import ticker\n",
        "\n",
        "    def forward(x):\n",
        "        return x**(1/3)\n",
        "\n",
        "\n",
        "    def inverse(x):\n",
        "        return x**3\n",
        "\n",
        "    # Create DataFrame\n",
        "    df = pd.DataFrame(history.history)\n",
        "    df.head()\n",
        "\n",
        "    # Setup the figure\n",
        "    plt.figure(figsize=(32, 11))\n",
        "    plt.suptitle(f'Model {history.model.name} metrics', fontsize='x-large')\n",
        "\n",
        "    # Setup loss axis\n",
        "    ax1 = plt.subplot(1, 2, 1)\n",
        "\n",
        "    # Plot grid\n",
        "    ax1.grid(visible=True, which='major', axis='y', linestyle='-', color='gray')\n",
        "    ax1.grid(visible=True, which='minor', axis='y', linestyle='--')\n",
        "\n",
        "    # Setup y scale\n",
        "    ax1.set_yscale('function', functions=(forward, inverse))\n",
        "\n",
        "    # Setup ylim\n",
        "    ax1.set_ylim(0.4, 0.9)\n",
        "\n",
        "    # Setup ticks and grid\n",
        "    ax1.yaxis.set_major_locator(ticker.MultipleLocator(0.1))\n",
        "    ax1.yaxis.set_minor_locator(ticker.AutoMinorLocator(5))\n",
        "    ax1.yaxis.set_ticks_position('left')\n",
        "    ax1.tick_params(which='major', width=1.00, length=5)\n",
        "    ax1.tick_params(which='minor', width=0.75, length=5)\n",
        "\n",
        "    # Plot loss\n",
        "    sns.lineplot(x='index', y='loss', data=df.reset_index(),\n",
        "                label='Training Loss')\n",
        "    sns.lineplot(x='index', y='val_loss', data=df.reset_index(),\n",
        "                label='Validation Loss')\n",
        "    plt.axhline(y=eval_loss, label='Evaluation Loss', color='black', linestyle=':')\n",
        "    plt.legend()\n",
        "    plt.title('Loss Curves')\n",
        "\n",
        "    # Setup accuracy axis\n",
        "    ax2 = plt.subplot(1, 2, 2)\n",
        "\n",
        "    # Plot grid\n",
        "    ax2.grid(visible=True, which='major', axis='y', linestyle='-', color='gray')\n",
        "    ax2.grid(visible=True, which='minor', axis='y', linestyle='--')\n",
        "\n",
        "    # Setup yscale\n",
        "    ax2.set_yscale('function', functions=(inverse, forward))\n",
        "\n",
        "    # Setup ylim\n",
        "    ax2.set_ylim(0.5, 1.0)\n",
        "\n",
        "    # Setup ticks\n",
        "    ax2.yaxis.set_major_locator(ticker.MultipleLocator(0.1))\n",
        "    ax2.yaxis.set_minor_locator(ticker.AutoMinorLocator(5))\n",
        "\n",
        "    ax2.xaxis.set_major_locator(ticker.MultipleLocator(10))\n",
        "    ax2.xaxis.set_minor_locator(ticker.AutoMinorLocator(10))\n",
        "\n",
        "    ax2.yaxis.set_ticks_position('left')\n",
        "    ax2.xaxis.set_ticks_position('bottom')\n",
        "\n",
        "    ax2.tick_params(which='major', width=1.00, length=5)\n",
        "    ax2.tick_params(which='minor', width=0.75, length=5)\n",
        "\n",
        "\n",
        "\n",
        "    # Plot Accuracy\n",
        "    sns.lineplot(x='index', y='accuracy', data=df.reset_index(),\n",
        "                label='Training Accuracy')\n",
        "    sns.lineplot(x='index', y='val_accuracy', data=df.reset_index(),\n",
        "                label='Validation Accuracy')\n",
        "    plt.axhline(y=eval_acc, label='Evaluation Accuracy', color='black', linestyle=':')\n",
        "    plt.legend()\n",
        "    plt.title('Accuracy Curves')\n"
      ],
      "metadata": {
        "id": "Lxq7E1EnyrUj"
      },
      "execution_count": null,
      "outputs": []
    },
    {
      "cell_type": "code",
      "source": [
        "from BERI_helper_functions import plot_curves_eval, create_crp"
      ],
      "metadata": {
        "id": "OL1_cKTei5rf"
      },
      "execution_count": null,
      "outputs": []
    },
    {
      "cell_type": "code",
      "execution_count": null,
      "metadata": {
        "colab": {
          "base_uri": "https://localhost:8080/"
        },
        "id": "G1mP0b-TL7I3",
        "outputId": "b58719c8-8df2-4a50-cbb5-2aa078c7754f"
      },
      "outputs": [
        {
          "output_type": "stream",
          "name": "stdout",
          "text": [
            "945/945 [==============================] - 16s 17ms/step - loss: 0.5782 - accuracy: 0.7963\n"
          ]
        }
      ],
      "source": [
        "model_4_2_eval = model_4_2.evaluate(test_tokchar_dataset)"
      ]
    },
    {
      "cell_type": "code",
      "source": [
        "# Plot the curves\n",
        "plot_curves_eval(history=history_4_2, eval_acc=model_4_2_eval[1], eval_loss=model_4_2_eval[0])"
      ],
      "metadata": {
        "colab": {
          "base_uri": "https://localhost:8080/",
          "height": 723
        },
        "outputId": "e7e2e4dc-4cd5-48e6-febb-3d19d644c158",
        "id": "3ZdzR2GXL7I6"
      },
      "execution_count": null,
      "outputs": [
        {
          "output_type": "display_data",
          "data": {
            "text/plain": [
              "<Figure size 2304x792 with 2 Axes>"
            ],
            "image/png": "[encoded data removed]"
          },
          "metadata": {}
        }
      ]
    },
    {
      "cell_type": "code",
      "source": [
        "model_4_2_pred_probs = model_4_2.predict(test_tokchar_dataset)\n",
        "model_4_2_pred_probs"
      ],
      "metadata": {
        "colab": {
          "base_uri": "https://localhost:8080/"
        },
        "outputId": "c4a76bd7-ef08-4528-9878-e6d91394a597",
        "id": "qCjS9c5ZL7I7"
      },
      "execution_count": null,
      "outputs": [
        {
          "output_type": "stream",
          "name": "stdout",
          "text": [
            "945/945 [==============================] - 17s 15ms/step\n"
          ]
        },
        {
          "output_type": "execute_result",
          "data": {
            "text/plain": [
              "array([[6.0445118e-01, 1.7336452e-01, 2.7245018e-04, 2.2026129e-01,\n",
              "        1.6505418e-03],\n",
              "       [4.4368511e-01, 3.9349702e-01, 5.8457401e-04, 1.6081229e-01,\n",
              "        1.4210262e-03],\n",
              "       [5.0661087e-01, 1.4472058e-03, 1.5966125e-02, 4.7560564e-01,\n",
              "        3.7022645e-04],\n",
              "       ...,\n",
              "       [1.9654547e-06, 1.2554989e-04, 2.0039792e-04, 2.7858297e-07,\n",
              "        9.9967182e-01],\n",
              "       [7.8460136e-03, 7.4594051e-02, 1.0162767e-01, 2.0738668e-03,\n",
              "        8.1385839e-01],\n",
              "       [1.6117111e-03, 9.9736005e-01, 4.3293872e-05, 4.7674745e-05,\n",
              "        9.3728246e-04]], dtype=float32)"
            ]
          },
          "metadata": {},
          "execution_count": 92
        }
      ]
    },
    {
      "cell_type": "code",
      "source": [
        "model_4_2_preds = tf.argmax(model_4_2_pred_probs, axis=1)"
      ],
      "metadata": {
        "id": "ww7GLN3WL7I8"
      },
      "execution_count": null,
      "outputs": []
    },
    {
      "cell_type": "code",
      "source": [
        "model_4_2_crp = classification_report(model_4_2_preds, test_labels_encoded,  output_dict=True)"
      ],
      "metadata": {
        "id": "tT-w3VVIL7I9"
      },
      "execution_count": null,
      "outputs": []
    },
    {
      "cell_type": "code",
      "source": [
        "model_4_2_crp_df = create_crp(model_4_2_crp, label_encoder.classes_, experiment_name='Model 4: tok&char embed')"
      ],
      "metadata": {
        "id": "e8UEMxMkL7I-"
      },
      "execution_count": null,
      "outputs": []
    },
    {
      "cell_type": "code",
      "source": [
        "model_4_2_crp_df"
      ],
      "metadata": {
        "id": "2eIwFofUL7I-"
      },
      "execution_count": null,
      "outputs": []
    },
    {
      "cell_type": "code",
      "source": [],
      "metadata": {
        "id": "iQ_LkgrZMKKb"
      },
      "execution_count": null,
      "outputs": []
    }
  ],
  "metadata": {
    "colab": {
      "provenance": [],
      "machine_shape": "hm",
      "collapsed_sections": [
        "C7NRDrXRtOFF",
        "mJuVA1axKK5G",
        "7ktBJhkePhS6",
        "NdjigTunWqyZ"
      ],
      "authorship_tag": "ABX9TyO6tMoq/2IPKlECCd8uEdo5",
      "include_colab_link": true
    },
    "kernelspec": {
      "display_name": "Python 3",
      "name": "python3"
    },
    "language_info": {
      "name": "python"
    },
    "accelerator": "GPU",
    "gpuClass": "standard"
  },
  "nbformat": 4,
  "nbformat_minor": 0
}