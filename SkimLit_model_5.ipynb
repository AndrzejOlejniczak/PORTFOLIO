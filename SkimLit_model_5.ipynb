{
  "nbformat": 4,
  "nbformat_minor": 0,
  "metadata": {
    "colab": {
      "provenance": [],
      "toc_visible": true,
      "authorship_tag": "ABX9TyMNTpayPUMnxAtCq9CvZiNL",
      "include_colab_link": true
    },
    "kernelspec": {
      "name": "python3",
      "display_name": "Python 3"
    },
    "language_info": {
      "name": "python"
    }
  },
  "cells": [
    {
      "cell_type": "markdown",
      "metadata": {
        "id": "view-in-github",
        "colab_type": "text"
      },
      "source": [
        "<a href=\"https://colab.research.google.com/github/AndrzejOlejniczak/PORTFOLIO/blob/main/SkimLit_model_5.ipynb\" target=\"_parent\"><img src=\"https://colab.research.google.com/assets/colab-badge.svg\" alt=\"Open In Colab\"/></a>"
      ]
    },
    {
      "cell_type": "markdown",
      "metadata": {
        "id": "qdlTtKw9srGU"
      },
      "source": [
        "# *Part THREE of the project*"
      ]
    },
    {
      "cell_type": "markdown",
      "metadata": {
        "id": "1pP9RQjhbhSz"
      },
      "source": [
        "## 1. Get the data"
      ]
    },
    {
      "cell_type": "code",
      "execution_count": null,
      "metadata": {
        "colab": {
          "base_uri": "https://localhost:8080/"
        },
        "id": "A1lQO4vXbXzV",
        "outputId": "7452c6b7-ef59-4f46-d65e-f7c55ed4d332"
      },
      "outputs": [
        {
          "output_type": "stream",
          "name": "stdout",
          "text": [
            "Cloning into 'pubmed-rct'...\n",
            "remote: Enumerating objects: 33, done.\u001b[K\n",
            "remote: Counting objects: 100% (8/8), done.\u001b[K\n",
            "remote: Compressing objects: 100% (3/3), done.\u001b[K\n",
            "remote: Total 33 (delta 5), reused 5 (delta 5), pack-reused 25\u001b[K\n",
            "Unpacking objects: 100% (33/33), 177.08 MiB | 7.16 MiB/s, done.\n",
            "Updating files: 100% (13/13), done.\n"
          ]
        }
      ],
      "source": [
        "!git clone https://github.com/Franck-Dernoncourt/pubmed-rct"
      ]
    },
    {
      "cell_type": "code",
      "execution_count": null,
      "metadata": {
        "id": "n-0_rtNccFdV"
      },
      "outputs": [],
      "source": [
        "# Setup data dir\n",
        "data_dir = '/content/pubmed-rct/PubMed_20k_RCT_numbers_replaced_with_at_sign'"
      ]
    },
    {
      "cell_type": "code",
      "execution_count": null,
      "metadata": {
        "id": "-fsiQqz1c3MN"
      },
      "outputs": [],
      "source": [
        "# Create filenames\n",
        "import os\n",
        "filepaths = [data_dir + '/'+ filename for filename in os.listdir(data_dir)]"
      ]
    },
    {
      "cell_type": "code",
      "execution_count": null,
      "metadata": {
        "colab": {
          "base_uri": "https://localhost:8080/"
        },
        "id": "VB6zoPMFenin",
        "outputId": "c3d89fd2-b27e-4d7b-99eb-2e3a4ff85f61"
      },
      "outputs": [
        {
          "output_type": "execute_result",
          "data": {
            "text/plain": [
              "['/content/pubmed-rct/PubMed_20k_RCT_numbers_replaced_with_at_sign/train.txt',\n",
              " '/content/pubmed-rct/PubMed_20k_RCT_numbers_replaced_with_at_sign/dev.txt',\n",
              " '/content/pubmed-rct/PubMed_20k_RCT_numbers_replaced_with_at_sign/test.txt']"
            ]
          },
          "metadata": {},
          "execution_count": 4
        }
      ],
      "source": [
        "filepaths"
      ]
    },
    {
      "cell_type": "markdown",
      "metadata": {
        "id": "e0TtIWyLdXZX"
      },
      "source": [
        "## 2. Inspect the data"
      ]
    },
    {
      "cell_type": "markdown",
      "metadata": {
        "id": "LCTMutAVds2H"
      },
      "source": [
        "### **HELPER FUNCTION**\n",
        "#### **GET LINES**"
      ]
    },
    {
      "cell_type": "code",
      "execution_count": null,
      "metadata": {
        "id": "DCtU3aB5dKkw"
      },
      "outputs": [],
      "source": [
        "def get_lines(filename):\n",
        "  '''\n",
        "  Reads text using filename and return lines of a text as a list.\n",
        "  Args:\n",
        "    filename: (str) containd filepath\n",
        "  Returns:\n",
        "    A list of strings.\n",
        "  '''\n",
        "  with open(filename, 'r') as f:\n",
        "    return f.readlines()"
      ]
    },
    {
      "cell_type": "code",
      "execution_count": null,
      "metadata": {
        "id": "9xPEfR8weZDJ"
      },
      "outputs": [],
      "source": [
        "train_lines = get_lines(filepaths[0])"
      ]
    },
    {
      "cell_type": "markdown",
      "metadata": {
        "id": "NgB4a_QlfS6L"
      },
      "source": [
        "### 2.1. Check loaded data"
      ]
    },
    {
      "cell_type": "code",
      "execution_count": null,
      "metadata": {
        "colab": {
          "base_uri": "https://localhost:8080/"
        },
        "id": "LtS7WBZUeswJ",
        "outputId": "93b997ed-5505-4c2e-e676-bbe060eea0cc"
      },
      "outputs": [
        {
          "output_type": "execute_result",
          "data": {
            "text/plain": [
              "['###24293578\\n',\n",
              " 'OBJECTIVE\\tTo investigate the efficacy of @ weeks of daily low-dose oral prednisolone in improving pain , mobility , and systemic low-grade inflammation in the short term and whether the effect would be sustained at @ weeks in older adults with moderate to severe knee osteoarthritis ( OA ) .\\n',\n",
              " 'METHODS\\tA total of @ patients with primary knee OA were randomized @:@ ; @ received @ mg/day of prednisolone and @ received placebo for @ weeks .\\n',\n",
              " 'METHODS\\tOutcome measures included pain reduction and improvement in function scores and systemic inflammation markers .\\n',\n",
              " 'METHODS\\tPain was assessed using the visual analog pain scale ( @-@ mm ) .\\n',\n",
              " 'METHODS\\tSecondary outcome measures included the Western Ontario and McMaster Universities Osteoarthritis Index scores , patient global assessment ( PGA ) of the severity of knee OA , and @-min walk distance ( @MWD ) .\\n',\n",
              " 'METHODS\\tSerum levels of interleukin @ ( IL-@ ) , IL-@ , tumor necrosis factor ( TNF ) - , and high-sensitivity C-reactive protein ( hsCRP ) were measured .\\n',\n",
              " 'RESULTS\\tThere was a clinically relevant reduction in the intervention group compared to the placebo group for knee pain , physical function , PGA , and @MWD at @ weeks .\\n',\n",
              " 'RESULTS\\tThe mean difference between treatment arms ( @ % CI ) was @ ( @-@ @ ) , p < @ ; @ ( @-@ @ ) , p < @ ; @ ( @-@ @ ) , p < @ ; and @ ( @-@ @ ) , p < @ , respectively .\\n',\n",
              " 'RESULTS\\tFurther , there was a clinically relevant reduction in the serum levels of IL-@ , IL-@ , TNF - , and hsCRP at @ weeks in the intervention group when compared to the placebo group .\\n',\n",
              " 'RESULTS\\tThese differences remained significant at @ weeks .\\n',\n",
              " 'RESULTS\\tThe Outcome Measures in Rheumatology Clinical Trials-Osteoarthritis Research Society International responder rate was @ % in the intervention group and @ % in the placebo group ( p < @ ) .\\n',\n",
              " 'CONCLUSIONS\\tLow-dose oral prednisolone had both a short-term and a longer sustained effect resulting in less knee pain , better physical function , and attenuation of systemic inflammation in older patients with knee OA ( ClinicalTrials.gov identifier NCT@ ) .\\n',\n",
              " '\\n',\n",
              " '###24854809\\n',\n",
              " 'BACKGROUND\\tEmotional eating is associated with overeating and the development of obesity .\\n',\n",
              " 'BACKGROUND\\tYet , empirical evidence for individual ( trait ) differences in emotional eating and cognitive mechanisms that contribute to eating during sad mood remain equivocal .\\n']"
            ]
          },
          "metadata": {},
          "execution_count": 9
        }
      ],
      "source": [
        "train_lines[:17]"
      ]
    },
    {
      "cell_type": "code",
      "execution_count": null,
      "metadata": {
        "colab": {
          "base_uri": "https://localhost:8080/"
        },
        "id": "Yiu_3x7de5wy",
        "outputId": "b52304dc-35a1-473f-877c-85cc4b1a2334"
      },
      "outputs": [
        {
          "output_type": "execute_result",
          "data": {
            "text/plain": [
              "210040"
            ]
          },
          "metadata": {},
          "execution_count": 10
        }
      ],
      "source": [
        "len(train_lines)"
      ]
    },
    {
      "cell_type": "markdown",
      "metadata": {
        "id": "EtAsgPznf9Yd"
      },
      "source": [
        "**The data is labeled but it isn't split to target / text pairs. We have to invent a way to parse and order it appropriatelly.**"
      ]
    },
    {
      "cell_type": "markdown",
      "metadata": {
        "id": "i8Y8iKS_f6Yy"
      },
      "source": [
        "## 3. Prepare the data"
      ]
    },
    {
      "cell_type": "markdown",
      "metadata": {
        "id": "yy_sgi4lglgQ"
      },
      "source": [
        "Since we are looking for the a meaning of each sentence we can skip abstract signature lines like `'###24293578\\n'` and additional spacing lines `'\\n'`"
      ]
    },
    {
      "cell_type": "code",
      "execution_count": null,
      "metadata": {
        "id": "wWNa2MwcJuEe"
      },
      "outputs": [],
      "source": [
        "import numpy as np\n",
        "import pandas as pd"
      ]
    },
    {
      "cell_type": "code",
      "execution_count": null,
      "metadata": {
        "id": "1l2Di14Iz2NH"
      },
      "outputs": [],
      "source": [
        "def split_lines(lines):\n",
        "  train_data = []\n",
        "  train_data_with_nrows = []\n",
        "  last_counter = 0\n",
        "  counter = 0\n",
        "  for i, row in enumerate(lines):\n",
        "    if row[:3] != '\\n':\n",
        "      if row[:3] != '###':\n",
        "        target, text = row.split('\\t')[0], row.split('\\t')[1].strip('\\n')\n",
        "        train_data.append([counter, target, text])\n",
        "        counter+=1\n",
        "      else:\n",
        "        abstract_symbol = row.strip('\\n')\n",
        "        if i != 0:\n",
        "          counter=0\n",
        "    else:\n",
        "      for el in train_data[-counter:]:\n",
        "        train_data_with_nrows.append(el + [counter] + [abstract_symbol])\n",
        "  return train_data_with_nrows"
      ]
    },
    {
      "cell_type": "code",
      "execution_count": null,
      "metadata": {
        "colab": {
          "base_uri": "https://localhost:8080/"
        },
        "id": "RxtUSzzO90F1",
        "outputId": "7714a07b-36ca-49a1-c2a2-6418864da2bd"
      },
      "outputs": [
        {
          "output_type": "stream",
          "name": "stdout",
          "text": [
            "CPU times: user 1.35 s, sys: 86.5 ms, total: 1.43 s\n",
            "Wall time: 1.44 s\n"
          ]
        }
      ],
      "source": [
        "%%time\n",
        "train_data = split_lines(get_lines('/content/pubmed-rct/PubMed_20k_RCT_numbers_replaced_with_at_sign/train.txt'))\n",
        "test_data = split_lines(get_lines('/content/pubmed-rct/PubMed_20k_RCT_numbers_replaced_with_at_sign/test.txt'))\n",
        "val_data = split_lines(get_lines('/content/pubmed-rct/PubMed_20k_RCT_numbers_replaced_with_at_sign/dev.txt'))"
      ]
    },
    {
      "cell_type": "markdown",
      "metadata": {
        "id": "--KKCYv_Zqj8"
      },
      "source": [
        "### Create DataFrames for train, test and validation data"
      ]
    },
    {
      "cell_type": "code",
      "execution_count": null,
      "metadata": {
        "colab": {
          "base_uri": "https://localhost:8080/"
        },
        "id": "6_9ppWG_-IZN",
        "outputId": "f258dc1e-bbdd-4d87-fc49-23470897e687"
      },
      "outputs": [
        {
          "output_type": "execute_result",
          "data": {
            "text/plain": [
              "(    row       target                                               text  \\\n",
              " 0     0    OBJECTIVE  To investigate the efficacy of @ weeks of dail...   \n",
              " 1     1      METHODS  A total of @ patients with primary knee OA wer...   \n",
              " 2     2      METHODS  Outcome measures included pain reduction and i...   \n",
              " 3     3      METHODS  Pain was assessed using the visual analog pain...   \n",
              " 4     4      METHODS  Secondary outcome measures included the Wester...   \n",
              " 5     5      METHODS  Serum levels of interleukin @ ( IL-@ ) , IL-@ ...   \n",
              " 6     6      RESULTS  There was a clinically relevant reduction in t...   \n",
              " 7     7      RESULTS  The mean difference between treatment arms ( @...   \n",
              " 8     8      RESULTS  Further , there was a clinically relevant redu...   \n",
              " 9     9      RESULTS  These differences remained significant at @ we...   \n",
              " 10   10      RESULTS  The Outcome Measures in Rheumatology Clinical ...   \n",
              " 11   11  CONCLUSIONS  Low-dose oral prednisolone had both a short-te...   \n",
              " 12    0   BACKGROUND  Emotional eating is associated with overeating...   \n",
              " 13    1   BACKGROUND  Yet , empirical evidence for individual ( trai...   \n",
              " 14    2    OBJECTIVE  The aim of this study was to test if attention...   \n",
              " 15    3    OBJECTIVE  It was expected that emotional eating is predi...   \n",
              " 16    4      METHODS  Participants ( N = @ ) were randomly assigned ...   \n",
              " 17    5      METHODS  Attentional biases for high caloric foods were...   \n",
              " 18    6      METHODS  Self-reported emotional eating was assessed wi...   \n",
              " 19    7      RESULTS  Hierarchical multivariate regression modeling ...   \n",
              " 20    8      RESULTS  Yet , attention maintenance on food cues was s...   \n",
              " 21    9  CONCLUSIONS  The current findings show that self-reported e...   \n",
              " 22   10  CONCLUSIONS  Results further suggest that attention mainten...   \n",
              " 23    0   BACKGROUND  Although working smoke alarms halve deaths in ...   \n",
              " 24    1   BACKGROUND  We tested whether theory-based education incre...   \n",
              " \n",
              "     nrows     abstract  \n",
              " 0      12  ###24293578  \n",
              " 1      12  ###24293578  \n",
              " 2      12  ###24293578  \n",
              " 3      12  ###24293578  \n",
              " 4      12  ###24293578  \n",
              " 5      12  ###24293578  \n",
              " 6      12  ###24293578  \n",
              " 7      12  ###24293578  \n",
              " 8      12  ###24293578  \n",
              " 9      12  ###24293578  \n",
              " 10     12  ###24293578  \n",
              " 11     12  ###24293578  \n",
              " 12     11  ###24854809  \n",
              " 13     11  ###24854809  \n",
              " 14     11  ###24854809  \n",
              " 15     11  ###24854809  \n",
              " 16     11  ###24854809  \n",
              " 17     11  ###24854809  \n",
              " 18     11  ###24854809  \n",
              " 19     11  ###24854809  \n",
              " 20     11  ###24854809  \n",
              " 21     11  ###24854809  \n",
              " 22     11  ###24854809  \n",
              " 23     15  ###25165090  \n",
              " 24     15  ###25165090  , 180040)"
            ]
          },
          "metadata": {},
          "execution_count": 15
        }
      ],
      "source": [
        "train_data_df = pd.DataFrame(train_data, columns = ['row', 'target', 'text', 'nrows', 'abstract'])\n",
        "train_data_df.head(25), len(train_data_df)"
      ]
    },
    {
      "cell_type": "code",
      "execution_count": null,
      "metadata": {
        "colab": {
          "base_uri": "https://localhost:8080/"
        },
        "id": "Zh4ej7Y5iX8x",
        "outputId": "2ba1763f-a136-4595-d82e-89e85327b641"
      },
      "outputs": [
        {
          "output_type": "execute_result",
          "data": {
            "text/plain": [
              "(    row       target                                               text  \\\n",
              " 0     0   BACKGROUND  This study analyzed liver function abnormaliti...   \n",
              " 1     1      RESULTS  A post hoc analysis was conducted with the use...   \n",
              " 2     2      RESULTS  Liver function tests ( LFTs ) were measured at...   \n",
              " 3     3      RESULTS  Survival analyses were used to assess the asso...   \n",
              " 4     4      RESULTS  The percentage of patients with abnormal LFTs ...   \n",
              " 5     5      RESULTS  When mean hemodynamic profiles were compared i...   \n",
              " 6     6      RESULTS  Multivariable analyses revealed that patients ...   \n",
              " 7     7  CONCLUSIONS  Abnormal LFTs are common in the ADHF populatio...   \n",
              " 8     8  CONCLUSIONS  Elevated MELD-XI scores are associated with po...   \n",
              " 9     0   BACKGROUND  Minimally invasive endovascular aneurysm repai...   \n",
              " 10    1   BACKGROUND  The aim of this study was to analyse the cost-...   \n",
              " 11    2      METHODS  Resource use was determined from the Amsterdam...   \n",
              " 12    3      METHODS  The analysis was performed from a provider per...   \n",
              " 13    4      METHODS  All costs were calculated as if all patients h...   \n",
              " 14    5      RESULTS            A total of @ patients were randomized .   \n",
              " 15    6      RESULTS  The @-day mortality rate was @ per cent after ...   \n",
              " 16    7      RESULTS  At @months , the total mortality rate for EVAR...   \n",
              " 17    8      RESULTS  The mean cost difference between EVAR and OR w...   \n",
              " 18    9      RESULTS  The incremental cost-effectiveness ratio per p...   \n",
              " 19   10      RESULTS  There was no significant difference in quality...   \n",
              " 20   11      RESULTS     Nor was EVAR superior regarding cost-utility .   \n",
              " 21   12  CONCLUSIONS  EVAR may be more effective for rAAA , but its ...   \n",
              " 22    0   BACKGROUND  Evidence suggests that individuals with social...   \n",
              " 23    1      METHODS  This study investigated whether oxytocin can a...   \n",
              " 24    2      METHODS  In a double-blind , randomized , placebo-contr...   \n",
              " \n",
              "     nrows     abstract  \n",
              " 0       9  ###24845963  \n",
              " 1       9  ###24845963  \n",
              " 2       9  ###24845963  \n",
              " 3       9  ###24845963  \n",
              " 4       9  ###24845963  \n",
              " 5       9  ###24845963  \n",
              " 6       9  ###24845963  \n",
              " 7       9  ###24845963  \n",
              " 8       9  ###24845963  \n",
              " 9      13  ###24469619  \n",
              " 10     13  ###24469619  \n",
              " 11     13  ###24469619  \n",
              " 12     13  ###24469619  \n",
              " 13     13  ###24469619  \n",
              " 14     13  ###24469619  \n",
              " 15     13  ###24469619  \n",
              " 16     13  ###24469619  \n",
              " 17     13  ###24469619  \n",
              " 18     13  ###24469619  \n",
              " 19     13  ###24469619  \n",
              " 20     13  ###24469619  \n",
              " 21     13  ###24469619  \n",
              " 22      9  ###25552432  \n",
              " 23      9  ###25552432  \n",
              " 24      9  ###25552432  , 30135)"
            ]
          },
          "metadata": {},
          "execution_count": 16
        }
      ],
      "source": [
        "test_data_df = pd.DataFrame(test_data, columns = ['row', 'target', 'text', 'nrows', 'abstract'])\n",
        "test_data_df.head(25), len(test_data_df)"
      ]
    },
    {
      "cell_type": "code",
      "execution_count": null,
      "metadata": {
        "colab": {
          "base_uri": "https://localhost:8080/"
        },
        "id": "6bOtNDqn_AK-",
        "outputId": "ca881772-ae73-45da-82ff-edc126494927"
      },
      "outputs": [
        {
          "output_type": "execute_result",
          "data": {
            "text/plain": [
              "(    row       target                                               text  \\\n",
              " 0     0   BACKGROUND  IgE sensitization to Aspergillus fumigatus and...   \n",
              " 1     1   BACKGROUND  It is not clear whether these patients would b...   \n",
              " 2     2    OBJECTIVE  We sought to determine whether a @-month cours...   \n",
              " 3     3      METHODS  Asthmatic patients who were IgE sensitized to ...   \n",
              " 4     4      METHODS  Primary outcomes were improvement in quality o...   \n",
              " 5     5      RESULTS              Sixty-five patients were randomized .   \n",
              " 6     6      RESULTS  Fifty-nine patients started treatment ( @ rece...   \n",
              " 7     7      RESULTS  Fifty-six patients took the full @ months of m...   \n",
              " 8     8      RESULTS  Between the voriconazole and placebo groups , ...   \n",
              " 9     9  CONCLUSIONS  We were unable to show a beneficial effect of ...   \n",
              " 10    0   BACKGROUND  Opioid antagonists ( e.g. , naltrexone ) and p...   \n",
              " 11    1   BACKGROUND  The use of higher doses to achieve greater eff...   \n",
              " 12    2   BACKGROUND  Combining naltrexone and alprazolam might safe...   \n",
              " 13    3    OBJECTIVE  The present pilot study tested the hypothesis ...   \n",
              " 14    4      METHODS  Eight nontreatment-seeking , stimulant-using i...   \n",
              " 15    5      METHODS  Subjective effects , psychomotor task performa...   \n",
              " 16    6      RESULTS  Oral d-amphetamine produced prototypical physi...   \n",
              " 17    7      RESULTS  Pretreatment with naltrexone , alprazolam , an...   \n",
              " 18    8      RESULTS  Naltrexone and alprazolam each significantly a...   \n",
              " 19    9      RESULTS  The combination attenuated a greater number of...   \n",
              " 20   10  CONCLUSIONS  The present results support the continued eval...   \n",
              " 21    0   BACKGROUND  The sequencing of learning materials greatly i...   \n",
              " 22    1   BACKGROUND  Recently , learning theorists have focused on ...   \n",
              " 23    2   BACKGROUND  The general consensus suggests explicit instru...   \n",
              " 24    3    OBJECTIVE  We tested the impact of conceptual instruction...   \n",
              " \n",
              "     nrows     abstract  \n",
              " 0      10  ###24290286  \n",
              " 1      10  ###24290286  \n",
              " 2      10  ###24290286  \n",
              " 3      10  ###24290286  \n",
              " 4      10  ###24290286  \n",
              " 5      10  ###24290286  \n",
              " 6      10  ###24290286  \n",
              " 7      10  ###24290286  \n",
              " 8      10  ###24290286  \n",
              " 9      10  ###24290286  \n",
              " 10     11  ###24464531  \n",
              " 11     11  ###24464531  \n",
              " 12     11  ###24464531  \n",
              " 13     11  ###24464531  \n",
              " 14     11  ###24464531  \n",
              " 15     11  ###24464531  \n",
              " 16     11  ###24464531  \n",
              " 17     11  ###24464531  \n",
              " 18     11  ###24464531  \n",
              " 19     11  ###24464531  \n",
              " 20     11  ###24464531  \n",
              " 21     11  ###24494594  \n",
              " 22     11  ###24494594  \n",
              " 23     11  ###24494594  \n",
              " 24     11  ###24494594  , 30212)"
            ]
          },
          "metadata": {},
          "execution_count": 17
        }
      ],
      "source": [
        "val_data_df = pd.DataFrame(val_data, columns = ['row', 'target', 'text', 'nrows', 'abstract'])\n",
        "val_data_df.head(25), len(val_data_df)"
      ]
    },
    {
      "cell_type": "code",
      "execution_count": null,
      "metadata": {
        "id": "Gdb0dntbDbHS"
      },
      "outputs": [],
      "source": [
        "list_of_datasets = [train_data_df, test_data_df, val_data_df]"
      ]
    },
    {
      "cell_type": "code",
      "execution_count": null,
      "metadata": {
        "id": "qcMJGUYvDvlZ"
      },
      "outputs": [],
      "source": [
        "import matplotlib.pyplot as plt\n",
        "import seaborn as sns"
      ]
    },
    {
      "cell_type": "markdown",
      "metadata": {
        "id": "98dWVFOzZwtL"
      },
      "source": [
        "### 3.1. Create lists of strings for feature vectors"
      ]
    },
    {
      "cell_type": "code",
      "execution_count": null,
      "metadata": {
        "colab": {
          "base_uri": "https://localhost:8080/"
        },
        "id": "FZvbgQOXDGGE",
        "outputId": "31cb5ad1-40c4-42e0-e2c8-831eb584db69"
      },
      "outputs": [
        {
          "output_type": "execute_result",
          "data": {
            "text/plain": [
              "(180040, 30135, 30212)"
            ]
          },
          "metadata": {},
          "execution_count": 20
        }
      ],
      "source": [
        "# Create lists with txt data:\n",
        "train_txt = train_data_df.text.str.lower().to_list()\n",
        "test_txt = test_data_df.text.str.lower().to_list()\n",
        "val_txt = val_data_df.text.str.lower().to_list()\n",
        "\n",
        "len(train_txt), len(test_txt), len(val_txt)"
      ]
    },
    {
      "cell_type": "code",
      "execution_count": null,
      "metadata": {
        "colab": {
          "base_uri": "https://localhost:8080/"
        },
        "id": "OqDVVFJPZX6V",
        "outputId": "d97efda6-be46-4773-df60-03db6c233197"
      },
      "outputs": [
        {
          "output_type": "execute_result",
          "data": {
            "text/plain": [
              "['to investigate the efficacy of @ weeks of daily low-dose oral prednisolone in improving pain , mobility , and systemic low-grade inflammation in the short term and whether the effect would be sustained at @ weeks in older adults with moderate to severe knee osteoarthritis ( oa ) .',\n",
              " 'a total of @ patients with primary knee oa were randomized @:@ ; @ received @ mg/day of prednisolone and @ received placebo for @ weeks .',\n",
              " 'outcome measures included pain reduction and improvement in function scores and systemic inflammation markers .',\n",
              " 'pain was assessed using the visual analog pain scale ( @-@ mm ) .',\n",
              " 'secondary outcome measures included the western ontario and mcmaster universities osteoarthritis index scores , patient global assessment ( pga ) of the severity of knee oa , and @-min walk distance ( @mwd ) .',\n",
              " 'serum levels of interleukin @ ( il-@ ) , il-@ , tumor necrosis factor ( tnf ) - , and high-sensitivity c-reactive protein ( hscrp ) were measured .',\n",
              " 'there was a clinically relevant reduction in the intervention group compared to the placebo group for knee pain , physical function , pga , and @mwd at @ weeks .']"
            ]
          },
          "metadata": {},
          "execution_count": 21
        }
      ],
      "source": [
        "train_txt[:7]"
      ]
    },
    {
      "cell_type": "markdown",
      "metadata": {
        "id": "0B8JyKn9Z5yt"
      },
      "source": [
        "### 3.2. Create one-hot labels\n"
      ]
    },
    {
      "cell_type": "code",
      "execution_count": null,
      "metadata": {
        "colab": {
          "base_uri": "https://localhost:8080/",
          "height": 35
        },
        "id": "-gCcS8wrSweh",
        "outputId": "c9a5251d-0ba6-47af-fee6-461668cbe625"
      },
      "outputs": [
        {
          "output_type": "execute_result",
          "data": {
            "text/plain": [
              "'1.0.2'"
            ],
            "application/vnd.google.colaboratory.intrinsic+json": {
              "type": "string"
            }
          },
          "metadata": {},
          "execution_count": 22
        }
      ],
      "source": [
        "from sklearn.preprocessing import OneHotEncoder\n",
        "import sklearn\n",
        "sklearn.__version__"
      ]
    },
    {
      "cell_type": "code",
      "execution_count": null,
      "metadata": {
        "id": "-MQ5SL6uV4-N"
      },
      "outputs": [],
      "source": [
        "# Instantiate the encoder\n",
        "one_hot_encoder = OneHotEncoder(sparse=False)"
      ]
    },
    {
      "cell_type": "code",
      "execution_count": null,
      "metadata": {
        "id": "gWafSHq1xzG2"
      },
      "outputs": [],
      "source": [
        "train_labels_onehot = one_hot_encoder.fit_transform(train_data_df.target.to_numpy().reshape(-1,1))"
      ]
    },
    {
      "cell_type": "code",
      "execution_count": null,
      "metadata": {
        "colab": {
          "base_uri": "https://localhost:8080/"
        },
        "id": "upebJmG_yIZg",
        "outputId": "b57bb068-a2a1-457e-802c-8fdcab9356a7"
      },
      "outputs": [
        {
          "output_type": "execute_result",
          "data": {
            "text/plain": [
              "(True, True)"
            ]
          },
          "metadata": {},
          "execution_count": 25
        }
      ],
      "source": [
        "train_labels_onehot.shape[1] == train_data_df.target.nunique(), train_labels_onehot.shape[0] == len(train_data_df.target)"
      ]
    },
    {
      "cell_type": "code",
      "execution_count": null,
      "metadata": {
        "id": "IFpF9j0ByPML"
      },
      "outputs": [],
      "source": [
        "test_labels_onehot = one_hot_encoder.transform(test_data_df.target.to_numpy().reshape(-1,1))\n",
        "val_labels_onehot  = one_hot_encoder.transform(val_data_df.target.to_numpy().reshape(-1,1))"
      ]
    },
    {
      "cell_type": "code",
      "execution_count": null,
      "metadata": {
        "colab": {
          "base_uri": "https://localhost:8080/"
        },
        "id": "zRxOFYxmyTsQ",
        "outputId": "d3bc0590-07ec-426a-9b3f-cb371950bf37"
      },
      "outputs": [
        {
          "output_type": "execute_result",
          "data": {
            "text/plain": [
              "array([[1., 0., 0., 0., 0.],\n",
              "       [0., 0., 0., 0., 1.],\n",
              "       [0., 0., 0., 0., 1.],\n",
              "       ...,\n",
              "       [0., 0., 0., 0., 1.],\n",
              "       [0., 0., 0., 0., 1.],\n",
              "       [0., 1., 0., 0., 0.]])"
            ]
          },
          "metadata": {},
          "execution_count": 27
        }
      ],
      "source": [
        "test_labels_onehot"
      ]
    },
    {
      "cell_type": "code",
      "execution_count": null,
      "metadata": {
        "colab": {
          "base_uri": "https://localhost:8080/"
        },
        "id": "NUXKqVa46gfQ",
        "outputId": "1b28d0dc-9098-4441-b1c1-d100a0aef28b"
      },
      "outputs": [
        {
          "output_type": "stream",
          "name": "stderr",
          "text": [
            "/usr/local/lib/python3.8/dist-packages/sklearn/utils/deprecation.py:87: FutureWarning: Function get_feature_names is deprecated; get_feature_names is deprecated in 1.0 and will be removed in 1.2. Please use get_feature_names_out instead.\n",
            "  warnings.warn(msg, category=FutureWarning)\n"
          ]
        },
        {
          "output_type": "execute_result",
          "data": {
            "text/plain": [
              "array(['x0_BACKGROUND', 'x0_CONCLUSIONS', 'x0_METHODS', 'x0_OBJECTIVE',\n",
              "       'x0_RESULTS'], dtype=object)"
            ]
          },
          "metadata": {},
          "execution_count": 28
        }
      ],
      "source": [
        "one_hot_encoder.get_feature_names()"
      ]
    },
    {
      "cell_type": "markdown",
      "metadata": {
        "id": "EiCBgo4O5bBp"
      },
      "source": [
        "### 3.3. Create numeric labels\n",
        "Which will be used for Multinomial Naive Bayes baseline model (model_0)"
      ]
    },
    {
      "cell_type": "code",
      "execution_count": null,
      "metadata": {
        "id": "KZW7E2Na0HCt"
      },
      "outputs": [],
      "source": [
        "from sklearn.preprocessing import LabelEncoder\n",
        "label_encoder = LabelEncoder()"
      ]
    },
    {
      "cell_type": "code",
      "execution_count": null,
      "metadata": {
        "id": "HeKSbBDf5orl"
      },
      "outputs": [],
      "source": [
        "train_labels_encoded = label_encoder.fit_transform(train_data_df.target.to_numpy())\n",
        "test_labels_encoded = label_encoder.transform(test_data_df.target.to_numpy())\n",
        "val_labels_encoded = label_encoder.transform(val_data_df.target.to_numpy())"
      ]
    },
    {
      "cell_type": "code",
      "execution_count": null,
      "metadata": {
        "colab": {
          "base_uri": "https://localhost:8080/"
        },
        "id": "H25F6XIc6JBY",
        "outputId": "f5b696e3-9d6f-4ea4-a6d1-816fb4928cd4"
      },
      "outputs": [
        {
          "output_type": "execute_result",
          "data": {
            "text/plain": [
              "True"
            ]
          },
          "metadata": {},
          "execution_count": 31
        }
      ],
      "source": [
        "len(train_labels_encoded) == len(train_data_df.target)"
      ]
    },
    {
      "cell_type": "code",
      "execution_count": null,
      "metadata": {
        "colab": {
          "base_uri": "https://localhost:8080/"
        },
        "id": "e_yym6Vi6LsF",
        "outputId": "18b60552-aacc-4a62-d686-69820aee6134"
      },
      "outputs": [
        {
          "output_type": "execute_result",
          "data": {
            "text/plain": [
              "array(['BACKGROUND', 'CONCLUSIONS', 'METHODS', 'OBJECTIVE', 'RESULTS'],\n",
              "      dtype=object)"
            ]
          },
          "metadata": {},
          "execution_count": 32
        }
      ],
      "source": [
        "label_encoder.classes_"
      ]
    },
    {
      "cell_type": "markdown",
      "metadata": {
        "id": "9uhAE9RWE4eC"
      },
      "source": [
        "### 3.4. Create text vectorization layer"
      ]
    },
    {
      "cell_type": "code",
      "execution_count": null,
      "metadata": {
        "id": "fF9vU98mE9b0"
      },
      "outputs": [],
      "source": [
        "# Import modules\n",
        "import tensorflow as tf\n",
        "from tensorflow.keras.layers import TextVectorization\n",
        "from tensorflow.keras.layers import Embedding"
      ]
    },
    {
      "cell_type": "markdown",
      "source": [],
      "metadata": {
        "id": "PhgPjHLkctzw"
      }
    },
    {
      "cell_type": "code",
      "execution_count": null,
      "metadata": {
        "id": "x3LmLuFGFO7Q"
      },
      "outputs": [],
      "source": [
        "# Instantiate TextVectorization layer\n",
        "text_vectorization = TextVectorization(\n",
        "    max_tokens = 10000,\n",
        "    standardize = 'lower_and_strip_punctuation',\n",
        "    split='whitespace',\n",
        "    ngrams=3,\n",
        "    output_mode='int',\n",
        "    output_sequence_length=27,\n",
        "    pad_to_max_tokens=True,\n",
        ")"
      ]
    },
    {
      "cell_type": "code",
      "execution_count": null,
      "metadata": {
        "id": "Zr1HuyFpbrkP"
      },
      "outputs": [],
      "source": [
        "# Adapt the vectorizer to train_data\n",
        "text_vectorization.adapt(train_txt)"
      ]
    },
    {
      "cell_type": "code",
      "execution_count": null,
      "metadata": {
        "colab": {
          "base_uri": "https://localhost:8080/"
        },
        "id": "HxkYkDYKFO4p",
        "outputId": "fca362ed-8f1d-4cf2-fb86-260bc6ea2e56"
      },
      "outputs": [
        {
          "output_type": "execute_result",
          "data": {
            "text/plain": [
              "<tf.Tensor: shape=(1, 27), dtype=int64, numpy=\n",
              "array([[   6,  473,    2,   88,    4,   56,    4,  194, 2045,  279, 5668,\n",
              "           5,  872,   68, 3095,    3, 1106,    1, 1047,    5,    2, 1078,\n",
              "        2058,    3,  218,    2,   77]])>"
            ]
          },
          "metadata": {},
          "execution_count": 36
        }
      ],
      "source": [
        "text_vectorization([train_data_df.text[0]])"
      ]
    },
    {
      "cell_type": "code",
      "execution_count": null,
      "metadata": {
        "colab": {
          "base_uri": "https://localhost:8080/"
        },
        "id": "zZRT1OrpcMNY",
        "outputId": "49749614-7fd7-4926-cd8d-770a6fef3bd6"
      },
      "outputs": [
        {
          "output_type": "stream",
          "name": "stdout",
          "text": [
            "Token: 6, word: to\n",
            "Token: 473, word: investigate\n",
            "Token: 2, word: the\n",
            "Token: 88, word: efficacy\n",
            "Token: 4, word: of\n",
            "Token: 56, word: weeks\n",
            "Token: 4, word: of\n",
            "Token: 194, word: daily\n",
            "Token: 2045, word: lowdose\n",
            "Token: 279, word: oral\n",
            "Token: 5668, word: prednisolone\n",
            "Token: 5, word: in\n",
            "Token: 872, word: improving\n",
            "Token: 68, word: pain\n",
            "Token: 3095, word: mobility\n",
            "Token: 3, word: and\n",
            "Token: 1106, word: systemic\n",
            "Token: 1, word: [UNK]\n",
            "Token: 1047, word: inflammation\n",
            "Token: 5, word: in\n",
            "Token: 2, word: the\n",
            "Token: 1078, word: short\n",
            "Token: 2058, word: term\n",
            "Token: 3, word: and\n",
            "Token: 218, word: whether\n",
            "Token: 2, word: the\n",
            "Token: 77, word: effect\n"
          ]
        }
      ],
      "source": [
        "# Check tokenization with TextVectorizer vocabulary\n",
        "for token in text_vectorization([train_data_df.text[0]])[0].numpy():\n",
        "  print(f'Token: {token}, word: {text_vectorization.get_vocabulary()[token]}')"
      ]
    },
    {
      "cell_type": "markdown",
      "metadata": {
        "id": "gmCJxH4kfR1G"
      },
      "source": [
        "### 3.5. Prepare data pipelines"
      ]
    },
    {
      "cell_type": "code",
      "execution_count": null,
      "metadata": {
        "id": "329pFeu0fn7N"
      },
      "outputs": [],
      "source": [
        "# Create datasets\n",
        "train_dataset = tf.data.Dataset.from_tensor_slices((train_txt, train_labels_onehot))\n",
        "test_dataset = tf.data.Dataset.from_tensor_slices((test_txt, test_labels_onehot))\n",
        "val_dataset = tf.data.Dataset.from_tensor_slices((val_txt, val_labels_onehot))"
      ]
    },
    {
      "cell_type": "code",
      "execution_count": null,
      "metadata": {
        "id": "tNWpfqMBhtwp"
      },
      "outputs": [],
      "source": [
        "# Batch the datasets and turn them to prefetch datasets\n",
        "train_dataset = train_dataset.batch(32).prefetch(tf.data.AUTOTUNE)\n",
        "test_dataset = test_dataset.batch(32).prefetch(tf.data.AUTOTUNE)\n",
        "val_dataset = val_dataset.batch(32).prefetch(tf.data.AUTOTUNE)"
      ]
    },
    {
      "cell_type": "markdown",
      "source": [
        "### 3.6. Download Universal Sequence Encoder layer for word token embedding"
      ],
      "metadata": {
        "id": "z6Vlc5dcdTYo"
      }
    },
    {
      "cell_type": "code",
      "source": [
        "# Download TFHub USE\n",
        "import tensorflow_hub as hub\n",
        "USE_embedding = hub.KerasLayer('https://tfhub.dev/google/universal-sentence-encoder/4', trainable=False)"
      ],
      "metadata": {
        "id": "OGPp5cJFdbZN"
      },
      "execution_count": null,
      "outputs": []
    },
    {
      "cell_type": "markdown",
      "source": [
        "## 4. Create character embedding and vectorization"
      ],
      "metadata": {
        "id": "cnQOZxgILblx"
      }
    },
    {
      "cell_type": "code",
      "execution_count": null,
      "metadata": {
        "id": "b3375AwwtI5y"
      },
      "outputs": [],
      "source": [
        "# Make function to split sentences into characters\n",
        "def split_chars(text):\n",
        "  return ' '.join(list(text))"
      ]
    },
    {
      "cell_type": "code",
      "execution_count": null,
      "metadata": {
        "colab": {
          "base_uri": "https://localhost:8080/",
          "height": 89
        },
        "id": "PsjJy-a5t4js",
        "outputId": "357ad572-1ba3-4853-eed9-4a6d7da44bf3"
      },
      "outputs": [
        {
          "output_type": "execute_result",
          "data": {
            "text/plain": [
              "'t o   i n v e s t i g a t e   t h e   e f f i c a c y   o f   @   w e e k s   o f   d a i l y   l o w - d o s e   o r a l   p r e d n i s o l o n e   i n   i m p r o v i n g   p a i n   ,   m o b i l i t y   ,   a n d   s y s t e m i c   l o w - g r a d e   i n f l a m m a t i o n   i n   t h e   s h o r t   t e r m   a n d   w h e t h e r   t h e   e f f e c t   w o u l d   b e   s u s t a i n e d   a t   @   w e e k s   i n   o l d e r   a d u l t s   w i t h   m o d e r a t e   t o   s e v e r e   k n e e   o s t e o a r t h r i t i s   (   o a   )   .'"
            ],
            "application/vnd.google.colaboratory.intrinsic+json": {
              "type": "string"
            }
          },
          "metadata": {},
          "execution_count": 42
        }
      ],
      "source": [
        "split_chars(train_txt[0])"
      ]
    },
    {
      "cell_type": "code",
      "execution_count": null,
      "metadata": {
        "id": "1SPNJfbQuCAs"
      },
      "outputs": [],
      "source": [
        "# Split sequence-level data into character-level data\n",
        "train_chars = [split_chars(sentence) for sentence in train_txt]"
      ]
    },
    {
      "cell_type": "code",
      "execution_count": null,
      "metadata": {
        "colab": {
          "base_uri": "https://localhost:8080/"
        },
        "id": "q6m-TPkzuYuo",
        "outputId": "7bde0fa7-ee97-48dd-d35d-cc3495e0beff"
      },
      "outputs": [
        {
          "output_type": "execute_result",
          "data": {
            "text/plain": [
              "['t o   i n v e s t i g a t e   t h e   e f f i c a c y   o f   @   w e e k s   o f   d a i l y   l o w - d o s e   o r a l   p r e d n i s o l o n e   i n   i m p r o v i n g   p a i n   ,   m o b i l i t y   ,   a n d   s y s t e m i c   l o w - g r a d e   i n f l a m m a t i o n   i n   t h e   s h o r t   t e r m   a n d   w h e t h e r   t h e   e f f e c t   w o u l d   b e   s u s t a i n e d   a t   @   w e e k s   i n   o l d e r   a d u l t s   w i t h   m o d e r a t e   t o   s e v e r e   k n e e   o s t e o a r t h r i t i s   (   o a   )   .',\n",
              " 'a   t o t a l   o f   @   p a t i e n t s   w i t h   p r i m a r y   k n e e   o a   w e r e   r a n d o m i z e d   @ : @   ;   @   r e c e i v e d   @   m g / d a y   o f   p r e d n i s o l o n e   a n d   @   r e c e i v e d   p l a c e b o   f o r   @   w e e k s   .']"
            ]
          },
          "metadata": {},
          "execution_count": 44
        }
      ],
      "source": [
        "train_chars[:2]"
      ]
    },
    {
      "cell_type": "code",
      "execution_count": null,
      "metadata": {
        "id": "stS24EkXuam1"
      },
      "outputs": [],
      "source": [
        "val_chars = [split_chars(sentence) for sentence in val_txt]\n",
        "test_chars = [split_chars(sentence) for sentence in test_txt]"
      ]
    },
    {
      "cell_type": "markdown",
      "metadata": {
        "id": "2IGmKyygu73v"
      },
      "source": [
        "### 4.1. Check the stats for character-wise lenght of the sequences"
      ]
    },
    {
      "cell_type": "code",
      "execution_count": null,
      "metadata": {
        "id": "53YJEYAKvN5v"
      },
      "outputs": [],
      "source": [
        "train_data_len_characters = [len(characters.split(\" \")) for characters in train_chars]\n",
        "test_data_len_characters = [len(characters.split(\" \")) for characters in test_chars]\n",
        "val_data_len_characters = [len(characters.split(\" \")) for characters in val_chars]"
      ]
    },
    {
      "cell_type": "code",
      "execution_count": null,
      "metadata": {
        "id": "-dQWoQsiJD6c"
      },
      "outputs": [],
      "source": [
        "train_data_len_characters_mean = np.mean(train_data_len_characters)\n",
        "test_data_len_characters_mean = np.mean(test_data_len_characters)\n",
        "val_data_len_characters_mean = np.mean(val_data_len_characters)"
      ]
    },
    {
      "cell_type": "code",
      "execution_count": null,
      "metadata": {
        "colab": {
          "base_uri": "https://localhost:8080/"
        },
        "id": "f8O4WXb7V5TI",
        "outputId": "8047af0f-85fc-4214-ed32-eab71972e944"
      },
      "outputs": [
        {
          "output_type": "execute_result",
          "data": {
            "text/plain": [
              "(174.70452677182848, 173.63842707814834, 174.6135641466967)"
            ]
          },
          "metadata": {},
          "execution_count": 48
        }
      ],
      "source": [
        "train_data_len_characters_mean, test_data_len_characters_mean, val_data_len_characters_mean"
      ]
    },
    {
      "cell_type": "markdown",
      "metadata": {
        "id": "TJSEwG_Yx3ct"
      },
      "source": [
        "**Looks like our magic number 175**"
      ]
    },
    {
      "cell_type": "code",
      "execution_count": null,
      "metadata": {
        "id": "8HhFC66FykTs"
      },
      "outputs": [],
      "source": [
        "MAGIC_NUMBER = 175"
      ]
    },
    {
      "cell_type": "code",
      "execution_count": null,
      "metadata": {
        "id": "Z4M8J-CNX-SL"
      },
      "outputs": [],
      "source": [
        "len_characters = [train_data_len_characters, test_data_len_characters, val_data_len_characters]"
      ]
    },
    {
      "cell_type": "code",
      "execution_count": null,
      "metadata": {
        "colab": {
          "base_uri": "https://localhost:8080/"
        },
        "id": "ZqyKxen9b_K0",
        "outputId": "0cf19915-f628-4051-e10b-1f56fec7c61b"
      },
      "outputs": [
        {
          "output_type": "execute_result",
          "data": {
            "text/plain": [
              "802"
            ]
          },
          "metadata": {},
          "execution_count": 51
        }
      ],
      "source": [
        "len(np.unique(len_characters[0]))"
      ]
    },
    {
      "cell_type": "code",
      "execution_count": null,
      "metadata": {
        "colab": {
          "base_uri": "https://localhost:8080/",
          "height": 1000
        },
        "id": "JAGaUPYdulWs",
        "outputId": "d083e399-c37e-430d-81f5-52d4d4090307"
      },
      "outputs": [
        {
          "output_type": "display_data",
          "data": {
            "text/plain": [
              "<Figure size 864x1728 with 3 Axes>"
            ],
            "image/png": "[encoded data removed]"
          },
          "metadata": {
            "needs_background": "light"
          }
        }
      ],
      "source": [
        "fig = plt.figure(figsize=(12, 24))\n",
        "ax1 = plt.subplot(311)\n",
        "ax2 = plt.subplot(312, sharex=ax1)\n",
        "ax3 = plt.subplot(313, sharex=ax1)\n",
        "axes = [ax1, ax2, ax3]\n",
        "for it, dataset in enumerate(len_characters):\n",
        "  sns.histplot(dataset, bins=int(len(np.unique(len_characters[it]))/5), ax=axes[it], kde=True, kde_kws={'bw_adjust':2.2} )\n",
        "  props = dict(boxstyle='round', facecolor='wheat', alpha=0.5)\n",
        "  axes[it].text(0.05, 0.95, f'95% between: {np.quantile(len_characters[it], [0.025, 0.975])}', transform=axes[it].transAxes, fontsize=14, position=(0.62,0.43), bbox=props)\n",
        "plt.show()"
      ]
    },
    {
      "cell_type": "markdown",
      "metadata": {
        "id": "mJuVA1axKK5G"
      },
      "source": [
        "## Create character-level datasets"
      ]
    },
    {
      "cell_type": "code",
      "execution_count": null,
      "metadata": {
        "id": "tn327CKFLkMx"
      },
      "outputs": [],
      "source": [
        "import tensorflow as tf"
      ]
    },
    {
      "cell_type": "code",
      "execution_count": null,
      "metadata": {
        "colab": {
          "base_uri": "https://localhost:8080/"
        },
        "id": "HbkLwox3MMve",
        "outputId": "f7359068-376e-4fa4-864f-00ee4e1a06e9"
      },
      "outputs": [
        {
          "output_type": "execute_result",
          "data": {
            "text/plain": [
              "((30212,), (30212, 5))"
            ]
          },
          "metadata": {},
          "execution_count": 54
        }
      ],
      "source": [
        "np.array(val_chars).shape, val_labels_onehot.shape"
      ]
    },
    {
      "cell_type": "code",
      "execution_count": null,
      "metadata": {
        "id": "Vbypv_TTKQW1"
      },
      "outputs": [],
      "source": [
        "train_chars_dataset = tf.data.Dataset.from_tensor_slices((train_chars, train_labels_onehot)).batch(32).prefetch(tf.data.AUTOTUNE)\n",
        "test_chars_dataset= tf.data.Dataset.from_tensor_slices((test_chars, test_labels_onehot)).batch(32).prefetch(tf.data.AUTOTUNE)\n",
        "val_chars_dataset= tf.data.Dataset.from_tensor_slices((val_chars, val_labels_onehot)).batch(32).prefetch(tf.data.AUTOTUNE)"
      ]
    },
    {
      "cell_type": "code",
      "execution_count": null,
      "metadata": {
        "colab": {
          "base_uri": "https://localhost:8080/"
        },
        "id": "pv-ASMrUKQUK",
        "outputId": "3ee8bbc2-3567-43d9-9596-9705da759a3c"
      },
      "outputs": [
        {
          "output_type": "execute_result",
          "data": {
            "text/plain": [
              "<PrefetchDataset element_spec=(TensorSpec(shape=(None,), dtype=tf.string, name=None), TensorSpec(shape=(None, 5), dtype=tf.float64, name=None))>"
            ]
          },
          "metadata": {},
          "execution_count": 56
        }
      ],
      "source": [
        "train_chars_dataset"
      ]
    },
    {
      "cell_type": "markdown",
      "metadata": {
        "id": "2tsgESB9xtOx"
      },
      "source": [
        "## 5. Create character-lever vectorizer"
      ]
    },
    {
      "cell_type": "code",
      "execution_count": null,
      "metadata": {
        "id": "PQtu8h3vxajx"
      },
      "outputs": [],
      "source": [
        "import string"
      ]
    },
    {
      "cell_type": "code",
      "execution_count": null,
      "metadata": {
        "colab": {
          "base_uri": "https://localhost:8080/",
          "height": 35
        },
        "id": "reKvzDQIwp3Z",
        "outputId": "4a877452-1432-4ae3-cd45-d5c7f385791a"
      },
      "outputs": [
        {
          "output_type": "execute_result",
          "data": {
            "text/plain": [
              "'abcdefghijklmnopqrstuvwxyz0123456789'"
            ],
            "application/vnd.google.colaboratory.intrinsic+json": {
              "type": "string"
            }
          },
          "metadata": {},
          "execution_count": 58
        }
      ],
      "source": [
        "# Get all keybord characters\n",
        "alphabet = string.ascii_lowercase + string.digits\n",
        "\n",
        "alphabet"
      ]
    },
    {
      "cell_type": "code",
      "execution_count": null,
      "metadata": {
        "colab": {
          "base_uri": "https://localhost:8080/"
        },
        "id": "3_vjfEzGxk4N",
        "outputId": "b1630cf9-6eff-4aaf-c619-6a2254c9a558"
      },
      "outputs": [
        {
          "output_type": "execute_result",
          "data": {
            "text/plain": [
              "38"
            ]
          },
          "metadata": {},
          "execution_count": 59
        }
      ],
      "source": [
        "# Setup parameters\n",
        "NUM_CHAR_TOKENS = len(alphabet) + 2 # add space and OOV token\n",
        "NUM_CHAR_TOKENS"
      ]
    },
    {
      "cell_type": "code",
      "execution_count": null,
      "metadata": {
        "id": "2agsyQfyyLvk"
      },
      "outputs": [],
      "source": [
        "# Instantiate vectorizer\n",
        "char_vectorizer = TextVectorization(\n",
        "    max_tokens=NUM_CHAR_TOKENS,\n",
        "    output_sequence_length = MAGIC_NUMBER,\n",
        "    standardize = 'lower_and_strip_punctuation',\n",
        "    name = 'char_vectorizer'\n",
        ")"
      ]
    },
    {
      "cell_type": "code",
      "execution_count": null,
      "metadata": {
        "id": "w6fzXEXjy4h6"
      },
      "outputs": [],
      "source": [
        "# Adapt character vectorizer to training data\n",
        "char_vectorizer.adapt(train_chars)"
      ]
    },
    {
      "cell_type": "code",
      "execution_count": null,
      "metadata": {
        "id": "KK0myVsizHJs"
      },
      "outputs": [],
      "source": [
        "# Check vocab stats\n",
        "char_vocab = char_vectorizer.get_vocabulary()"
      ]
    },
    {
      "cell_type": "code",
      "execution_count": null,
      "metadata": {
        "colab": {
          "base_uri": "https://localhost:8080/"
        },
        "id": "1CpNldX1zRYX",
        "outputId": "1efd8329-616e-4343-e654-1403146d4360"
      },
      "outputs": [
        {
          "output_type": "execute_result",
          "data": {
            "text/plain": [
              "28"
            ]
          },
          "metadata": {},
          "execution_count": 63
        }
      ],
      "source": [
        "len(char_vocab)"
      ]
    },
    {
      "cell_type": "code",
      "execution_count": null,
      "metadata": {
        "colab": {
          "base_uri": "https://localhost:8080/"
        },
        "id": "TCjcUle_zTeO",
        "outputId": "8a5db5d6-59c2-4130-e4fd-071ee122dcff"
      },
      "outputs": [
        {
          "output_type": "stream",
          "name": "stdout",
          "text": [
            "tf.Tensor(\n",
            "[ 5  3  3  2  6  3  4  7  6  5 12 22  4  5  9  2  9 17  7  8 13  4 18 13\n",
            " 11  5 12  7  8  4 11 17  7  7 10  9 20  2  8  2 15  2  5  9 16  8  2 10\n",
            " 22 19  2 19  2  3  8  5 11 23  4  6 18 10 16  8  4  6 18  5 21  4  9 16\n",
            "  5 12 14  8  7 22  2  3  5  9 23 20  4  3 13 14  4 11  3  7  8  4  5 12\n",
            " 17  7  7 10  5  6 10  6  2 16  3  8  5 12  9  3  4 15 16 12  4  0  0  0\n",
            "  0  0  0  0  0  0  0  0  0  0  0  0  0  0  0  0  0  0  0  0  0  0  0  0\n",
            "  0  0  0  0  0  0  0  0  0  0  0  0  0  0  0  0  0  0  0  0  0  0  0  0\n",
            "  0  0  0  0  0  0  0], shape=(175,), dtype=int64)\n"
          ]
        }
      ],
      "source": [
        "print(char_vectorizer(train_chars[17]))"
      ]
    },
    {
      "cell_type": "markdown",
      "metadata": {
        "id": "fqe1pIO20lyX"
      },
      "source": [
        "### 5.1. Create Embedding layer"
      ]
    },
    {
      "cell_type": "code",
      "execution_count": null,
      "metadata": {
        "id": "QXi6rapQ0QpZ"
      },
      "outputs": [],
      "source": [
        "# Create an embedding layer for model_1\n",
        "embedding_char = Embedding(input_dim=len(char_vocab),\n",
        "                      output_dim=25, # number assumed in the paper\n",
        "                      mask_zero=True,\n",
        "                      name='char_embed')"
      ]
    },
    {
      "cell_type": "markdown",
      "source": [
        "## 6. Create positional data"
      ],
      "metadata": {
        "id": "4lVIPnUbOihl"
      }
    },
    {
      "cell_type": "markdown",
      "source": [
        "Let's check the distribution of row counts and the fistribution of lenghts of the abstracts"
      ],
      "metadata": {
        "id": "s-BmgfqjRt7Q"
      }
    },
    {
      "cell_type": "code",
      "source": [
        "train_nrows = train_data_df.nrows.value_counts()\n",
        "test_nrows = test_data_df.nrows.value_counts()\n",
        "val_nrows = val_data_df.nrows.value_counts()"
      ],
      "metadata": {
        "id": "LMgt3DleLtmW"
      },
      "execution_count": null,
      "outputs": []
    },
    {
      "cell_type": "code",
      "source": [
        "list_of_dfs = [train_data_df, test_data_df, val_data_df]"
      ],
      "metadata": {
        "id": "YMWV86M3ZwwG"
      },
      "execution_count": null,
      "outputs": []
    },
    {
      "cell_type": "code",
      "source": [
        "val_data_df.nrows.value_counts()"
      ],
      "metadata": {
        "colab": {
          "base_uri": "https://localhost:8080/"
        },
        "id": "IkwlkfuLZn_a",
        "outputId": "da13e2e9-94b5-45be-9059-fbbd30e63f13"
      },
      "execution_count": null,
      "outputs": [
        {
          "output_type": "execute_result",
          "data": {
            "text/plain": [
              "12    4284\n",
              "11    3751\n",
              "13    3744\n",
              "10    3330\n",
              "14    3066\n",
              "15    2565\n",
              "9     1935\n",
              "16    1920\n",
              "17    1547\n",
              "8     1096\n",
              "18     666\n",
              "7      539\n",
              "19     475\n",
              "20     460\n",
              "21     189\n",
              "22     176\n",
              "6      162\n",
              "25      75\n",
              "23      69\n",
              "27      54\n",
              "26      52\n",
              "5       45\n",
              "4       12\n",
              "Name: nrows, dtype: int64"
            ]
          },
          "metadata": {},
          "execution_count": 68
        }
      ]
    },
    {
      "cell_type": "code",
      "source": [
        "val_data_df.row.value_counts()"
      ],
      "metadata": {
        "colab": {
          "base_uri": "https://localhost:8080/"
        },
        "id": "dTGY_ZwqPFmY",
        "outputId": "681a9f0a-761c-47d7-cfa3-4afeb4861feb"
      },
      "execution_count": null,
      "outputs": [
        {
          "output_type": "execute_result",
          "data": {
            "text/plain": [
              "0     2500\n",
              "1     2500\n",
              "2     2500\n",
              "3     2500\n",
              "4     2497\n",
              "5     2488\n",
              "6     2461\n",
              "7     2384\n",
              "8     2247\n",
              "9     2032\n",
              "10    1699\n",
              "11    1358\n",
              "12    1001\n",
              "13     713\n",
              "14     494\n",
              "15     323\n",
              "16     203\n",
              "17     112\n",
              "18      75\n",
              "19      50\n",
              "20      27\n",
              "21      18\n",
              "22      10\n",
              "23       7\n",
              "24       7\n",
              "25       4\n",
              "26       2\n",
              "Name: row, dtype: int64"
            ]
          },
          "metadata": {},
          "execution_count": 69
        }
      ]
    },
    {
      "cell_type": "code",
      "source": [
        "all_the_row_counts = [train_nrows, test_nrows, val_nrows]\n",
        "all_the_data_names = ['Train data', 'Test data', 'Validation data']"
      ],
      "metadata": {
        "id": "EJw-JKg8Sr7r"
      },
      "execution_count": null,
      "outputs": []
    },
    {
      "cell_type": "code",
      "source": [
        "len(val_data_df.abstract.unique())"
      ],
      "metadata": {
        "colab": {
          "base_uri": "https://localhost:8080/"
        },
        "id": "sguwe9dKTcP7",
        "outputId": "da8edbdd-0586-4377-f7ab-e1dc2fa47735"
      },
      "execution_count": null,
      "outputs": [
        {
          "output_type": "execute_result",
          "data": {
            "text/plain": [
              "2500"
            ]
          },
          "metadata": {},
          "execution_count": 71
        }
      ]
    },
    {
      "cell_type": "code",
      "source": [
        "sum(val_data_df.nrows)"
      ],
      "metadata": {
        "colab": {
          "base_uri": "https://localhost:8080/"
        },
        "id": "gYXumf4XZaz2",
        "outputId": "ceb61f6b-9390-4fee-b053-cfa6c38ee436"
      },
      "execution_count": null,
      "outputs": [
        {
          "output_type": "execute_result",
          "data": {
            "text/plain": [
              "388586"
            ]
          },
          "metadata": {},
          "execution_count": 72
        }
      ]
    },
    {
      "cell_type": "code",
      "source": [
        "pd.DataFrame(train_nrows).reset_index()['index'][ pd.DataFrame(train_nrows).reset_index().nrows ==max(pd.DataFrame(train_nrows).reset_index().nrows)]"
      ],
      "metadata": {
        "colab": {
          "base_uri": "https://localhost:8080/"
        },
        "id": "nsK3w6JgdcWz",
        "outputId": "c37fcaa9-b061-43ed-a169-1d66b7d2640d"
      },
      "execution_count": null,
      "outputs": [
        {
          "output_type": "execute_result",
          "data": {
            "text/plain": [
              "0    12\n",
              "Name: index, dtype: int64"
            ]
          },
          "metadata": {},
          "execution_count": 73
        }
      ]
    },
    {
      "cell_type": "code",
      "source": [
        "from matplotlib import ticker"
      ],
      "metadata": {
        "id": "7E26DCY5WJAS"
      },
      "execution_count": null,
      "outputs": []
    },
    {
      "cell_type": "code",
      "source": [
        "pd.__version__"
      ],
      "metadata": {
        "colab": {
          "base_uri": "https://localhost:8080/",
          "height": 35
        },
        "id": "9O6B4pu1caqs",
        "outputId": "9578f6ec-088d-495f-fdf0-5852a727f99c"
      },
      "execution_count": null,
      "outputs": [
        {
          "output_type": "execute_result",
          "data": {
            "text/plain": [
              "'1.3.5'"
            ],
            "application/vnd.google.colaboratory.intrinsic+json": {
              "type": "string"
            }
          },
          "metadata": {},
          "execution_count": 75
        }
      ]
    },
    {
      "cell_type": "code",
      "source": [
        "fig = plt.figure(figsize=(12, 24))\n",
        "sns.set_style('whitegrid')\n",
        "plt.suptitle('Line number distribution',  x=0.37, y=0.91, horizontalalignment='left', verticalalignment='top', fontsize = 15)\n",
        "ax1 = plt.subplot(311)\n",
        "ax2 = plt.subplot(312, sharex=ax1)\n",
        "ax3 = plt.subplot(313, sharex=ax1)\n",
        "axes = [ax1, ax2, ax3]\n",
        "for it, dataset in enumerate(list_of_dfs):\n",
        "  axes[it].grid(visible=True, which='major', axis='x', linestyle='-', color='gray')\n",
        "  axes[it].grid(visible=True, which='minor', axis='x', linestyle='--', color='gray')\n",
        "  sns.histplot( x='row',ax=axes[it], data=dataset.reset_index(), bins=range(len(dataset['row'].value_counts())))\n",
        "  axes[it].text(x=.6, y=.7, s=f'The 95th percentile: {np.percentile(dataset.row, 95)}',  transform=axes[it].transAxes, fontsize=14, verticalalignment='top', bbox=dict(boxstyle='round', facecolor='white', edgecolor='black', alpha=0.5))\n",
        "  axes[it].set_title(all_the_data_names[it])\n",
        "plt.show()"
      ],
      "metadata": {
        "colab": {
          "base_uri": "https://localhost:8080/",
          "height": 1000
        },
        "id": "Spqs7pg9Oqe6",
        "outputId": "1f16242c-1247-47cf-a465-736948216ff7"
      },
      "execution_count": null,
      "outputs": [
        {
          "output_type": "display_data",
          "data": {
            "text/plain": [
              "<Figure size 864x1728 with 3 Axes>"
            ],
            "image/png": "[encoded data removed]"
          },
          "metadata": {
            "needs_background": "light"
          }
        }
      ]
    },
    {
      "cell_type": "code",
      "source": [
        "fig = plt.figure(figsize=(12, 24))\n",
        "sns.set_style('whitegrid')\n",
        "plt.suptitle('Abstract length distribution',  x=0.37, y=0.91, horizontalalignment='left', verticalalignment='top', fontsize = 15)\n",
        "ax1 = plt.subplot(311)\n",
        "ax2 = plt.subplot(312, sharex=ax1)\n",
        "ax3 = plt.subplot(313, sharex=ax1)\n",
        "axes = [ax1, ax2, ax3]\n",
        "for it, dataset in enumerate(all_the_row_counts):\n",
        "  axes[it].grid(visible=True, which='major', axis='x', linestyle='-', color='gray')\n",
        "  axes[it].grid(visible=True, which='minor', axis='x', linestyle='--', color='gray')\n",
        "  axes[it].xaxis.set_major_locator(ticker.MultipleLocator(5))\n",
        "  axes[it].xaxis.set_minor_locator(ticker.AutoMinorLocator(5))\n",
        "  axes[it].xaxis.set_ticks_position('bottom')\n",
        "  axes[it].tick_params(which='major', width=1.00, length=5)\n",
        "  axes[it].tick_params(which='minor', width=0.75, length=5)\n",
        "  sns.lineplot(x='index', y='nrows',ax=axes[it], data=pd.DataFrame(dataset).reset_index())\n",
        "  axes[it].text(x=.6, y=.7, s=f'The 95th percentile: {np.percentile(list_of_dfs[it].nrows, 95)}',  transform=axes[it].transAxes, fontsize=14, verticalalignment='top', bbox=dict(boxstyle='round', facecolor='white', edgecolor='black', alpha=0.5))\n",
        "  axes[it].set_title(all_the_data_names[it])\n",
        "plt.show()"
      ],
      "metadata": {
        "colab": {
          "base_uri": "https://localhost:8080/",
          "height": 1000
        },
        "id": "ec98oqARQhq3",
        "outputId": "9a48bcc3-c3b0-4d9f-915b-01c6639238fa"
      },
      "execution_count": null,
      "outputs": [
        {
          "output_type": "display_data",
          "data": {
            "text/plain": [
              "<Figure size 864x1728 with 3 Axes>"
            ],
            "image/png": "[encoded data removed]"
          },
          "metadata": {}
        }
      ]
    },
    {
      "cell_type": "markdown",
      "source": [
        "### 6.1 One-hot encode the order of the text lines"
      ],
      "metadata": {
        "id": "JvadhYY9hk8-"
      }
    },
    {
      "cell_type": "code",
      "source": [
        "# Use Tensorflow to create one-hot encoded tensors\n",
        "train_line_number_onehot = tf.one_hot(train_data_df['row'].to_numpy(), depth=15)\n",
        "train_line_number_onehot[:5], train_line_number_onehot.shape"
      ],
      "metadata": {
        "colab": {
          "base_uri": "https://localhost:8080/"
        },
        "id": "WlTz9j1NS69w",
        "outputId": "cfb8fb3a-dab1-492a-db37-3a5bfc44ffdc"
      },
      "execution_count": null,
      "outputs": [
        {
          "output_type": "execute_result",
          "data": {
            "text/plain": [
              "(<tf.Tensor: shape=(5, 15), dtype=float32, numpy=\n",
              " array([[1., 0., 0., 0., 0., 0., 0., 0., 0., 0., 0., 0., 0., 0., 0.],\n",
              "        [0., 1., 0., 0., 0., 0., 0., 0., 0., 0., 0., 0., 0., 0., 0.],\n",
              "        [0., 0., 1., 0., 0., 0., 0., 0., 0., 0., 0., 0., 0., 0., 0.],\n",
              "        [0., 0., 0., 1., 0., 0., 0., 0., 0., 0., 0., 0., 0., 0., 0.],\n",
              "        [0., 0., 0., 0., 1., 0., 0., 0., 0., 0., 0., 0., 0., 0., 0.]],\n",
              "       dtype=float32)>, TensorShape([180040, 15]))"
            ]
          },
          "metadata": {},
          "execution_count": 78
        }
      ]
    },
    {
      "cell_type": "code",
      "source": [
        "test_line_number_onehot = tf.one_hot(test_data_df['row'].to_numpy(), depth=15)\n",
        "test_line_number_onehot[:5], test_line_number_onehot.shape"
      ],
      "metadata": {
        "colab": {
          "base_uri": "https://localhost:8080/"
        },
        "id": "LDxybEf1gpzg",
        "outputId": "dd19f2ae-9f6f-49e0-d7a8-fd368442b70c"
      },
      "execution_count": null,
      "outputs": [
        {
          "output_type": "execute_result",
          "data": {
            "text/plain": [
              "(<tf.Tensor: shape=(5, 15), dtype=float32, numpy=\n",
              " array([[1., 0., 0., 0., 0., 0., 0., 0., 0., 0., 0., 0., 0., 0., 0.],\n",
              "        [0., 1., 0., 0., 0., 0., 0., 0., 0., 0., 0., 0., 0., 0., 0.],\n",
              "        [0., 0., 1., 0., 0., 0., 0., 0., 0., 0., 0., 0., 0., 0., 0.],\n",
              "        [0., 0., 0., 1., 0., 0., 0., 0., 0., 0., 0., 0., 0., 0., 0.],\n",
              "        [0., 0., 0., 0., 1., 0., 0., 0., 0., 0., 0., 0., 0., 0., 0.]],\n",
              "       dtype=float32)>, TensorShape([30135, 15]))"
            ]
          },
          "metadata": {},
          "execution_count": 79
        }
      ]
    },
    {
      "cell_type": "code",
      "source": [
        "val_line_number_onehot = tf.one_hot(val_data_df['row'].to_numpy(), depth=15)\n",
        "val_line_number_onehot[:5], val_line_number_onehot.shape"
      ],
      "metadata": {
        "colab": {
          "base_uri": "https://localhost:8080/"
        },
        "id": "pSsj4wqdhQD6",
        "outputId": "3bcbaf46-48d8-4dd2-add9-4f428e352bf9"
      },
      "execution_count": null,
      "outputs": [
        {
          "output_type": "execute_result",
          "data": {
            "text/plain": [
              "(<tf.Tensor: shape=(5, 15), dtype=float32, numpy=\n",
              " array([[1., 0., 0., 0., 0., 0., 0., 0., 0., 0., 0., 0., 0., 0., 0.],\n",
              "        [0., 1., 0., 0., 0., 0., 0., 0., 0., 0., 0., 0., 0., 0., 0.],\n",
              "        [0., 0., 1., 0., 0., 0., 0., 0., 0., 0., 0., 0., 0., 0., 0.],\n",
              "        [0., 0., 0., 1., 0., 0., 0., 0., 0., 0., 0., 0., 0., 0., 0.],\n",
              "        [0., 0., 0., 0., 1., 0., 0., 0., 0., 0., 0., 0., 0., 0., 0.]],\n",
              "       dtype=float32)>, TensorShape([30212, 15]))"
            ]
          },
          "metadata": {},
          "execution_count": 80
        }
      ]
    },
    {
      "cell_type": "markdown",
      "source": [
        "**Any engineered features used to train the model need to be available at test time or in the wild (after MLOps production).**"
      ],
      "metadata": {
        "id": "AWompesLMkVm"
      }
    },
    {
      "cell_type": "markdown",
      "source": [
        "### 6.2. One-hot encode the number of lines in each abstract"
      ],
      "metadata": {
        "id": "r2O5cchEMgKJ"
      }
    },
    {
      "cell_type": "code",
      "source": [
        "train_data_df.head(13)"
      ],
      "metadata": {
        "colab": {
          "base_uri": "https://localhost:8080/",
          "height": 457
        },
        "id": "dxWcScWGNj4g",
        "outputId": "96eb40b6-38ca-4336-bf8d-ba28802a9fa6"
      },
      "execution_count": null,
      "outputs": [
        {
          "output_type": "execute_result",
          "data": {
            "text/plain": [
              "    row       target                                               text  \\\n",
              "0     0    OBJECTIVE  To investigate the efficacy of @ weeks of dail...   \n",
              "1     1      METHODS  A total of @ patients with primary knee OA wer...   \n",
              "2     2      METHODS  Outcome measures included pain reduction and i...   \n",
              "3     3      METHODS  Pain was assessed using the visual analog pain...   \n",
              "4     4      METHODS  Secondary outcome measures included the Wester...   \n",
              "5     5      METHODS  Serum levels of interleukin @ ( IL-@ ) , IL-@ ...   \n",
              "6     6      RESULTS  There was a clinically relevant reduction in t...   \n",
              "7     7      RESULTS  The mean difference between treatment arms ( @...   \n",
              "8     8      RESULTS  Further , there was a clinically relevant redu...   \n",
              "9     9      RESULTS  These differences remained significant at @ we...   \n",
              "10   10      RESULTS  The Outcome Measures in Rheumatology Clinical ...   \n",
              "11   11  CONCLUSIONS  Low-dose oral prednisolone had both a short-te...   \n",
              "12    0   BACKGROUND  Emotional eating is associated with overeating...   \n",
              "\n",
              "    nrows     abstract  \n",
              "0      12  ###24293578  \n",
              "1      12  ###24293578  \n",
              "2      12  ###24293578  \n",
              "3      12  ###24293578  \n",
              "4      12  ###24293578  \n",
              "5      12  ###24293578  \n",
              "6      12  ###24293578  \n",
              "7      12  ###24293578  \n",
              "8      12  ###24293578  \n",
              "9      12  ###24293578  \n",
              "10     12  ###24293578  \n",
              "11     12  ###24293578  \n",
              "12     11  ###24854809  "
            ],
            "text/html": [
              "\n",
              "  <div id=\"df-8f8cea71-f1b1-420f-905a-863656631fd8\">\n",
              "    <div class=\"colab-df-container\">\n",
              "      <div>\n",
              "<style scoped>\n",
              "    .dataframe tbody tr th:only-of-type {\n",
              "        vertical-align: middle;\n",
              "    }\n",
              "\n",
              "    .dataframe tbody tr th {\n",
              "        vertical-align: top;\n",
              "    }\n",
              "\n",
              "    .dataframe thead th {\n",
              "        text-align: right;\n",
              "    }\n",
              "</style>\n",
              "<table border=\"1\" class=\"dataframe\">\n",
              "  <thead>\n",
              "    <tr style=\"text-align: right;\">\n",
              "      <th></th>\n",
              "      <th>row</th>\n",
              "      <th>target</th>\n",
              "      <th>text</th>\n",
              "      <th>nrows</th>\n",
              "      <th>abstract</th>\n",
              "    </tr>\n",
              "  </thead>\n",
              "  <tbody>\n",
              "    <tr>\n",
              "      <th>0</th>\n",
              "      <td>0</td>\n",
              "      <td>OBJECTIVE</td>\n",
              "      <td>To investigate the efficacy of @ weeks of dail...</td>\n",
              "      <td>12</td>\n",
              "      <td>###24293578</td>\n",
              "    </tr>\n",
              "    <tr>\n",
              "      <th>1</th>\n",
              "      <td>1</td>\n",
              "      <td>METHODS</td>\n",
              "      <td>A total of @ patients with primary knee OA wer...</td>\n",
              "      <td>12</td>\n",
              "      <td>###24293578</td>\n",
              "    </tr>\n",
              "    <tr>\n",
              "      <th>2</th>\n",
              "      <td>2</td>\n",
              "      <td>METHODS</td>\n",
              "      <td>Outcome measures included pain reduction and i...</td>\n",
              "      <td>12</td>\n",
              "      <td>###24293578</td>\n",
              "    </tr>\n",
              "    <tr>\n",
              "      <th>3</th>\n",
              "      <td>3</td>\n",
              "      <td>METHODS</td>\n",
              "      <td>Pain was assessed using the visual analog pain...</td>\n",
              "      <td>12</td>\n",
              "      <td>###24293578</td>\n",
              "    </tr>\n",
              "    <tr>\n",
              "      <th>4</th>\n",
              "      <td>4</td>\n",
              "      <td>METHODS</td>\n",
              "      <td>Secondary outcome measures included the Wester...</td>\n",
              "      <td>12</td>\n",
              "      <td>###24293578</td>\n",
              "    </tr>\n",
              "    <tr>\n",
              "      <th>5</th>\n",
              "      <td>5</td>\n",
              "      <td>METHODS</td>\n",
              "      <td>Serum levels of interleukin @ ( IL-@ ) , IL-@ ...</td>\n",
              "      <td>12</td>\n",
              "      <td>###24293578</td>\n",
              "    </tr>\n",
              "    <tr>\n",
              "      <th>6</th>\n",
              "      <td>6</td>\n",
              "      <td>RESULTS</td>\n",
              "      <td>There was a clinically relevant reduction in t...</td>\n",
              "      <td>12</td>\n",
              "      <td>###24293578</td>\n",
              "    </tr>\n",
              "    <tr>\n",
              "      <th>7</th>\n",
              "      <td>7</td>\n",
              "      <td>RESULTS</td>\n",
              "      <td>The mean difference between treatment arms ( @...</td>\n",
              "      <td>12</td>\n",
              "      <td>###24293578</td>\n",
              "    </tr>\n",
              "    <tr>\n",
              "      <th>8</th>\n",
              "      <td>8</td>\n",
              "      <td>RESULTS</td>\n",
              "      <td>Further , there was a clinically relevant redu...</td>\n",
              "      <td>12</td>\n",
              "      <td>###24293578</td>\n",
              "    </tr>\n",
              "    <tr>\n",
              "      <th>9</th>\n",
              "      <td>9</td>\n",
              "      <td>RESULTS</td>\n",
              "      <td>These differences remained significant at @ we...</td>\n",
              "      <td>12</td>\n",
              "      <td>###24293578</td>\n",
              "    </tr>\n",
              "    <tr>\n",
              "      <th>10</th>\n",
              "      <td>10</td>\n",
              "      <td>RESULTS</td>\n",
              "      <td>The Outcome Measures in Rheumatology Clinical ...</td>\n",
              "      <td>12</td>\n",
              "      <td>###24293578</td>\n",
              "    </tr>\n",
              "    <tr>\n",
              "      <th>11</th>\n",
              "      <td>11</td>\n",
              "      <td>CONCLUSIONS</td>\n",
              "      <td>Low-dose oral prednisolone had both a short-te...</td>\n",
              "      <td>12</td>\n",
              "      <td>###24293578</td>\n",
              "    </tr>\n",
              "    <tr>\n",
              "      <th>12</th>\n",
              "      <td>0</td>\n",
              "      <td>BACKGROUND</td>\n",
              "      <td>Emotional eating is associated with overeating...</td>\n",
              "      <td>11</td>\n",
              "      <td>###24854809</td>\n",
              "    </tr>\n",
              "  </tbody>\n",
              "</table>\n",
              "</div>\n",
              "      <button class=\"colab-df-convert\" onclick=\"convertToInteractive('df-8f8cea71-f1b1-420f-905a-863656631fd8')\"\n",
              "              title=\"Convert this dataframe to an interactive table.\"\n",
              "              style=\"display:none;\">\n",
              "        \n",
              "  <svg xmlns=\"http://www.w3.org/2000/svg\" height=\"24px\"viewBox=\"0 0 24 24\"\n",
              "       width=\"24px\">\n",
              "    <path d=\"M0 0h24v24H0V0z\" fill=\"none\"/>\n",
              "    <path d=\"M18.56 5.44l.94 2.06.94-2.06 2.06-.94-2.06-.94-.94-2.06-.94 2.06-2.06.94zm-11 1L8.5 8.5l.94-2.06 2.06-.94-2.06-.94L8.5 2.5l-.94 2.06-2.06.94zm10 10l.94 2.06.94-2.06 2.06-.94-2.06-.94-.94-2.06-.94 2.06-2.06.94z\"/><path d=\"M17.41 7.96l-1.37-1.37c-.4-.4-.92-.59-1.43-.59-.52 0-1.04.2-1.43.59L10.3 9.45l-7.72 7.72c-.78.78-.78 2.05 0 2.83L4 21.41c.39.39.9.59 1.41.59.51 0 1.02-.2 1.41-.59l7.78-7.78 2.81-2.81c.8-.78.8-2.07 0-2.86zM5.41 20L4 18.59l7.72-7.72 1.47 1.35L5.41 20z\"/>\n",
              "  </svg>\n",
              "      </button>\n",
              "      \n",
              "  <style>\n",
              "    .colab-df-container {\n",
              "      display:flex;\n",
              "      flex-wrap:wrap;\n",
              "      gap: 12px;\n",
              "    }\n",
              "\n",
              "    .colab-df-convert {\n",
              "      background-color: #E8F0FE;\n",
              "      border: none;\n",
              "      border-radius: 50%;\n",
              "      cursor: pointer;\n",
              "      display: none;\n",
              "      fill: #1967D2;\n",
              "      height: 32px;\n",
              "      padding: 0 0 0 0;\n",
              "      width: 32px;\n",
              "    }\n",
              "\n",
              "    .colab-df-convert:hover {\n",
              "      background-color: #E2EBFA;\n",
              "      box-shadow: 0px 1px 2px rgba(60, 64, 67, 0.3), 0px 1px 3px 1px rgba(60, 64, 67, 0.15);\n",
              "      fill: #174EA6;\n",
              "    }\n",
              "\n",
              "    [theme=dark] .colab-df-convert {\n",
              "      background-color: #3B4455;\n",
              "      fill: #D2E3FC;\n",
              "    }\n",
              "\n",
              "    [theme=dark] .colab-df-convert:hover {\n",
              "      background-color: #434B5C;\n",
              "      box-shadow: 0px 1px 3px 1px rgba(0, 0, 0, 0.15);\n",
              "      filter: drop-shadow(0px 1px 2px rgba(0, 0, 0, 0.3));\n",
              "      fill: #FFFFFF;\n",
              "    }\n",
              "  </style>\n",
              "\n",
              "      <script>\n",
              "        const buttonEl =\n",
              "          document.querySelector('#df-8f8cea71-f1b1-420f-905a-863656631fd8 button.colab-df-convert');\n",
              "        buttonEl.style.display =\n",
              "          google.colab.kernel.accessAllowed ? 'block' : 'none';\n",
              "\n",
              "        async function convertToInteractive(key) {\n",
              "          const element = document.querySelector('#df-8f8cea71-f1b1-420f-905a-863656631fd8');\n",
              "          const dataTable =\n",
              "            await google.colab.kernel.invokeFunction('convertToInteractive',\n",
              "                                                     [key], {});\n",
              "          if (!dataTable) return;\n",
              "\n",
              "          const docLinkHtml = 'Like what you see? Visit the ' +\n",
              "            '<a target=\"_blank\" href=https://colab.research.google.com/notebooks/data_table.ipynb>data table notebook</a>'\n",
              "            + ' to learn more about interactive tables.';\n",
              "          element.innerHTML = '';\n",
              "          dataTable['output_type'] = 'display_data';\n",
              "          await google.colab.output.renderOutput(dataTable, element);\n",
              "          const docLink = document.createElement('div');\n",
              "          docLink.innerHTML = docLinkHtml;\n",
              "          element.appendChild(docLink);\n",
              "        }\n",
              "      </script>\n",
              "    </div>\n",
              "  </div>\n",
              "  "
            ]
          },
          "metadata": {},
          "execution_count": 81
        }
      ]
    },
    {
      "cell_type": "code",
      "source": [
        "train_nrows_onehot = tf.one_hot(train_data_df['nrows'].to_numpy(), depth=20)\n",
        "train_nrows_onehot[:5], train_nrows_onehot.shape"
      ],
      "metadata": {
        "id": "wqWBGaddhwBU",
        "colab": {
          "base_uri": "https://localhost:8080/"
        },
        "outputId": "6c924b76-38d1-4243-eec9-7b17dbf96e37"
      },
      "execution_count": null,
      "outputs": [
        {
          "output_type": "execute_result",
          "data": {
            "text/plain": [
              "(<tf.Tensor: shape=(5, 20), dtype=float32, numpy=\n",
              " array([[0., 0., 0., 0., 0., 0., 0., 0., 0., 0., 0., 0., 1., 0., 0., 0.,\n",
              "         0., 0., 0., 0.],\n",
              "        [0., 0., 0., 0., 0., 0., 0., 0., 0., 0., 0., 0., 1., 0., 0., 0.,\n",
              "         0., 0., 0., 0.],\n",
              "        [0., 0., 0., 0., 0., 0., 0., 0., 0., 0., 0., 0., 1., 0., 0., 0.,\n",
              "         0., 0., 0., 0.],\n",
              "        [0., 0., 0., 0., 0., 0., 0., 0., 0., 0., 0., 0., 1., 0., 0., 0.,\n",
              "         0., 0., 0., 0.],\n",
              "        [0., 0., 0., 0., 0., 0., 0., 0., 0., 0., 0., 0., 1., 0., 0., 0.,\n",
              "         0., 0., 0., 0.]], dtype=float32)>, TensorShape([180040, 20]))"
            ]
          },
          "metadata": {},
          "execution_count": 82
        }
      ]
    },
    {
      "cell_type": "code",
      "source": [
        "test_nrows_onehot = tf.one_hot(test_data_df['nrows'].to_numpy(), depth=20)\n",
        "test_nrows_onehot[:5], test_nrows_onehot.shape"
      ],
      "metadata": {
        "colab": {
          "base_uri": "https://localhost:8080/"
        },
        "id": "35eLHEvONr2U",
        "outputId": "09f09bd1-edab-42e7-fd24-b6c5fd0463ce"
      },
      "execution_count": null,
      "outputs": [
        {
          "output_type": "execute_result",
          "data": {
            "text/plain": [
              "(<tf.Tensor: shape=(5, 20), dtype=float32, numpy=\n",
              " array([[0., 0., 0., 0., 0., 0., 0., 0., 0., 1., 0., 0., 0., 0., 0., 0.,\n",
              "         0., 0., 0., 0.],\n",
              "        [0., 0., 0., 0., 0., 0., 0., 0., 0., 1., 0., 0., 0., 0., 0., 0.,\n",
              "         0., 0., 0., 0.],\n",
              "        [0., 0., 0., 0., 0., 0., 0., 0., 0., 1., 0., 0., 0., 0., 0., 0.,\n",
              "         0., 0., 0., 0.],\n",
              "        [0., 0., 0., 0., 0., 0., 0., 0., 0., 1., 0., 0., 0., 0., 0., 0.,\n",
              "         0., 0., 0., 0.],\n",
              "        [0., 0., 0., 0., 0., 0., 0., 0., 0., 1., 0., 0., 0., 0., 0., 0.,\n",
              "         0., 0., 0., 0.]], dtype=float32)>, TensorShape([30135, 20]))"
            ]
          },
          "metadata": {},
          "execution_count": 83
        }
      ]
    },
    {
      "cell_type": "code",
      "source": [
        "val_nrows_onehot = tf.one_hot(val_data_df['nrows'].to_numpy(), depth=20)\n",
        "val_nrows_onehot[:5], val_nrows_onehot.shape"
      ],
      "metadata": {
        "colab": {
          "base_uri": "https://localhost:8080/"
        },
        "id": "IR-maMJWUs4_",
        "outputId": "7e36d19d-7120-4da4-9e5c-dc6e01c89dd6"
      },
      "execution_count": null,
      "outputs": [
        {
          "output_type": "execute_result",
          "data": {
            "text/plain": [
              "(<tf.Tensor: shape=(5, 20), dtype=float32, numpy=\n",
              " array([[0., 0., 0., 0., 0., 0., 0., 0., 0., 0., 1., 0., 0., 0., 0., 0.,\n",
              "         0., 0., 0., 0.],\n",
              "        [0., 0., 0., 0., 0., 0., 0., 0., 0., 0., 1., 0., 0., 0., 0., 0.,\n",
              "         0., 0., 0., 0.],\n",
              "        [0., 0., 0., 0., 0., 0., 0., 0., 0., 0., 1., 0., 0., 0., 0., 0.,\n",
              "         0., 0., 0., 0.],\n",
              "        [0., 0., 0., 0., 0., 0., 0., 0., 0., 0., 1., 0., 0., 0., 0., 0.,\n",
              "         0., 0., 0., 0.],\n",
              "        [0., 0., 0., 0., 0., 0., 0., 0., 0., 0., 1., 0., 0., 0., 0., 0.,\n",
              "         0., 0., 0., 0.]], dtype=float32)>, TensorShape([30212, 20]))"
            ]
          },
          "metadata": {},
          "execution_count": 84
        }
      ]
    },
    {
      "cell_type": "markdown",
      "source": [
        "### 6.3. Combine all the data into datsets"
      ],
      "metadata": {
        "id": "sq5WocLWo4Vf"
      }
    },
    {
      "cell_type": "markdown",
      "source": [
        "#### 6.3.1. Train dataset"
      ],
      "metadata": {
        "id": "nCgLu9RRxADq"
      }
    },
    {
      "cell_type": "code",
      "source": [
        "# Create feature dataset\n",
        "train_tribrid_data = tf.data.Dataset.from_tensor_slices((\n",
        "    train_line_number_onehot,\n",
        "    train_nrows_onehot,\n",
        "    train_txt,\n",
        "    train_chars,\n",
        "))\n",
        "\n",
        "# Create label dataset\n",
        "train_tribrid_labels = tf.data.Dataset.from_tensor_slices(train_labels_onehot)\n",
        "\n",
        "# Combine fetures and labels into dataset\n",
        "train_tribrid_dataset = tf.data.Dataset.zip((train_tribrid_data, train_tribrid_labels))\n",
        "\n",
        "# Batch and prefetch the dataset\n",
        "train_tribrid_dataset = train_tribrid_dataset.batch(32, drop_remainder=True).prefetch(tf.data.AUTOTUNE)"
      ],
      "metadata": {
        "id": "gwdTzJeSo_qC"
      },
      "execution_count": null,
      "outputs": []
    },
    {
      "cell_type": "code",
      "source": [
        "train_tribrid_dataset.element_spec"
      ],
      "metadata": {
        "colab": {
          "base_uri": "https://localhost:8080/"
        },
        "id": "vztcMiv9o_ng",
        "outputId": "13172aa8-f685-4a9e-dad5-f307ef41cf23"
      },
      "execution_count": null,
      "outputs": [
        {
          "output_type": "execute_result",
          "data": {
            "text/plain": [
              "((TensorSpec(shape=(32, 15), dtype=tf.float32, name=None),\n",
              "  TensorSpec(shape=(32, 20), dtype=tf.float32, name=None),\n",
              "  TensorSpec(shape=(32,), dtype=tf.string, name=None),\n",
              "  TensorSpec(shape=(32,), dtype=tf.string, name=None)),\n",
              " TensorSpec(shape=(32, 5), dtype=tf.float64, name=None))"
            ]
          },
          "metadata": {},
          "execution_count": 87
        }
      ]
    },
    {
      "cell_type": "markdown",
      "source": [
        "#### 6.3.2. Test dataset"
      ],
      "metadata": {
        "id": "bTLUFHhExmlN"
      }
    },
    {
      "cell_type": "code",
      "source": [
        "# Create feature dataset\n",
        "test_tribrid_data = tf.data.Dataset.from_tensor_slices((\n",
        "    test_line_number_onehot,\n",
        "    test_nrows_onehot,\n",
        "    test_txt,\n",
        "    test_chars,\n",
        "))\n",
        "\n",
        "# Create label dataset\n",
        "test_tribrid_labels = tf.data.Dataset.from_tensor_slices(test_labels_onehot)\n",
        "\n",
        "# Combine fetures and labels into dataset\n",
        "test_tribrid_dataset = tf.data.Dataset.zip((test_tribrid_data, test_tribrid_labels))\n",
        "\n",
        "# Batch and prefetch the dataset\n",
        "test_tribrid_dataset =test_tribrid_dataset.batch(32, drop_remainder=True).prefetch(tf.data.AUTOTUNE)"
      ],
      "metadata": {
        "id": "um70UrHZo_dt"
      },
      "execution_count": null,
      "outputs": []
    },
    {
      "cell_type": "code",
      "source": [
        "test_tribrid_dataset.element_spec"
      ],
      "metadata": {
        "colab": {
          "base_uri": "https://localhost:8080/"
        },
        "id": "6_NSnucUo_h7",
        "outputId": "08645cb6-7aff-4a85-fa8f-2dbbb8606153"
      },
      "execution_count": null,
      "outputs": [
        {
          "output_type": "execute_result",
          "data": {
            "text/plain": [
              "((TensorSpec(shape=(32, 15), dtype=tf.float32, name=None),\n",
              "  TensorSpec(shape=(32, 20), dtype=tf.float32, name=None),\n",
              "  TensorSpec(shape=(32,), dtype=tf.string, name=None),\n",
              "  TensorSpec(shape=(32,), dtype=tf.string, name=None)),\n",
              " TensorSpec(shape=(32, 5), dtype=tf.float64, name=None))"
            ]
          },
          "metadata": {},
          "execution_count": 89
        }
      ]
    },
    {
      "cell_type": "markdown",
      "source": [
        "#### 6.3.3. Validation dataset"
      ],
      "metadata": {
        "id": "QMLSrWxJxuS3"
      }
    },
    {
      "cell_type": "code",
      "source": [
        "# Create feature dataset\n",
        "val_tribrid_data = tf.data.Dataset.from_tensor_slices((\n",
        "    val_line_number_onehot,\n",
        "    val_nrows_onehot,\n",
        "    val_txt,\n",
        "    val_chars,\n",
        "))\n",
        "\n",
        "# Create label dataset\n",
        "val_tribrid_labels = tf.data.Dataset.from_tensor_slices(val_labels_onehot)\n",
        "\n",
        "# Combine fetures and labels into dataset\n",
        "val_tribrid_dataset = tf.data.Dataset.zip((val_tribrid_data, val_tribrid_labels))\n",
        "\n",
        "# Batch and prefetch the dataset\n",
        "val_tribrid_dataset = val_tribrid_dataset.batch(32, drop_remainder=True).prefetch(tf.data.AUTOTUNE)"
      ],
      "metadata": {
        "id": "1qyyzeyfo_k-"
      },
      "execution_count": null,
      "outputs": []
    },
    {
      "cell_type": "code",
      "source": [
        "val_tribrid_dataset.element_spec"
      ],
      "metadata": {
        "colab": {
          "base_uri": "https://localhost:8080/"
        },
        "id": "mMQehY_oxdwS",
        "outputId": "b76e3a2e-9daf-4d74-9879-4eeac647c575"
      },
      "execution_count": null,
      "outputs": [
        {
          "output_type": "execute_result",
          "data": {
            "text/plain": [
              "((TensorSpec(shape=(32, 15), dtype=tf.float32, name=None),\n",
              "  TensorSpec(shape=(32, 20), dtype=tf.float32, name=None),\n",
              "  TensorSpec(shape=(32,), dtype=tf.string, name=None),\n",
              "  TensorSpec(shape=(32,), dtype=tf.string, name=None)),\n",
              " TensorSpec(shape=(32, 5), dtype=tf.float64, name=None))"
            ]
          },
          "metadata": {},
          "execution_count": 91
        }
      ]
    },
    {
      "cell_type": "markdown",
      "source": [
        "## 7. Build the model\n",
        "1. Create word-token model.\n",
        "2. Create character-token model.\n",
        "3. Create a model taking in row number feature.\n",
        "4. Create a model taking in abstract length feature.\n",
        "5. Combine outputs of 1. and 2. using Concatenate layer.\n",
        "6. Combine outputs of 3., 4. and 5. using Concatenate layer.\n",
        "7. Combine all the inputs and label probability output into the final model."
      ],
      "metadata": {
        "id": "ZCTqhPNAaYvf"
      }
    },
    {
      "cell_type": "markdown",
      "source": [
        "### 7.1. Create word-token model"
      ],
      "metadata": {
        "id": "wC3_ClZAb_zS"
      }
    },
    {
      "cell_type": "code",
      "source": [
        "from tensorflow.keras.layers import Dense, Input, LSTM, Bidirectional, MaxPooling1D, Concatenate, Dropout"
      ],
      "metadata": {
        "id": "Pw8WCnRLcTrN"
      },
      "execution_count": null,
      "outputs": []
    },
    {
      "cell_type": "code",
      "source": [
        "token_inputs = Input(shape=[], dtype='string', name='token_inputs')\n",
        "token_embeddings = USE_embedding(token_inputs)\n",
        "token_outputs = Dense(128, activation='relu')(token_embeddings)\n",
        "token_model = tf.keras.Model(\n",
        "    inputs=token_inputs,\n",
        "    outputs=token_outputs,\n",
        "    name='token_model'\n",
        ")"
      ],
      "metadata": {
        "id": "kvT9jCjMXKzN"
      },
      "execution_count": null,
      "outputs": []
    },
    {
      "cell_type": "code",
      "source": [
        "token_model.summary()"
      ],
      "metadata": {
        "colab": {
          "base_uri": "https://localhost:8080/"
        },
        "id": "H_g72n6g73Om",
        "outputId": "9cb85019-6ccf-49c6-c93c-d1dea415cc14"
      },
      "execution_count": null,
      "outputs": [
        {
          "output_type": "stream",
          "name": "stdout",
          "text": [
            "Model: \"token_model\"\n",
            "_________________________________________________________________\n",
            " Layer (type)                Output Shape              Param #   \n",
            "=================================================================\n",
            " token_inputs (InputLayer)   [(None,)]                 0         \n",
            "                                                                 \n",
            " keras_layer (KerasLayer)    (None, 512)               256797824 \n",
            "                                                                 \n",
            " dense (Dense)               (None, 128)               65664     \n",
            "                                                                 \n",
            "=================================================================\n",
            "Total params: 256,863,488\n",
            "Trainable params: 65,664\n",
            "Non-trainable params: 256,797,824\n",
            "_________________________________________________________________\n"
          ]
        }
      ]
    },
    {
      "cell_type": "markdown",
      "source": [
        "### 7.2. Create character-token model"
      ],
      "metadata": {
        "id": "7hYg_23Zd4Br"
      }
    },
    {
      "cell_type": "code",
      "source": [
        "char_inputs = Input(shape=(1,), dtype='string')\n",
        "char_vectors = char_vectorizer(char_inputs)\n",
        "char_embedding = embedding_char(char_vectors)\n",
        "char_bi_lstm = Bidirectional(LSTM(24))(char_embedding)\n",
        "char_model = tf.keras.Model(\n",
        "    inputs=char_inputs,\n",
        "    outputs=char_bi_lstm,\n",
        "    name='character_model'\n",
        ")"
      ],
      "metadata": {
        "id": "uuiRY06JdziV"
      },
      "execution_count": null,
      "outputs": []
    },
    {
      "cell_type": "code",
      "source": [
        "char_model.summary()"
      ],
      "metadata": {
        "colab": {
          "base_uri": "https://localhost:8080/"
        },
        "id": "KsZCgbqC773O",
        "outputId": "c045d79d-b526-4afe-f987-981726411bc7"
      },
      "execution_count": null,
      "outputs": [
        {
          "output_type": "stream",
          "name": "stdout",
          "text": [
            "Model: \"character_model\"\n",
            "_________________________________________________________________\n",
            " Layer (type)                Output Shape              Param #   \n",
            "=================================================================\n",
            " input_1 (InputLayer)        [(None, 1)]               0         \n",
            "                                                                 \n",
            " char_vectorizer (TextVector  (None, 175)              0         \n",
            " ization)                                                        \n",
            "                                                                 \n",
            " char_embed (Embedding)      (None, 175, 25)           700       \n",
            "                                                                 \n",
            " bidirectional (Bidirectiona  (None, 48)               9600      \n",
            " l)                                                              \n",
            "                                                                 \n",
            "=================================================================\n",
            "Total params: 10,300\n",
            "Trainable params: 10,300\n",
            "Non-trainable params: 0\n",
            "_________________________________________________________________\n"
          ]
        }
      ]
    },
    {
      "cell_type": "markdown",
      "source": [
        "### 7.3. Create row number retention model"
      ],
      "metadata": {
        "id": "If72KqNhfKWn"
      }
    },
    {
      "cell_type": "code",
      "source": [
        "row_inputs = Input(shape=(15,), dtype=tf.float32, name='row_inputs')\n",
        "row_outputs = Dense(128, activation='relu')(row_inputs)\n",
        "row_model = tf.keras.Model(\n",
        "    inputs=row_inputs,\n",
        "    outputs=row_outputs,\n",
        "    name='row_model'\n",
        ")"
      ],
      "metadata": {
        "id": "teiAk8xDewZx"
      },
      "execution_count": null,
      "outputs": []
    },
    {
      "cell_type": "code",
      "source": [
        "row_model.summary()"
      ],
      "metadata": {
        "colab": {
          "base_uri": "https://localhost:8080/"
        },
        "id": "YBRCH2tI7_-t",
        "outputId": "608309cd-5b6a-42c1-8dd6-afca51abe98b"
      },
      "execution_count": null,
      "outputs": [
        {
          "output_type": "stream",
          "name": "stdout",
          "text": [
            "Model: \"row_model\"\n",
            "_________________________________________________________________\n",
            " Layer (type)                Output Shape              Param #   \n",
            "=================================================================\n",
            " row_inputs (InputLayer)     [(None, 15)]              0         \n",
            "                                                                 \n",
            " dense_1 (Dense)             (None, 128)               2048      \n",
            "                                                                 \n",
            "=================================================================\n",
            "Total params: 2,048\n",
            "Trainable params: 2,048\n",
            "Non-trainable params: 0\n",
            "_________________________________________________________________\n"
          ]
        }
      ]
    },
    {
      "cell_type": "markdown",
      "source": [
        "### 7.4. Create abstract length retention model"
      ],
      "metadata": {
        "id": "IwoHYFWIisSK"
      }
    },
    {
      "cell_type": "code",
      "source": [
        "nrows_inputs = Input(shape=(20,), dtype=tf.float32, name='nrows_inputs')\n",
        "nrows_outputs = Dense(32, activation='relu')(nrows_inputs)\n",
        "nrows_model = tf.keras.Model(\n",
        "    inputs=nrows_inputs,\n",
        "    outputs=nrows_outputs,\n",
        "    name='nrows_model'\n",
        ")"
      ],
      "metadata": {
        "id": "K9QRMOOvg83W"
      },
      "execution_count": null,
      "outputs": []
    },
    {
      "cell_type": "code",
      "source": [
        "nrows_model.summary()"
      ],
      "metadata": {
        "colab": {
          "base_uri": "https://localhost:8080/"
        },
        "id": "Tqtc9p4h8Ccy",
        "outputId": "3aa2222e-f616-436b-d49e-f787e36e2b5e"
      },
      "execution_count": null,
      "outputs": [
        {
          "output_type": "stream",
          "name": "stdout",
          "text": [
            "Model: \"nrows_model\"\n",
            "_________________________________________________________________\n",
            " Layer (type)                Output Shape              Param #   \n",
            "=================================================================\n",
            " nrows_inputs (InputLayer)   [(None, 20)]              0         \n",
            "                                                                 \n",
            " dense_2 (Dense)             (None, 32)                672       \n",
            "                                                                 \n",
            "=================================================================\n",
            "Total params: 672\n",
            "Trainable params: 672\n",
            "Non-trainable params: 0\n",
            "_________________________________________________________________\n"
          ]
        }
      ]
    },
    {
      "cell_type": "markdown",
      "source": [
        "### 7.5. Combine character-level and word-level embeddings using Concatenate"
      ],
      "metadata": {
        "id": "nopEEgOqiv5h"
      }
    },
    {
      "cell_type": "code",
      "source": [
        "combined_embeddings = Concatenate(name='char_word_embedding')([token_model.output, char_model.output])"
      ],
      "metadata": {
        "id": "9WrzaT0CihkX"
      },
      "execution_count": null,
      "outputs": []
    },
    {
      "cell_type": "code",
      "source": [
        "z = Dense(256, activation='relu')(combined_embeddings)\n",
        "z = Dropout(0.5)(z)"
      ],
      "metadata": {
        "id": "qeRs38oakBML"
      },
      "execution_count": null,
      "outputs": []
    },
    {
      "cell_type": "markdown",
      "source": [
        "### 7.6. Combine positional data models with character-level and word-level embeddings"
      ],
      "metadata": {
        "id": "JznI_aKBjUPq"
      }
    },
    {
      "cell_type": "code",
      "source": [
        "tribrid_embeddings = Concatenate(name='tribrid_embedding')([row_model.output,\n",
        "                                                            nrows_model.output,\n",
        "                                                            z])"
      ],
      "metadata": {
        "id": "75u2k4A6jS0H"
      },
      "execution_count": null,
      "outputs": []
    },
    {
      "cell_type": "markdown",
      "source": [
        "### 7.7. Create output layer"
      ],
      "metadata": {
        "id": "BdOpnVJYk3nl"
      }
    },
    {
      "cell_type": "code",
      "source": [
        "output_layer = Dense(5, activation='softmax', name='output_layer')(tribrid_embeddings)\n",
        "\n",
        "model_5 = tf.keras.Model(\n",
        "    inputs=[row_model.input,\n",
        "            nrows_model.input,\n",
        "            token_model.input,\n",
        "            char_model.input],\n",
        "    outputs=output_layer,\n",
        "    name='SkimLit'\n",
        ")"
      ],
      "metadata": {
        "id": "UYpbMY_hkql7"
      },
      "execution_count": null,
      "outputs": []
    },
    {
      "cell_type": "code",
      "source": [
        "model_5.summary()"
      ],
      "metadata": {
        "colab": {
          "base_uri": "https://localhost:8080/"
        },
        "id": "bm1Hcij0maRm",
        "outputId": "aadb3d83-9af4-429c-91ee-a515862a8ad9"
      },
      "execution_count": null,
      "outputs": [
        {
          "output_type": "stream",
          "name": "stdout",
          "text": [
            "Model: \"SkimLit\"\n",
            "__________________________________________________________________________________________________\n",
            " Layer (type)                   Output Shape         Param #     Connected to                     \n",
            "==================================================================================================\n",
            " input_1 (InputLayer)           [(None, 1)]          0           []                               \n",
            "                                                                                                  \n",
            " token_inputs (InputLayer)      [(None,)]            0           []                               \n",
            "                                                                                                  \n",
            " char_vectorizer (TextVectoriza  (None, 175)         0           ['input_1[0][0]']                \n",
            " tion)                                                                                            \n",
            "                                                                                                  \n",
            " keras_layer (KerasLayer)       (None, 512)          256797824   ['token_inputs[0][0]']           \n",
            "                                                                                                  \n",
            " char_embed (Embedding)         (None, 175, 25)      700         ['char_vectorizer[0][0]']        \n",
            "                                                                                                  \n",
            " dense (Dense)                  (None, 128)          65664       ['keras_layer[0][0]']            \n",
            "                                                                                                  \n",
            " bidirectional (Bidirectional)  (None, 48)           9600        ['char_embed[0][0]']             \n",
            "                                                                                                  \n",
            " char_word_embedding (Concatena  (None, 176)         0           ['dense[0][0]',                  \n",
            " te)                                                              'bidirectional[0][0]']          \n",
            "                                                                                                  \n",
            " row_inputs (InputLayer)        [(None, 15)]         0           []                               \n",
            "                                                                                                  \n",
            " nrows_inputs (InputLayer)      [(None, 20)]         0           []                               \n",
            "                                                                                                  \n",
            " dense_3 (Dense)                (None, 256)          45312       ['char_word_embedding[0][0]']    \n",
            "                                                                                                  \n",
            " dense_1 (Dense)                (None, 128)          2048        ['row_inputs[0][0]']             \n",
            "                                                                                                  \n",
            " dense_2 (Dense)                (None, 32)           672         ['nrows_inputs[0][0]']           \n",
            "                                                                                                  \n",
            " dropout (Dropout)              (None, 256)          0           ['dense_3[0][0]']                \n",
            "                                                                                                  \n",
            " tribrid_embedding (Concatenate  (None, 416)         0           ['dense_1[0][0]',                \n",
            " )                                                                'dense_2[0][0]',                \n",
            "                                                                  'dropout[0][0]']                \n",
            "                                                                                                  \n",
            " output_layer (Dense)           (None, 5)            2085        ['tribrid_embedding[0][0]']      \n",
            "                                                                                                  \n",
            "==================================================================================================\n",
            "Total params: 256,923,905\n",
            "Trainable params: 126,081\n",
            "Non-trainable params: 256,797,824\n",
            "__________________________________________________________________________________________________\n"
          ]
        }
      ]
    },
    {
      "cell_type": "code",
      "source": [
        "from tensorflow.keras.utils import plot_model"
      ],
      "metadata": {
        "id": "3ue2aMVam1Mi"
      },
      "execution_count": null,
      "outputs": []
    },
    {
      "cell_type": "code",
      "source": [
        "plot_model(model_5, show_shapes=True)"
      ],
      "metadata": {
        "colab": {
          "base_uri": "https://localhost:8080/",
          "height": 976
        },
        "id": "F9LGjSHmnEmB",
        "outputId": "34441071-5fbb-4ccb-a25a-fdcdd38f8420"
      },
      "execution_count": null,
      "outputs": [
        {
          "output_type": "execute_result",
          "data": {
            "image/png": "[encoded data removed]",
            "text/plain": [
              "<IPython.core.display.Image object>"
            ]
          },
          "metadata": {},
          "execution_count": 107
        }
      ]
    },
    {
      "cell_type": "code",
      "source": [
        "# Compile the model\n",
        "model_5.compile(\n",
        "    loss=tf.keras.losses.CategoricalCrossentropy(label_smoothing=0.2),\n",
        "    optimizer=tf.keras.optimizers.Adam(),\n",
        "    metrics=['accuracy']\n",
        ")"
      ],
      "metadata": {
        "id": "9CBfjh2pnJ7i"
      },
      "execution_count": null,
      "outputs": []
    },
    {
      "cell_type": "markdown",
      "source": [
        "## 8. Fit and evaluate the model"
      ],
      "metadata": {
        "id": "XdXcKlLBzZ33"
      }
    },
    {
      "cell_type": "code",
      "source": [
        "len(train_tribrid_dataset)*32"
      ],
      "metadata": {
        "colab": {
          "base_uri": "https://localhost:8080/"
        },
        "id": "EV5kOtLfdxIE",
        "outputId": "ff01e86b-fa05-4fb7-a098-47fb2ff0dc3a"
      },
      "execution_count": null,
      "outputs": [
        {
          "output_type": "execute_result",
          "data": {
            "text/plain": [
              "180032"
            ]
          },
          "metadata": {},
          "execution_count": 112
        }
      ]
    },
    {
      "cell_type": "code",
      "source": [
        "history_5 = model_5.fit(\n",
        "    train_tribrid_dataset,\n",
        "    epochs=10,\n",
        "    steps_per_epoch=int(0.1*len(train_tribrid_dataset)),\n",
        "    validation_data=val_tribrid_dataset,\n",
        "    validation_steps=int(0.1*len(val_tribrid_dataset))\n",
        ")"
      ],
      "metadata": {
        "colab": {
          "base_uri": "https://localhost:8080/"
        },
        "id": "03085I-0zca7",
        "outputId": "20eaed5e-4712-4458-bf95-e81567474a4a"
      },
      "execution_count": null,
      "outputs": [
        {
          "output_type": "stream",
          "name": "stdout",
          "text": [
            "Epoch 1/10\n",
            "562/562 [==============================] - 123s 199ms/step - loss: 1.0688 - accuracy: 0.7434 - val_loss: 0.9789 - val_accuracy: 0.8065\n",
            "Epoch 2/10\n",
            "562/562 [==============================] - 103s 183ms/step - loss: 0.9649 - accuracy: 0.8166 - val_loss: 0.9506 - val_accuracy: 0.8291\n",
            "Epoch 3/10\n",
            "562/562 [==============================] - 107s 191ms/step - loss: 0.9487 - accuracy: 0.8272 - val_loss: 0.9392 - val_accuracy: 0.8344\n",
            "Epoch 4/10\n",
            "562/562 [==============================] - 104s 186ms/step - loss: 0.9398 - accuracy: 0.8330 - val_loss: 0.9310 - val_accuracy: 0.8351\n",
            "Epoch 5/10\n",
            "562/562 [==============================] - 106s 189ms/step - loss: 0.9366 - accuracy: 0.8359 - val_loss: 0.9234 - val_accuracy: 0.8434\n",
            "Epoch 6/10\n",
            "562/562 [==============================] - 105s 187ms/step - loss: 0.9399 - accuracy: 0.8301 - val_loss: 0.9210 - val_accuracy: 0.8411\n",
            "Epoch 7/10\n",
            "562/562 [==============================] - 106s 189ms/step - loss: 0.9277 - accuracy: 0.8406 - val_loss: 0.9230 - val_accuracy: 0.8401\n",
            "Epoch 8/10\n",
            "562/562 [==============================] - 106s 189ms/step - loss: 0.9235 - accuracy: 0.8440 - val_loss: 0.9087 - val_accuracy: 0.8527\n",
            "Epoch 9/10\n",
            "562/562 [==============================] - 105s 186ms/step - loss: 0.9256 - accuracy: 0.8439 - val_loss: 0.9215 - val_accuracy: 0.8454\n",
            "Epoch 10/10\n",
            "562/562 [==============================] - 106s 189ms/step - loss: 0.9225 - accuracy: 0.8458 - val_loss: 0.9120 - val_accuracy: 0.8434\n"
          ]
        }
      ]
    },
    {
      "cell_type": "code",
      "source": [
        "model_5_eval = model_5.evaluate(test_tribrid_dataset)"
      ],
      "metadata": {
        "id": "TYyo8P8Gz_Pq",
        "colab": {
          "base_uri": "https://localhost:8080/"
        },
        "outputId": "d9f50e6c-e8a1-4d66-be1f-bb7d88bf1219"
      },
      "execution_count": null,
      "outputs": [
        {
          "output_type": "stream",
          "name": "stdout",
          "text": [
            "941/941 [==============================] - 42s 45ms/step - loss: 0.9151 - accuracy: 0.8453\n"
          ]
        }
      ]
    },
    {
      "cell_type": "markdown",
      "source": [
        "### **HELPER FUNCTION**"
      ],
      "metadata": {
        "id": "U_Maxiq9uWPL"
      }
    },
    {
      "cell_type": "code",
      "source": [
        "def plot_curves_eval(history, eval_acc=0.5, eval_loss=0.5, y_lim_loss = [0, 1], y_lim_acc=[0,1]):\n",
        "\n",
        "    '''\n",
        "    Uses seaborn and to plot curves\n",
        "    as scatterplot with regression\n",
        "    attrs:\n",
        "    history: tf history object\n",
        "    eval_acc: (float) evaluation accuracy\n",
        "    eval_loss: (float) evaluation loss\n",
        "    '''\n",
        "    from matplotlib import ticker\n",
        "\n",
        "    def forward(x):\n",
        "        return x**(1/3)\n",
        "\n",
        "\n",
        "    def inverse(x):\n",
        "        return x**3\n",
        "\n",
        "    # Create DataFrame\n",
        "    df = pd.DataFrame(history.history)\n",
        "    df.head()\n",
        "\n",
        "    # Setup the figure\n",
        "    plt.figure(figsize=(34, 11))\n",
        "    plt.suptitle(f'Model {history.model.name} metrics', fontsize='x-large')\n",
        "\n",
        "    # Setup loss axis\n",
        "    ax1 = plt.subplot(1, 2, 1)\n",
        "\n",
        "    # Plot grid\n",
        "    ax1.grid(visible=True, which='major', axis='y', linestyle='-', color='gray')\n",
        "    ax1.grid(visible=True, which='minor', axis='y', linestyle='--')\n",
        "\n",
        "    # Setup y scale\n",
        "    ax1.set_yscale('function', functions=(forward, inverse))\n",
        "\n",
        "    # Setup ylim\n",
        "    ax1.set_ylim(y_lim_loss[0], y_lim_loss[1])\n",
        "\n",
        "    # Setup ticks and grid\n",
        "    ax1.yaxis.set_major_locator(ticker.MultipleLocator(0.1))\n",
        "    ax1.yaxis.set_minor_locator(ticker.AutoMinorLocator(5))\n",
        "\n",
        "    ax1.xaxis.set_major_locator(ticker.MultipleLocator(1))\n",
        "\n",
        "    ax1.yaxis.set_ticks_position('left')\n",
        "    ax1.xaxis.set_ticks_position('bottom')\n",
        "\n",
        "    ax1.tick_params(which='major', width=1.00, length=5)\n",
        "    ax1.tick_params(which='minor', width=0.75, length=5)\n",
        "\n",
        "    # Plot loss\n",
        "    sns.lineplot(x='index', y='loss', data=df.reset_index(),\n",
        "                label='Training Loss')\n",
        "    sns.lineplot(x='index', y='val_loss', data=df.reset_index(),\n",
        "                label='Validation Loss')\n",
        "    plt.axhline(y=eval_loss, label='Evaluation Loss', color='black', linestyle=':', linewidth=2.5)\n",
        "    plt.legend()\n",
        "    plt.title('Loss Curves')\n",
        "\n",
        "    # Setup accuracy axis\n",
        "    ax2 = plt.subplot(1, 2, 2)\n",
        "\n",
        "    # Plot grid\n",
        "    ax2.grid(visible=True, which='major', axis='y', linestyle='-', color='gray')\n",
        "    ax2.grid(visible=True, which='minor', axis='y', linestyle='--')\n",
        "\n",
        "    # Setup yscale\n",
        "    ax2.set_yscale('function', functions=(inverse, forward))\n",
        "\n",
        "    # Setup ylim\n",
        "    ax2.set_ylim(y_lim_acc[0], y_lim_acc[1])\n",
        "\n",
        "    # Setup ticks\n",
        "    ax2.yaxis.set_major_locator(ticker.MultipleLocator(0.1))\n",
        "    ax2.yaxis.set_minor_locator(ticker.AutoMinorLocator(5))\n",
        "\n",
        "    ax2.xaxis.set_major_locator(ticker.MultipleLocator(1))\n",
        "\n",
        "    ax2.yaxis.set_ticks_position('left')\n",
        "    ax2.xaxis.set_ticks_position('bottom')\n",
        "\n",
        "    ax2.tick_params(which='major', width=1.00, length=5)\n",
        "    ax2.tick_params(which='minor', width=0.75, length=5)\n",
        "\n",
        "\n",
        "\n",
        "    # Plot Accuracy\n",
        "    sns.lineplot(x='index', y='accuracy', data=df.reset_index(),\n",
        "                label='Training Accuracy')\n",
        "    sns.lineplot(x='index', y='val_accuracy', data=df.reset_index(),\n",
        "                label='Validation Accuracy')\n",
        "    plt.axhline(y=eval_acc, label='Evaluation Accuracy', color='black', linestyle=':', linewidth=2.5)\n",
        "    plt.legend()\n",
        "    plt.title('Accuracy Curves')\n"
      ],
      "metadata": {
        "id": "HlCIUpK1rc9m"
      },
      "execution_count": null,
      "outputs": []
    },
    {
      "cell_type": "code",
      "source": [
        "plot_curves_eval(history_5, eval_acc=model_5_eval[1], eval_loss=model_5_eval[0], y_lim_loss=[0.8, 1.1], y_lim_acc=[0.65, 0.9])"
      ],
      "metadata": {
        "colab": {
          "base_uri": "https://localhost:8080/",
          "height": 571
        },
        "id": "pyx3NMt-sGE8",
        "outputId": "10face11-19b5-4425-ea0a-856b80f7a874"
      },
      "execution_count": null,
      "outputs": [
        {
          "output_type": "display_data",
          "data": {
            "text/plain": [
              "<Figure size 2448x792 with 2 Axes>"
            ],
            "image/png": "[encoded data removed]"
          },
          "metadata": {}
        }
      ]
    },
    {
      "cell_type": "markdown",
      "source": [
        "### **HELPER FUNCTION**"
      ],
      "metadata": {
        "id": "oX8SjQV7ueBR"
      }
    },
    {
      "cell_type": "code",
      "source": [
        "def create_crp(classification_report, class_names=None, experiment_name='Experiment', save_csv=False):\n",
        "\n",
        "  '''\n",
        "  Creates pandas DataFrame from sklearn classification_report\n",
        "  attrs:\n",
        "  classification_report: (dict)\n",
        "  class_names: (arr of str) list of class names\n",
        "  experiment_name: (str) a name that will be added\n",
        "    as an upper level of the column axis multiindex\n",
        "  '''\n",
        "\n",
        "  # Create DataFrame\n",
        "  df = pd.DataFrame(classification_report).transpose()\n",
        "  df.rename(index={f'{k}': f'{k}_{v.lower()}' for k, v in zip(range(len(class_names)), class_names )}, inplace=True)\n",
        "  if save_csv==True:\n",
        "    concat_df = pd.concat({f'{experiment_name}': df}, axis=1)\n",
        "    concat_df.to_csv()\n",
        "  return pd.concat({f'{experiment_name}': df}, axis=1)"
      ],
      "metadata": {
        "id": "k06enIWTsWE5"
      },
      "execution_count": null,
      "outputs": []
    },
    {
      "cell_type": "code",
      "source": [
        "from sklearn.metrics import classification_report"
      ],
      "metadata": {
        "id": "eXeLqc4eujE2"
      },
      "execution_count": null,
      "outputs": []
    },
    {
      "cell_type": "code",
      "source": [
        "# Let's predict on a dataset batched with remainder\n",
        "test_tribrid_dataset_remainder = tf.data.Dataset.zip((test_tribrid_data, test_tribrid_labels))\n",
        "test_tribrid_dataset_remainder = test_tribrid_dataset_remainder.batch(32, drop_remainder=False).prefetch(tf.data.AUTOTUNE)"
      ],
      "metadata": {
        "id": "9_p4UwRfy8r1"
      },
      "execution_count": null,
      "outputs": []
    },
    {
      "cell_type": "code",
      "source": [
        "model_5_pred_probs = model_5.predict(test_tribrid_dataset)"
      ],
      "metadata": {
        "colab": {
          "base_uri": "https://localhost:8080/"
        },
        "id": "7uA0opGkunoW",
        "outputId": "46ebdc54-2117-4190-dc52-f39ad6b7d9b3"
      },
      "execution_count": null,
      "outputs": [
        {
          "output_type": "stream",
          "name": "stdout",
          "text": [
            "941/941 [==============================] - 46s 49ms/step\n"
          ]
        }
      ]
    },
    {
      "cell_type": "code",
      "source": [
        "model_5_predictions = tf.argmax(model_5_pred_probs, axis=1)"
      ],
      "metadata": {
        "id": "-RODjDE8wX4z"
      },
      "execution_count": null,
      "outputs": []
    },
    {
      "cell_type": "code",
      "source": [
        "model_5_predictions[:5]"
      ],
      "metadata": {
        "colab": {
          "base_uri": "https://localhost:8080/"
        },
        "id": "UaNAKwq8xxli",
        "outputId": "914f33e1-1274-4bd5-9298-5b7a3e94ba70"
      },
      "execution_count": null,
      "outputs": [
        {
          "output_type": "execute_result",
          "data": {
            "text/plain": [
              "<tf.Tensor: shape=(5,), dtype=int64, numpy=array([3, 2, 2, 2, 4])>"
            ]
          },
          "metadata": {},
          "execution_count": 134
        }
      ]
    },
    {
      "cell_type": "code",
      "source": [
        "model_5_crp = classification_report(y_true=test_labels_encoded[:30112], y_pred=model_5_predictions, output_dict=True)"
      ],
      "metadata": {
        "id": "pgBegNvvx1r7"
      },
      "execution_count": null,
      "outputs": []
    },
    {
      "cell_type": "code",
      "source": [
        "model_5_crp_df = create_crp(model_5_crp, class_names=label_encoder.classes_, experiment_name='Model 5: word, character, positional embeddings v1')"
      ],
      "metadata": {
        "id": "TA1w20HZx_gl"
      },
      "execution_count": null,
      "outputs": []
    },
    {
      "cell_type": "code",
      "source": [
        "model_5_crp_df"
      ],
      "metadata": {
        "colab": {
          "base_uri": "https://localhost:8080/",
          "height": 332
        },
        "id": "nWDy5p6-yiuz",
        "outputId": "dff43366-9da7-4eb7-d327-19b2d5b5cb3a"
      },
      "execution_count": null,
      "outputs": [
        {
          "output_type": "execute_result",
          "data": {
            "text/plain": [
              "              Model 5: word, character, positional embeddings v1            \\\n",
              "                                                       precision    recall   \n",
              "0_background                                            0.733047  0.800719   \n",
              "1_conclusions                                           0.889071  0.831473   \n",
              "2_methods                                               0.874349  0.899373   \n",
              "3_objective                                             0.778424  0.516724   \n",
              "4_results                                               0.851593  0.892221   \n",
              "accuracy                                                0.845278  0.845278   \n",
              "macro avg                                               0.825297  0.788102   \n",
              "weighted avg                                            0.844842  0.845278   \n",
              "\n",
              "                                       \n",
              "               f1-score       support  \n",
              "0_background   0.765390   3618.000000  \n",
              "1_conclusions  0.859308   4569.000000  \n",
              "2_methods      0.886684   9888.000000  \n",
              "3_objective    0.621134   2332.000000  \n",
              "4_results      0.871434   9705.000000  \n",
              "accuracy       0.845278      0.845278  \n",
              "macro avg      0.800790  30112.000000  \n",
              "weighted avg   0.842476  30112.000000  "
            ],
            "text/html": [
              "\n",
              "  <div id=\"df-2300fa83-2c6f-41ec-a493-d62f63b4cb52\">\n",
              "    <div class=\"colab-df-container\">\n",
              "      <div>\n",
              "<style scoped>\n",
              "    .dataframe tbody tr th:only-of-type {\n",
              "        vertical-align: middle;\n",
              "    }\n",
              "\n",
              "    .dataframe tbody tr th {\n",
              "        vertical-align: top;\n",
              "    }\n",
              "\n",
              "    .dataframe thead tr th {\n",
              "        text-align: left;\n",
              "    }\n",
              "</style>\n",
              "<table border=\"1\" class=\"dataframe\">\n",
              "  <thead>\n",
              "    <tr>\n",
              "      <th></th>\n",
              "      <th colspan=\"4\" halign=\"left\">Model 5: word, character, positional embeddings v1</th>\n",
              "    </tr>\n",
              "    <tr>\n",
              "      <th></th>\n",
              "      <th>precision</th>\n",
              "      <th>recall</th>\n",
              "      <th>f1-score</th>\n",
              "      <th>support</th>\n",
              "    </tr>\n",
              "  </thead>\n",
              "  <tbody>\n",
              "    <tr>\n",
              "      <th>0_background</th>\n",
              "      <td>0.733047</td>\n",
              "      <td>0.800719</td>\n",
              "      <td>0.765390</td>\n",
              "      <td>3618.000000</td>\n",
              "    </tr>\n",
              "    <tr>\n",
              "      <th>1_conclusions</th>\n",
              "      <td>0.889071</td>\n",
              "      <td>0.831473</td>\n",
              "      <td>0.859308</td>\n",
              "      <td>4569.000000</td>\n",
              "    </tr>\n",
              "    <tr>\n",
              "      <th>2_methods</th>\n",
              "      <td>0.874349</td>\n",
              "      <td>0.899373</td>\n",
              "      <td>0.886684</td>\n",
              "      <td>9888.000000</td>\n",
              "    </tr>\n",
              "    <tr>\n",
              "      <th>3_objective</th>\n",
              "      <td>0.778424</td>\n",
              "      <td>0.516724</td>\n",
              "      <td>0.621134</td>\n",
              "      <td>2332.000000</td>\n",
              "    </tr>\n",
              "    <tr>\n",
              "      <th>4_results</th>\n",
              "      <td>0.851593</td>\n",
              "      <td>0.892221</td>\n",
              "      <td>0.871434</td>\n",
              "      <td>9705.000000</td>\n",
              "    </tr>\n",
              "    <tr>\n",
              "      <th>accuracy</th>\n",
              "      <td>0.845278</td>\n",
              "      <td>0.845278</td>\n",
              "      <td>0.845278</td>\n",
              "      <td>0.845278</td>\n",
              "    </tr>\n",
              "    <tr>\n",
              "      <th>macro avg</th>\n",
              "      <td>0.825297</td>\n",
              "      <td>0.788102</td>\n",
              "      <td>0.800790</td>\n",
              "      <td>30112.000000</td>\n",
              "    </tr>\n",
              "    <tr>\n",
              "      <th>weighted avg</th>\n",
              "      <td>0.844842</td>\n",
              "      <td>0.845278</td>\n",
              "      <td>0.842476</td>\n",
              "      <td>30112.000000</td>\n",
              "    </tr>\n",
              "  </tbody>\n",
              "</table>\n",
              "</div>\n",
              "      <button class=\"colab-df-convert\" onclick=\"convertToInteractive('df-2300fa83-2c6f-41ec-a493-d62f63b4cb52')\"\n",
              "              title=\"Convert this dataframe to an interactive table.\"\n",
              "              style=\"display:none;\">\n",
              "        \n",
              "  <svg xmlns=\"http://www.w3.org/2000/svg\" height=\"24px\"viewBox=\"0 0 24 24\"\n",
              "       width=\"24px\">\n",
              "    <path d=\"M0 0h24v24H0V0z\" fill=\"none\"/>\n",
              "    <path d=\"M18.56 5.44l.94 2.06.94-2.06 2.06-.94-2.06-.94-.94-2.06-.94 2.06-2.06.94zm-11 1L8.5 8.5l.94-2.06 2.06-.94-2.06-.94L8.5 2.5l-.94 2.06-2.06.94zm10 10l.94 2.06.94-2.06 2.06-.94-2.06-.94-.94-2.06-.94 2.06-2.06.94z\"/><path d=\"M17.41 7.96l-1.37-1.37c-.4-.4-.92-.59-1.43-.59-.52 0-1.04.2-1.43.59L10.3 9.45l-7.72 7.72c-.78.78-.78 2.05 0 2.83L4 21.41c.39.39.9.59 1.41.59.51 0 1.02-.2 1.41-.59l7.78-7.78 2.81-2.81c.8-.78.8-2.07 0-2.86zM5.41 20L4 18.59l7.72-7.72 1.47 1.35L5.41 20z\"/>\n",
              "  </svg>\n",
              "      </button>\n",
              "      \n",
              "  <style>\n",
              "    .colab-df-container {\n",
              "      display:flex;\n",
              "      flex-wrap:wrap;\n",
              "      gap: 12px;\n",
              "    }\n",
              "\n",
              "    .colab-df-convert {\n",
              "      background-color: #E8F0FE;\n",
              "      border: none;\n",
              "      border-radius: 50%;\n",
              "      cursor: pointer;\n",
              "      display: none;\n",
              "      fill: #1967D2;\n",
              "      height: 32px;\n",
              "      padding: 0 0 0 0;\n",
              "      width: 32px;\n",
              "    }\n",
              "\n",
              "    .colab-df-convert:hover {\n",
              "      background-color: #E2EBFA;\n",
              "      box-shadow: 0px 1px 2px rgba(60, 64, 67, 0.3), 0px 1px 3px 1px rgba(60, 64, 67, 0.15);\n",
              "      fill: #174EA6;\n",
              "    }\n",
              "\n",
              "    [theme=dark] .colab-df-convert {\n",
              "      background-color: #3B4455;\n",
              "      fill: #D2E3FC;\n",
              "    }\n",
              "\n",
              "    [theme=dark] .colab-df-convert:hover {\n",
              "      background-color: #434B5C;\n",
              "      box-shadow: 0px 1px 3px 1px rgba(0, 0, 0, 0.15);\n",
              "      filter: drop-shadow(0px 1px 2px rgba(0, 0, 0, 0.3));\n",
              "      fill: #FFFFFF;\n",
              "    }\n",
              "  </style>\n",
              "\n",
              "      <script>\n",
              "        const buttonEl =\n",
              "          document.querySelector('#df-2300fa83-2c6f-41ec-a493-d62f63b4cb52 button.colab-df-convert');\n",
              "        buttonEl.style.display =\n",
              "          google.colab.kernel.accessAllowed ? 'block' : 'none';\n",
              "\n",
              "        async function convertToInteractive(key) {\n",
              "          const element = document.querySelector('#df-2300fa83-2c6f-41ec-a493-d62f63b4cb52');\n",
              "          const dataTable =\n",
              "            await google.colab.kernel.invokeFunction('convertToInteractive',\n",
              "                                                     [key], {});\n",
              "          if (!dataTable) return;\n",
              "\n",
              "          const docLinkHtml = 'Like what you see? Visit the ' +\n",
              "            '<a target=\"_blank\" href=https://colab.research.google.com/notebooks/data_table.ipynb>data table notebook</a>'\n",
              "            + ' to learn more about interactive tables.';\n",
              "          element.innerHTML = '';\n",
              "          dataTable['output_type'] = 'display_data';\n",
              "          await google.colab.output.renderOutput(dataTable, element);\n",
              "          const docLink = document.createElement('div');\n",
              "          docLink.innerHTML = docLinkHtml;\n",
              "          element.appendChild(docLink);\n",
              "        }\n",
              "      </script>\n",
              "    </div>\n",
              "  </div>\n",
              "  "
            ]
          },
          "metadata": {},
          "execution_count": 138
        }
      ]
    },
    {
      "cell_type": "code",
      "source": [],
      "metadata": {
        "id": "4epEANg3yrJI"
      },
      "execution_count": null,
      "outputs": []
    }
  ]
}