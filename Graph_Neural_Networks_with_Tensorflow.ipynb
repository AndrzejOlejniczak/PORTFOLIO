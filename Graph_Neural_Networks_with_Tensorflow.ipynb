{
  "nbformat": 4,
  "nbformat_minor": 0,
  "metadata": {
    "colab": {
      "provenance": [],
      "authorship_tag": "ABX9TyOD3HJAc9bXVuDa9Td3vzsZ",
      "include_colab_link": true
    },
    "kernelspec": {
      "name": "python3",
      "display_name": "Python 3"
    },
    "language_info": {
      "name": "python"
    }
  },
  "cells": [
    {
      "cell_type": "markdown",
      "metadata": {
        "id": "view-in-github",
        "colab_type": "text"
      },
      "source": [
        "<a href=\"https://colab.research.google.com/github/AndrzejOlejniczak/PORTFOLIO/blob/main/Graph_Neural_Networks_with_Tensorflow.ipynb\" target=\"_parent\"><img src=\"https://colab.research.google.com/assets/colab-badge.svg\" alt=\"Open In Colab\"/></a>"
      ]
    },
    {
      "cell_type": "markdown",
      "source": [
        "# Graph Neural Networks in Tensorflow\n",
        "This notebook follows this TensorFlow Exercise: https://www.youtube.com/watch?v=8owQBFAHw7E&t=1071s"
      ],
      "metadata": {
        "id": "85VFj0LWdyyV"
      }
    },
    {
      "cell_type": "markdown",
      "source": [
        "## 0. Prepare the environment"
      ],
      "metadata": {
        "id": "8gid-0i3eXVm"
      }
    },
    {
      "cell_type": "code",
      "source": [
        "# Install necessary modules\n",
        "!pip install spektral"
      ],
      "metadata": {
        "colab": {
          "base_uri": "https://localhost:8080/"
        },
        "id": "eS6wDH6we2Q7",
        "outputId": "2031deeb-ddb4-4c41-c889-7d8cf43aad1e"
      },
      "execution_count": null,
      "outputs": [
        {
          "output_type": "stream",
          "name": "stdout",
          "text": [
            "Looking in indexes: https://pypi.org/simple, https://us-python.pkg.dev/colab-wheels/public/simple/\n",
            "Requirement already satisfied: spektral in /usr/local/lib/python3.10/dist-packages (1.2.0)\n",
            "Requirement already satisfied: numpy in /usr/local/lib/python3.10/dist-packages (from spektral) (1.22.4)\n",
            "Requirement already satisfied: lxml in /usr/local/lib/python3.10/dist-packages (from spektral) (4.9.2)\n",
            "Requirement already satisfied: tensorflow>=2.2.0 in /usr/local/lib/python3.10/dist-packages (from spektral) (2.12.0)\n",
            "Requirement already satisfied: joblib in /usr/local/lib/python3.10/dist-packages (from spektral) (1.2.0)\n",
            "Requirement already satisfied: tqdm in /usr/local/lib/python3.10/dist-packages (from spektral) (4.65.0)\n",
            "Requirement already satisfied: pandas in /usr/local/lib/python3.10/dist-packages (from spektral) (1.5.3)\n",
            "Requirement already satisfied: scipy in /usr/local/lib/python3.10/dist-packages (from spektral) (1.10.1)\n",
            "Requirement already satisfied: scikit-learn in /usr/local/lib/python3.10/dist-packages (from spektral) (1.2.2)\n",
            "Requirement already satisfied: networkx in /usr/local/lib/python3.10/dist-packages (from spektral) (3.1)\n",
            "Requirement already satisfied: requests in /usr/local/lib/python3.10/dist-packages (from spektral) (2.27.1)\n",
            "Requirement already satisfied: opt-einsum>=2.3.2 in /usr/local/lib/python3.10/dist-packages (from tensorflow>=2.2.0->spektral) (3.3.0)\n",
            "Requirement already satisfied: wrapt<1.15,>=1.11.0 in /usr/local/lib/python3.10/dist-packages (from tensorflow>=2.2.0->spektral) (1.14.1)\n",
            "Requirement already satisfied: absl-py>=1.0.0 in /usr/local/lib/python3.10/dist-packages (from tensorflow>=2.2.0->spektral) (1.4.0)\n",
            "Requirement already satisfied: tensorflow-estimator<2.13,>=2.12.0 in /usr/local/lib/python3.10/dist-packages (from tensorflow>=2.2.0->spektral) (2.12.0)\n",
            "Requirement already satisfied: protobuf!=4.21.0,!=4.21.1,!=4.21.2,!=4.21.3,!=4.21.4,!=4.21.5,<5.0.0dev,>=3.20.3 in /usr/local/lib/python3.10/dist-packages (from tensorflow>=2.2.0->spektral) (3.20.3)\n",
            "Requirement already satisfied: six>=1.12.0 in /usr/local/lib/python3.10/dist-packages (from tensorflow>=2.2.0->spektral) (1.16.0)\n",
            "Requirement already satisfied: jax>=0.3.15 in /usr/local/lib/python3.10/dist-packages (from tensorflow>=2.2.0->spektral) (0.4.8)\n",
            "Requirement already satisfied: tensorboard<2.13,>=2.12 in /usr/local/lib/python3.10/dist-packages (from tensorflow>=2.2.0->spektral) (2.12.2)\n",
            "Requirement already satisfied: google-pasta>=0.1.1 in /usr/local/lib/python3.10/dist-packages (from tensorflow>=2.2.0->spektral) (0.2.0)\n",
            "Requirement already satisfied: keras<2.13,>=2.12.0 in /usr/local/lib/python3.10/dist-packages (from tensorflow>=2.2.0->spektral) (2.12.0)\n",
            "Requirement already satisfied: gast<=0.4.0,>=0.2.1 in /usr/local/lib/python3.10/dist-packages (from tensorflow>=2.2.0->spektral) (0.4.0)\n",
            "Requirement already satisfied: packaging in /usr/local/lib/python3.10/dist-packages (from tensorflow>=2.2.0->spektral) (23.1)\n",
            "Requirement already satisfied: typing-extensions>=3.6.6 in /usr/local/lib/python3.10/dist-packages (from tensorflow>=2.2.0->spektral) (4.5.0)\n",
            "Requirement already satisfied: tensorflow-io-gcs-filesystem>=0.23.1 in /usr/local/lib/python3.10/dist-packages (from tensorflow>=2.2.0->spektral) (0.32.0)\n",
            "Requirement already satisfied: astunparse>=1.6.0 in /usr/local/lib/python3.10/dist-packages (from tensorflow>=2.2.0->spektral) (1.6.3)\n",
            "Requirement already satisfied: h5py>=2.9.0 in /usr/local/lib/python3.10/dist-packages (from tensorflow>=2.2.0->spektral) (3.8.0)\n",
            "Requirement already satisfied: termcolor>=1.1.0 in /usr/local/lib/python3.10/dist-packages (from tensorflow>=2.2.0->spektral) (2.3.0)\n",
            "Requirement already satisfied: grpcio<2.0,>=1.24.3 in /usr/local/lib/python3.10/dist-packages (from tensorflow>=2.2.0->spektral) (1.54.0)\n",
            "Requirement already satisfied: setuptools in /usr/local/lib/python3.10/dist-packages (from tensorflow>=2.2.0->spektral) (67.7.2)\n",
            "Requirement already satisfied: flatbuffers>=2.0 in /usr/local/lib/python3.10/dist-packages (from tensorflow>=2.2.0->spektral) (23.3.3)\n",
            "Requirement already satisfied: libclang>=13.0.0 in /usr/local/lib/python3.10/dist-packages (from tensorflow>=2.2.0->spektral) (16.0.0)\n",
            "Requirement already satisfied: pytz>=2020.1 in /usr/local/lib/python3.10/dist-packages (from pandas->spektral) (2022.7.1)\n",
            "Requirement already satisfied: python-dateutil>=2.8.1 in /usr/local/lib/python3.10/dist-packages (from pandas->spektral) (2.8.2)\n",
            "Requirement already satisfied: charset-normalizer~=2.0.0 in /usr/local/lib/python3.10/dist-packages (from requests->spektral) (2.0.12)\n",
            "Requirement already satisfied: urllib3<1.27,>=1.21.1 in /usr/local/lib/python3.10/dist-packages (from requests->spektral) (1.26.15)\n",
            "Requirement already satisfied: certifi>=2017.4.17 in /usr/local/lib/python3.10/dist-packages (from requests->spektral) (2022.12.7)\n",
            "Requirement already satisfied: idna<4,>=2.5 in /usr/local/lib/python3.10/dist-packages (from requests->spektral) (3.4)\n",
            "Requirement already satisfied: threadpoolctl>=2.0.0 in /usr/local/lib/python3.10/dist-packages (from scikit-learn->spektral) (3.1.0)\n",
            "Requirement already satisfied: wheel<1.0,>=0.23.0 in /usr/local/lib/python3.10/dist-packages (from astunparse>=1.6.0->tensorflow>=2.2.0->spektral) (0.40.0)\n",
            "Requirement already satisfied: ml-dtypes>=0.0.3 in /usr/local/lib/python3.10/dist-packages (from jax>=0.3.15->tensorflow>=2.2.0->spektral) (0.1.0)\n",
            "Requirement already satisfied: tensorboard-plugin-wit>=1.6.0 in /usr/local/lib/python3.10/dist-packages (from tensorboard<2.13,>=2.12->tensorflow>=2.2.0->spektral) (1.8.1)\n",
            "Requirement already satisfied: google-auth<3,>=1.6.3 in /usr/local/lib/python3.10/dist-packages (from tensorboard<2.13,>=2.12->tensorflow>=2.2.0->spektral) (2.17.3)\n",
            "Requirement already satisfied: tensorboard-data-server<0.8.0,>=0.7.0 in /usr/local/lib/python3.10/dist-packages (from tensorboard<2.13,>=2.12->tensorflow>=2.2.0->spektral) (0.7.0)\n",
            "Requirement already satisfied: werkzeug>=1.0.1 in /usr/local/lib/python3.10/dist-packages (from tensorboard<2.13,>=2.12->tensorflow>=2.2.0->spektral) (2.3.0)\n",
            "Requirement already satisfied: markdown>=2.6.8 in /usr/local/lib/python3.10/dist-packages (from tensorboard<2.13,>=2.12->tensorflow>=2.2.0->spektral) (3.4.3)\n",
            "Requirement already satisfied: google-auth-oauthlib<1.1,>=0.5 in /usr/local/lib/python3.10/dist-packages (from tensorboard<2.13,>=2.12->tensorflow>=2.2.0->spektral) (1.0.0)\n",
            "Requirement already satisfied: pyasn1-modules>=0.2.1 in /usr/local/lib/python3.10/dist-packages (from google-auth<3,>=1.6.3->tensorboard<2.13,>=2.12->tensorflow>=2.2.0->spektral) (0.3.0)\n",
            "Requirement already satisfied: cachetools<6.0,>=2.0.0 in /usr/local/lib/python3.10/dist-packages (from google-auth<3,>=1.6.3->tensorboard<2.13,>=2.12->tensorflow>=2.2.0->spektral) (5.3.0)\n",
            "Requirement already satisfied: rsa<5,>=3.1.4 in /usr/local/lib/python3.10/dist-packages (from google-auth<3,>=1.6.3->tensorboard<2.13,>=2.12->tensorflow>=2.2.0->spektral) (4.9)\n",
            "Requirement already satisfied: requests-oauthlib>=0.7.0 in /usr/local/lib/python3.10/dist-packages (from google-auth-oauthlib<1.1,>=0.5->tensorboard<2.13,>=2.12->tensorflow>=2.2.0->spektral) (1.3.1)\n",
            "Requirement already satisfied: MarkupSafe>=2.1.1 in /usr/local/lib/python3.10/dist-packages (from werkzeug>=1.0.1->tensorboard<2.13,>=2.12->tensorflow>=2.2.0->spektral) (2.1.2)\n",
            "Requirement already satisfied: pyasn1<0.6.0,>=0.4.6 in /usr/local/lib/python3.10/dist-packages (from pyasn1-modules>=0.2.1->google-auth<3,>=1.6.3->tensorboard<2.13,>=2.12->tensorflow>=2.2.0->spektral) (0.5.0)\n",
            "Requirement already satisfied: oauthlib>=3.0.0 in /usr/local/lib/python3.10/dist-packages (from requests-oauthlib>=0.7.0->google-auth-oauthlib<1.1,>=0.5->tensorboard<2.13,>=2.12->tensorflow>=2.2.0->spektral) (3.2.2)\n"
          ]
        }
      ]
    },
    {
      "cell_type": "code",
      "source": [
        "# Import necessary modules\n",
        "import numpy as np\n",
        "import tensorflow as tf\n",
        "import spektral"
      ],
      "metadata": {
        "id": "mNEPKZD5eXBD"
      },
      "execution_count": null,
      "outputs": []
    },
    {
      "cell_type": "markdown",
      "source": [
        "## 1. Download and prepare the data"
      ],
      "metadata": {
        "id": "bgFPuANYeRYA"
      }
    },
    {
      "cell_type": "code",
      "execution_count": null,
      "metadata": {
        "id": "HLQZ78cSdTMK"
      },
      "outputs": [],
      "source": [
        "# Download adjacency matrix, feature matrix, labels and masks for dicriminating train, validation and test subsets\n",
        "cora_dataset= spektral.datasets.citation.Citation(name='cora')\n",
        "\n",
        "# Convert features and adjancency marix from sparse to dense representation\n",
        "test_mask = cora_dataset.mask_te\n",
        "train_mask = cora_dataset.mask_tr\n",
        "val_mask = cora_dataset.mask_va\n",
        "graph = cora_dataset.graphs[0]\n",
        "features = graph.x\n",
        "adj = graph.a\n",
        "labels = graph.y\n",
        "\n",
        "# Convert adjacency matrix to dense representation\n",
        "adj = adj.todense() + np.eye(adj.shape[0])\n",
        "\n",
        "# Convert features and adjacency matrix to tf.float32\n",
        "features = features.astype('float32')\n",
        "adj = adj.astype('float32')\n"
      ]
    },
    {
      "cell_type": "code",
      "source": [
        "# Check the data\n",
        "print(features.shape)\n",
        "print(adj.shape)\n",
        "print(labels.shape)\n",
        "\n",
        "# Check the masks\n",
        "print(np.sum(train_mask))\n",
        "print(np.sum(val_mask))\n",
        "print(np.sum(test_mask))"
      ],
      "metadata": {
        "colab": {
          "base_uri": "https://localhost:8080/"
        },
        "id": "pd3fThGMgNiD",
        "outputId": "7a925744-2168-4366-c37e-a87cbba33817"
      },
      "execution_count": null,
      "outputs": [
        {
          "output_type": "stream",
          "name": "stdout",
          "text": [
            "(2708, 1433)\n",
            "(2708, 2708)\n",
            "(2708, 7)\n",
            "140\n",
            "500\n",
            "1000\n"
          ]
        }
      ]
    },
    {
      "cell_type": "markdown",
      "source": [
        "## 2. Build the model"
      ],
      "metadata": {
        "id": "YHl6XLajizSp"
      }
    },
    {
      "cell_type": "markdown",
      "source": [
        "### 2.1. Define masekd loss and masked accuracy functions"
      ],
      "metadata": {
        "id": "m6RwvFko-1Gx"
      }
    },
    {
      "cell_type": "code",
      "source": [
        "# Define a function that computes softmax cross entropy on masked data\n",
        "def masked_softmax_cross_entropy(logits, labels, mask):\n",
        "  loss = tf.nn.softmax_cross_entropy_with_logits(logits=logits, labels=labels)\n",
        "  mask = tf.cast(mask, dtype= tf.float32)\n",
        "  mask /= tf.reduce_mean(mask)\n",
        "  loss *= mask\n",
        "  return tf.reduce_mean(loss)"
      ],
      "metadata": {
        "id": "YJmkYS_sijVX"
      },
      "execution_count": null,
      "outputs": []
    },
    {
      "cell_type": "code",
      "source": [
        "# Define function that computes accuracy on masekd data\n",
        "def masked_accuracy(logits, labels, mask):\n",
        "  correct_prediction = tf.equal(tf.argmax(logits, 1), tf.argmax(labels, 1))\n",
        "  accuracy_all = tf.cast(correct_prediction, dtype=tf.float32)\n",
        "  mask = tf.cast(mask, dtype=tf.float32)\n",
        "  mask /= tf.reduce_mean(mask)\n",
        "  accuracy_all *= mask\n",
        "  return tf.reduce_mean(accuracy_all)"
      ],
      "metadata": {
        "id": "oU8ippI-6R24"
      },
      "execution_count": null,
      "outputs": []
    },
    {
      "cell_type": "markdown",
      "source": [
        "### 2.2. Define graph neural network layer\n",
        "Graph neuralnetwork layer looks at feature matrix, adjacency matrix, some transformation to apply to the nodes and activation function"
      ],
      "metadata": {
        "id": "7cLqHjps8Ewi"
      }
    },
    {
      "cell_type": "code",
      "source": [
        "# Define graph neural network layer\n",
        "def gnn(fts, adj, transform, activation):\n",
        "  seq_fts = transform(fts)\n",
        "  ret_fts = tf.matmul(adj, seq_fts)\n",
        "  return activation(ret_fts)"
      ],
      "metadata": {
        "id": "L_gBf2Px71ge"
      },
      "execution_count": null,
      "outputs": []
    },
    {
      "cell_type": "markdown",
      "source": [
        "### 2.3. Build a model without tramsformation"
      ],
      "metadata": {
        "id": "0BPwBSDt-qCr"
      }
    },
    {
      "cell_type": "code",
      "source": [
        "def train_cora(fts, adj, gnn_fn, units, epochs, lr):\n",
        "  lyr_1 = tf.keras.layers.Dense(units)\n",
        "  lyr_2 = tf.keras.layers.Dense(7) # Cora dataset has 7 classes\n",
        "\n",
        "  def cora_gnn(fts, adj):\n",
        "    hidden = gnn_fn(fts, adj, lyr_1, tf.nn.relu)\n",
        "    logits = gnn_fn(hidden, adj, lyr_2, tf.identity)\n",
        "    return logits\n",
        "\n",
        "  optimizer = tf.keras.optimizers.Adam(learning_rate=lr)\n",
        "\n",
        "  best_accuracy = 0.0\n",
        "  for ep in range(epochs + 1):\n",
        "    with tf.GradientTape() as t:\n",
        "      logits = cora_gnn(fts, adj)\n",
        "      loss = masked_softmax_cross_entropy(logits, labels, train_mask)\n",
        "\n",
        "    variables = t.watched_variables()\n",
        "    grads = t.gradient(loss, variables)\n",
        "    optimizer.apply_gradients(zip(grads, variables))\n",
        "\n",
        "    logits = cora_gnn(fts, adj)\n",
        "    val_accuracy = masked_accuracy(logits, labels, val_mask)\n",
        "    test_accuracy = masked_accuracy(logits, labels, test_mask)\n",
        "\n",
        "    if val_accuracy > best_accuracy:\n",
        "      best_accuracy = val_accuracy\n",
        "      print('Epoch: ', ep, '| Training loss: ', loss.numpy(), '| Val accuracy: ', val_accuracy.numpy(), '| Test accuracy: ', test_accuracy.numpy())"
      ],
      "metadata": {
        "id": "zvE44RBw84Xs"
      },
      "execution_count": null,
      "outputs": []
    },
    {
      "cell_type": "code",
      "source": [
        "# Train on the data\n",
        "train_cora(features, adj, gnn, 32, 200, 0.01)"
      ],
      "metadata": {
        "colab": {
          "base_uri": "https://localhost:8080/"
        },
        "id": "xEJiDIVNCNUF",
        "outputId": "12683a85-5b15-4d24-feeb-d52d9631fe07"
      },
      "execution_count": null,
      "outputs": [
        {
          "output_type": "stream",
          "name": "stdout",
          "text": [
            "Epoch:  0 | Training loss:  5.1528645 | Val accuracy:  0.116 | Test accuracy:  0.144\n",
            "Epoch:  1 | Training loss:  8.18531 | Val accuracy:  0.332 | Test accuracy:  0.377\n",
            "Epoch:  2 | Training loss:  3.6909916 | Val accuracy:  0.378 | Test accuracy:  0.405\n",
            "Epoch:  3 | Training loss:  2.9333885 | Val accuracy:  0.48599997 | Test accuracy:  0.529\n",
            "Epoch:  4 | Training loss:  1.9079802 | Val accuracy:  0.534 | Test accuracy:  0.57199997\n",
            "Epoch:  5 | Training loss:  0.89222723 | Val accuracy:  0.626 | Test accuracy:  0.655\n",
            "Epoch:  6 | Training loss:  0.5559627 | Val accuracy:  0.63600004 | Test accuracy:  0.63699996\n",
            "Epoch:  7 | Training loss:  0.5389886 | Val accuracy:  0.642 | Test accuracy:  0.64599997\n",
            "Epoch:  9 | Training loss:  0.41717646 | Val accuracy:  0.662 | Test accuracy:  0.672\n",
            "Epoch:  10 | Training loss:  0.3469951 | Val accuracy:  0.67399997 | Test accuracy:  0.701\n",
            "Epoch:  11 | Training loss:  0.2948745 | Val accuracy:  0.684 | Test accuracy:  0.718\n",
            "Epoch:  12 | Training loss:  0.2617631 | Val accuracy:  0.688 | Test accuracy:  0.729\n",
            "Epoch:  14 | Training loss:  0.19191185 | Val accuracy:  0.696 | Test accuracy:  0.69899994\n",
            "Epoch:  19 | Training loss:  0.08120787 | Val accuracy:  0.6999999 | Test accuracy:  0.71\n",
            "Epoch:  20 | Training loss:  0.0693371 | Val accuracy:  0.71 | Test accuracy:  0.714\n",
            "Epoch:  21 | Training loss:  0.059384238 | Val accuracy:  0.71199995 | Test accuracy:  0.717\n",
            "Epoch:  26 | Training loss:  0.027352642 | Val accuracy:  0.716 | Test accuracy:  0.72599995\n",
            "Epoch:  28 | Training loss:  0.02062471 | Val accuracy:  0.718 | Test accuracy:  0.731\n",
            "Epoch:  29 | Training loss:  0.018042041 | Val accuracy:  0.72 | Test accuracy:  0.73199993\n"
          ]
        }
      ]
    },
    {
      "cell_type": "markdown",
      "source": [
        "_Experiment_: Below is to check how the structure of the graph affects information transformations. How does removing edges affect the training?"
      ],
      "metadata": {
        "id": "VGCvRqMoNGVt"
      }
    },
    {
      "cell_type": "code",
      "source": [
        "# Train on the data using only identity matrix insead of adjacency matrix\n",
        "train_cora(features, tf.eye(adj.shape[0]), gnn, 32, 200, 0.01)"
      ],
      "metadata": {
        "colab": {
          "base_uri": "https://localhost:8080/"
        },
        "id": "vkFo2_9kCiFe",
        "outputId": "c648a8f9-a00e-4c64-ac23-f7b353e3f206"
      },
      "execution_count": null,
      "outputs": [
        {
          "output_type": "stream",
          "name": "stdout",
          "text": [
            "Epoch:  0 | Training loss:  1.9456255 | Val accuracy:  0.22999999 | Test accuracy:  0.24499999\n",
            "Epoch:  1 | Training loss:  1.6622331 | Val accuracy:  0.31 | Test accuracy:  0.339\n",
            "Epoch:  2 | Training loss:  1.4103558 | Val accuracy:  0.36999997 | Test accuracy:  0.383\n",
            "Epoch:  3 | Training loss:  1.1556315 | Val accuracy:  0.41400003 | Test accuracy:  0.41199994\n",
            "Epoch:  4 | Training loss:  0.9103684 | Val accuracy:  0.44599998 | Test accuracy:  0.43799996\n",
            "Epoch:  5 | Training loss:  0.6932017 | Val accuracy:  0.464 | Test accuracy:  0.45499995\n",
            "Epoch:  6 | Training loss:  0.514405 | Val accuracy:  0.484 | Test accuracy:  0.47199997\n",
            "Epoch:  7 | Training loss:  0.37412757 | Val accuracy:  0.49199998 | Test accuracy:  0.49099997\n",
            "Epoch:  8 | Training loss:  0.27071223 | Val accuracy:  0.52 | Test accuracy:  0.509\n",
            "Epoch:  9 | Training loss:  0.19766565 | Val accuracy:  0.54599994 | Test accuracy:  0.51299995\n",
            "Epoch:  10 | Training loss:  0.14696161 | Val accuracy:  0.55799997 | Test accuracy:  0.525\n",
            "Epoch:  11 | Training loss:  0.11153021 | Val accuracy:  0.576 | Test accuracy:  0.52599996\n",
            "Epoch:  12 | Training loss:  0.08637382 | Val accuracy:  0.57799995 | Test accuracy:  0.53199995\n"
          ]
        }
      ]
    },
    {
      "cell_type": "markdown",
      "source": [
        "## 2.4. Build a model dividing node adjacency with the node degree"
      ],
      "metadata": {
        "id": "3mSBu3EXpJFw"
      }
    },
    {
      "cell_type": "code",
      "source": [
        "# Compute graph degree vector\n",
        "deg = tf.reduce_sum(adj, axis=-1)\n",
        "deg.shape"
      ],
      "metadata": {
        "id": "oT4KKrybIm1v",
        "colab": {
          "base_uri": "https://localhost:8080/"
        },
        "outputId": "8641faf8-74da-4070-84cd-cd25d4e5a462"
      },
      "execution_count": null,
      "outputs": [
        {
          "output_type": "execute_result",
          "data": {
            "text/plain": [
              "TensorShape([2708])"
            ]
          },
          "metadata": {},
          "execution_count": 61
        }
      ]
    },
    {
      "cell_type": "code",
      "source": [
        "# Train\n",
        "train_cora(features, adj / deg, gnn, 32, 200, 0.01 )"
      ],
      "metadata": {
        "colab": {
          "base_uri": "https://localhost:8080/"
        },
        "id": "H6MKg7kVp8b3",
        "outputId": "bb6db693-54b5-41be-b1dd-44d5d7a5bbb6"
      },
      "execution_count": null,
      "outputs": [
        {
          "output_type": "stream",
          "name": "stdout",
          "text": [
            "Epoch:  0 | Training loss:  1.9413778 | Val accuracy:  0.466 | Test accuracy:  0.501\n",
            "Epoch:  1 | Training loss:  1.7309524 | Val accuracy:  0.584 | Test accuracy:  0.58699995\n",
            "Epoch:  2 | Training loss:  1.4966334 | Val accuracy:  0.652 | Test accuracy:  0.66499996\n",
            "Epoch:  3 | Training loss:  1.2567844 | Val accuracy:  0.70000005 | Test accuracy:  0.71699995\n",
            "Epoch:  4 | Training loss:  1.0330662 | Val accuracy:  0.74799997 | Test accuracy:  0.76800007\n",
            "Epoch:  6 | Training loss:  0.67012167 | Val accuracy:  0.752 | Test accuracy:  0.794\n",
            "Epoch:  7 | Training loss:  0.5334632 | Val accuracy:  0.762 | Test accuracy:  0.79699993\n",
            "Epoch:  8 | Training loss:  0.42164192 | Val accuracy:  0.782 | Test accuracy:  0.79699993\n"
          ]
        }
      ]
    },
    {
      "cell_type": "markdown",
      "source": [
        "## 2.5. Build a model using symmetrical degree"
      ],
      "metadata": {
        "id": "wVRHwPgCqhJX"
      }
    },
    {
      "cell_type": "code",
      "source": [
        "# Compute normalized degree\n",
        "norm_deg = tf.linalg.diag(1.0 / tf.sqrt(deg))\n",
        "\n",
        "# Compute normalized adjacency\n",
        "norm_adj = tf.matmul(norm_deg, tf.matmul(adj, norm_deg))"
      ],
      "metadata": {
        "id": "QkPWHI2OqXMx"
      },
      "execution_count": null,
      "outputs": []
    },
    {
      "cell_type": "code",
      "source": [
        "# Train\n",
        "train_cora(features, norm_adj, gnn, 32, 200, 0.01)"
      ],
      "metadata": {
        "colab": {
          "base_uri": "https://localhost:8080/"
        },
        "id": "eqYudf1MrZhJ",
        "outputId": "fb6a41eb-9d64-4fe1-a0b9-81cdd4fe76da"
      },
      "execution_count": null,
      "outputs": [
        {
          "output_type": "stream",
          "name": "stdout",
          "text": [
            "Epoch:  0 | Training loss:  1.9467878 | Val accuracy:  0.53 | Test accuracy:  0.564\n",
            "Epoch:  1 | Training loss:  1.7959969 | Val accuracy:  0.626 | Test accuracy:  0.667\n",
            "Epoch:  2 | Training loss:  1.615622 | Val accuracy:  0.658 | Test accuracy:  0.709\n",
            "Epoch:  3 | Training loss:  1.4091548 | Val accuracy:  0.68 | Test accuracy:  0.72199994\n",
            "Epoch:  4 | Training loss:  1.2008429 | Val accuracy:  0.722 | Test accuracy:  0.746\n",
            "Epoch:  5 | Training loss:  1.0074307 | Val accuracy:  0.75600004 | Test accuracy:  0.7779999\n",
            "Epoch:  6 | Training loss:  0.8323209 | Val accuracy:  0.76199996 | Test accuracy:  0.78699994\n",
            "Epoch:  7 | Training loss:  0.6759271 | Val accuracy:  0.77800006 | Test accuracy:  0.79699993\n",
            "Epoch:  11 | Training loss:  0.2630596 | Val accuracy:  0.786 | Test accuracy:  0.78900003\n",
            "Epoch:  12 | Training loss:  0.20421101 | Val accuracy:  0.79 | Test accuracy:  0.79499996\n",
            "Epoch:  13 | Training loss:  0.15813668 | Val accuracy:  0.79200006 | Test accuracy:  0.798\n",
            "Epoch:  14 | Training loss:  0.12256219 | Val accuracy:  0.79399997 | Test accuracy:  0.80099994\n"
          ]
        }
      ]
    },
    {
      "cell_type": "code",
      "source": [],
      "metadata": {
        "id": "aLDM6v1grgNS"
      },
      "execution_count": null,
      "outputs": []
    }
  ]
}